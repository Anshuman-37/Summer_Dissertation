{
  "nbformat": 4,
  "nbformat_minor": 0,
  "metadata": {
    "colab": {
      "name": "First_Model_Try.ipynb",
      "provenance": [],
      "machine_shape": "hm",
      "authorship_tag": "ABX9TyP8X2e2w0du3Uyj4bVO+XIT",
      "include_colab_link": true
    },
    "kernelspec": {
      "name": "python3",
      "display_name": "Python 3"
    },
    "language_info": {
      "name": "python"
    },
    "accelerator": "GPU",
    "gpuClass": "standard"
  },
  "cells": [
    {
      "cell_type": "markdown",
      "metadata": {
        "id": "view-in-github",
        "colab_type": "text"
      },
      "source": [
        "<a href=\"https://colab.research.google.com/github/Anshuman-37/Summer_Dissertation/blob/main/First_Model_Try.ipynb\" target=\"_parent\"><img src=\"https://colab.research.google.com/assets/colab-badge.svg\" alt=\"Open In Colab\"/></a>"
      ]
    },
    {
      "cell_type": "markdown",
      "source": [
        "##### Import Files"
      ],
      "metadata": {
        "id": "1tE9eg1_F-KH"
      }
    },
    {
      "cell_type": "code",
      "source": [
        "import os\n",
        "import re\n",
        "import nibabel as nib\n",
        "import numpy as np\n",
        "import torch"
      ],
      "metadata": {
        "id": "FduCcoF7GBQX"
      },
      "execution_count": 15,
      "outputs": []
    },
    {
      "cell_type": "markdown",
      "source": [
        "##### DATA LOADING"
      ],
      "metadata": {
        "id": "we98TzSsF1mF"
      }
    },
    {
      "cell_type": "code",
      "execution_count": null,
      "metadata": {
        "id": "rcdcHnqqE7-Y"
      },
      "outputs": [],
      "source": [
        "!unzip /content/Raw\\ Files.zip -d /content/\n",
        "!unzip /content/Baseline.zip -d /content/"
      ]
    },
    {
      "cell_type": "markdown",
      "source": [
        "###### MRI Data"
      ],
      "metadata": {
        "id": "zzCIspW6GNSm"
      }
    },
    {
      "cell_type": "code",
      "source": [
        "## Go in to the directories\n",
        "## Extracting only important data using Regex\n",
        "path = '/content/Raw Files/Raw_nii_files_for_MC_pCASL_T1_B0_M0/'\n",
        "regex = re.compile(r'__MPR.*') ; fileRegex1 = re.compile(r'(WIP)*T13D'); mri_data_path = []; \n",
        "\n",
        "# Iterating over Directories \n",
        "for subdir, dirs, files in os.walk(path):\n",
        "    for file in files:\n",
        "        # Storing the path of Data\n",
        "        if regex.search(file) == None:\n",
        "            if fileRegex1.search(file): mri_data_path.append(os.path.join(subdir, file));\n",
        "\n",
        "# Printing the path of Data\n",
        "for i in mri_data_path: print(i);\n",
        "\n",
        "mri_images = []\n",
        "# Loading data in the image vector\n",
        "for i in mri_data_path: mri_images.append(nib.load(i)); \n",
        "\n",
        "# Printing the shape of images stored and its data type\n",
        "for i in mri_images: print('Image shape ->',i.shape,end = '\\t'); print('Image Data Type ->',i.get_data_dtype());\n",
        "\n",
        "# To create the animation of the MRI images\n",
        "import matplotlib.pyplot as plt\n",
        "import matplotlib.cm as cm\n",
        "import matplotlib.animation as animation\n"
      ],
      "metadata": {
        "colab": {
          "base_uri": "https://localhost:8080/"
        },
        "id": "-XU9IMYIF9At",
        "outputId": "02bbc059-5015-4bd0-fffe-c326d6740782"
      },
      "execution_count": 21,
      "outputs": [
        {
          "output_type": "stream",
          "name": "stdout",
          "text": [
            "/content/Raw Files/Raw_nii_files_for_MC_pCASL_T1_B0_M0/1277547 dicom/__WIP_MPRAGE_T13D_SENSE_20150430160250_401.nii\n",
            "/content/Raw Files/Raw_nii_files_for_MC_pCASL_T1_B0_M0/1327832 dicom/__WIP_MPRAGE_T13D_SENSE_20160222133236_301.nii\n",
            "/content/Raw Files/Raw_nii_files_for_MC_pCASL_T1_B0_M0/1335478 dicom/__WIP_MPRAGE_T13D_SENSE_20160407112645_401.nii\n",
            "/content/Raw Files/Raw_nii_files_for_MC_pCASL_T1_B0_M0/1289317 dicom/__WIP_MPRAGE_T13D_SENSE_20150710135121_401.nii\n",
            "/content/Raw Files/Raw_nii_files_for_MC_pCASL_T1_B0_M0/1320961 dicom/__WIP_MPRAGE_T13D_SENSE_20160115152740_301.nii\n",
            "/content/Raw Files/Raw_nii_files_for_MC_pCASL_T1_B0_M0/1291194 dicom/__WIP_MPRAGE_T13D_SENSE_20150724132211_401.nii\n",
            "Image shape -> (288, 288, 180)\tImage Data Type -> int16\n",
            "Image shape -> (288, 288, 180)\tImage Data Type -> int16\n",
            "Image shape -> (288, 288, 180)\tImage Data Type -> int16\n",
            "Image shape -> (288, 288, 180)\tImage Data Type -> int16\n",
            "Image shape -> (288, 288, 180)\tImage Data Type -> int16\n",
            "Image shape -> (288, 288, 180)\tImage Data Type -> int16\n"
          ]
        }
      ]
    },
    {
      "cell_type": "markdown",
      "source": [
        "##### ASL Data\n"
      ],
      "metadata": {
        "id": "FcsKtb6FGQP7"
      }
    },
    {
      "cell_type": "code",
      "source": [
        "# Getting the path for ASL files\n",
        "asl_path = '/content/Baseline/'\n",
        "asl_data_path = []\n",
        "asl_regex = re.compile(r'oxasl_dist.*') \n",
        "# Iterating over directories\n",
        "for subdir, dirs, files in os.walk(asl_path):\n",
        "    # Selecting the ASL file\n",
        "    for file in files:\n",
        "        if file == 'perfusion_calib.img':\n",
        "            if asl_regex.search(subdir): \n",
        "                asl_data_path.append(os.path.join(subdir, file));\n",
        "\n",
        "# Printing the path of ASL images\n",
        "for i in asl_data_path: print(i);\n",
        "\n",
        "asl_images = []\n",
        "\n",
        "# Regex for the asl image\n",
        "\n",
        "for i in asl_data_path: asl_images.append(nib.load(i)); #print(i); #asl_images.append(nib.load(i)); \n",
        "# # Loading data in the image vector\n",
        "# for i in asl_data_path: asl_images.append(nib.load(i)); \n",
        "\n",
        "# # Printing the shape of images stored and its data type\n",
        "for i in asl_images: print('Image shape ->',i.shape,end = '\\t'); print('Image Data Type ->',i.get_data_dtype());"
      ],
      "metadata": {
        "colab": {
          "base_uri": "https://localhost:8080/"
        },
        "id": "moGfGd3VF4_O",
        "outputId": "160da8e6-4810-47d2-8878-b576f1db4259"
      },
      "execution_count": 22,
      "outputs": [
        {
          "output_type": "stream",
          "name": "stdout",
          "text": [
            "/content/Baseline/1277547 dicom/analysis/oxasl_distcorr/native_space/perfusion_calib.img\n",
            "/content/Baseline/1327832 dicom/analysis/oxasl_distcorr/native_space/perfusion_calib.img\n",
            "/content/Baseline/1289317 dicom/analysis/oxasl_distcorr/native_space/perfusion_calib.img\n",
            "/content/Baseline/1291194 dicom/analysis/oxasl_distcorr/native_space/perfusion_calib.img\n",
            "Image shape -> (80, 80, 13)\tImage Data Type -> float32\n",
            "Image shape -> (80, 80, 13)\tImage Data Type -> float32\n",
            "Image shape -> (80, 80, 13)\tImage Data Type -> float32\n",
            "Image shape -> (80, 80, 13)\tImage Data Type -> float32\n"
          ]
        }
      ]
    },
    {
      "cell_type": "code",
      "source": [
        "# img = asl_images[0]\n",
        "# a = np.array(img.dataobj)[:,:,:]\n",
        "# for i in range(0,13):\n",
        "#     plt.imshow(a[:,:,i],cmap = 'gray')\n",
        "#     plt.show()"
      ],
      "metadata": {
        "id": "ZeKkmwj3Pm-o"
      },
      "execution_count": 26,
      "outputs": []
    },
    {
      "cell_type": "markdown",
      "source": [
        "## Getting X and Y\n"
      ],
      "metadata": {
        "id": "_jygVw_OK5AA"
      }
    },
    {
      "cell_type": "code",
      "source": [
        "\n",
        "print('MRI DATA DICT \\t \\n','-'*50);\n",
        "### Data hashmaps - \n",
        "### Mri Data  ## Idea - Patient number(key) - Path Stored(value)\n",
        "mri_map = {};\n",
        "\n",
        "## Iterating over the mri data's path\n",
        "for i in mri_data_path:\n",
        "    ## Value is our path i.e. stored and key is the patient number\n",
        "    value = i; key = i.split('/')[4].split(' ')[0]; mri_map[key] = value;\n",
        "\n",
        "# Printing the mri_data_dict \n",
        "for k,v in mri_map.items(): print(k,'->',v);\n",
        "\n",
        "######\n",
        "print('\\nASL DATA DICT - \\t \\n','-'*50);\n",
        "######\n",
        "### ASL Data ## Idea - Patient number(key) - Path Stored(value)\n",
        "asl_map = {}\n",
        "\n",
        "## Iterating over the mri data's path\n",
        "for i in asl_data_path:\n",
        "    ## Value is our path i.e. stored and key is the patient number\n",
        "    value = i; key = i.split('/')[3].split(' ')[0]; asl_map[key] = value;\n",
        "\n",
        "# Printing the asl_data_dict \n",
        "for k,v in asl_map.items(): print(k,'->',v);"
      ],
      "metadata": {
        "colab": {
          "base_uri": "https://localhost:8080/"
        },
        "id": "37Q2uNM4LCL3",
        "outputId": "97e62112-4547-476e-d6e6-bbc587a3d31e"
      },
      "execution_count": 27,
      "outputs": [
        {
          "output_type": "stream",
          "name": "stdout",
          "text": [
            "MRI DATA DICT \t \n",
            " --------------------------------------------------\n",
            "1277547 -> /content/Raw Files/Raw_nii_files_for_MC_pCASL_T1_B0_M0/1277547 dicom/__WIP_MPRAGE_T13D_SENSE_20150430160250_401.nii\n",
            "1327832 -> /content/Raw Files/Raw_nii_files_for_MC_pCASL_T1_B0_M0/1327832 dicom/__WIP_MPRAGE_T13D_SENSE_20160222133236_301.nii\n",
            "1335478 -> /content/Raw Files/Raw_nii_files_for_MC_pCASL_T1_B0_M0/1335478 dicom/__WIP_MPRAGE_T13D_SENSE_20160407112645_401.nii\n",
            "1289317 -> /content/Raw Files/Raw_nii_files_for_MC_pCASL_T1_B0_M0/1289317 dicom/__WIP_MPRAGE_T13D_SENSE_20150710135121_401.nii\n",
            "1320961 -> /content/Raw Files/Raw_nii_files_for_MC_pCASL_T1_B0_M0/1320961 dicom/__WIP_MPRAGE_T13D_SENSE_20160115152740_301.nii\n",
            "1291194 -> /content/Raw Files/Raw_nii_files_for_MC_pCASL_T1_B0_M0/1291194 dicom/__WIP_MPRAGE_T13D_SENSE_20150724132211_401.nii\n",
            "\n",
            "ASL DATA DICT - \t \n",
            " --------------------------------------------------\n",
            "1277547 -> /content/Baseline/1277547 dicom/analysis/oxasl_distcorr/native_space/perfusion_calib.img\n",
            "1327832 -> /content/Baseline/1327832 dicom/analysis/oxasl_distcorr/native_space/perfusion_calib.img\n",
            "1289317 -> /content/Baseline/1289317 dicom/analysis/oxasl_distcorr/native_space/perfusion_calib.img\n",
            "1291194 -> /content/Baseline/1291194 dicom/analysis/oxasl_distcorr/native_space/perfusion_calib.img\n"
          ]
        }
      ]
    },
    {
      "cell_type": "code",
      "source": [
        "## Lists to get train x and train y differently\n",
        "train_x_path = [] ; train_y_path = []; \n",
        "\n",
        "### Traversing over the map and getting the values for which asl data is present\n",
        "for k,v in mri_map.items():\n",
        "    if k in asl_map: train_x_path.append(v); train_y_path.append(asl_map[k]);\n",
        "\n",
        "## Printing train_x and train_y to get path stored\n",
        "for i in train_x_path: print(i); \n",
        "for i in train_y_path: print(i);"
      ],
      "metadata": {
        "colab": {
          "base_uri": "https://localhost:8080/"
        },
        "id": "PmuQa3PTK8cQ",
        "outputId": "373de1d6-506b-4346-916a-705361d2f9e7"
      },
      "execution_count": 28,
      "outputs": [
        {
          "output_type": "stream",
          "name": "stdout",
          "text": [
            "/content/Raw Files/Raw_nii_files_for_MC_pCASL_T1_B0_M0/1277547 dicom/__WIP_MPRAGE_T13D_SENSE_20150430160250_401.nii\n",
            "/content/Raw Files/Raw_nii_files_for_MC_pCASL_T1_B0_M0/1327832 dicom/__WIP_MPRAGE_T13D_SENSE_20160222133236_301.nii\n",
            "/content/Raw Files/Raw_nii_files_for_MC_pCASL_T1_B0_M0/1289317 dicom/__WIP_MPRAGE_T13D_SENSE_20150710135121_401.nii\n",
            "/content/Raw Files/Raw_nii_files_for_MC_pCASL_T1_B0_M0/1291194 dicom/__WIP_MPRAGE_T13D_SENSE_20150724132211_401.nii\n",
            "/content/Baseline/1277547 dicom/analysis/oxasl_distcorr/native_space/perfusion_calib.img\n",
            "/content/Baseline/1327832 dicom/analysis/oxasl_distcorr/native_space/perfusion_calib.img\n",
            "/content/Baseline/1289317 dicom/analysis/oxasl_distcorr/native_space/perfusion_calib.img\n",
            "/content/Baseline/1291194 dicom/analysis/oxasl_distcorr/native_space/perfusion_calib.img\n"
          ]
        }
      ]
    },
    {
      "cell_type": "code",
      "source": [
        "x = [] ; y = [];\n",
        "\n",
        "for k,v in mri_map.items():\n",
        "    if k in asl_map:\n",
        "        # Loading the MRI image from the path in the train x path \n",
        "        mri_img = nib.load(v); \n",
        "        # Making it a numpy array\n",
        "        mri_vec = np.array(mri_img.dataobj)[np.newaxis,:,:,:] # Channels x Length X Breadth X Slices of Brain\n",
        "        # Min max Normalizing the image \n",
        "        mri_vec = (mri_vec - mri_vec.min()) / (mri_vec.max() - mri_vec.min())\n",
        "        # Appending the MRI image to X \n",
        "        x.append(torch.from_numpy(mri_vec)); \n",
        "        ## Finding the same patient with ASL data \n",
        "        asl_img = nib.load(asl_map[k]); asl_vec = np.array(asl_img.dataobj)[np.newaxis,:,:,:] ; asl_vec = (asl_vec - asl_vec.min()) / (asl_vec.max() - asl_vec.min());\n",
        "        ## Appending the image to y\n",
        "        y.append(torch.from_numpy(asl_vec))\n",
        "    "
      ],
      "metadata": {
        "id": "0p1YUzfCQV_T"
      },
      "execution_count": 62,
      "outputs": []
    },
    {
      "cell_type": "code",
      "source": [
        "\n",
        "# MRI Data shape\n",
        "for i in x : print(i.shape , i.dtype)\n",
        "# ASL Data shape\n",
        "for i in y : print(i.shape , i.dtype)\n"
      ],
      "metadata": {
        "colab": {
          "base_uri": "https://localhost:8080/"
        },
        "id": "aUhKcUhWQVWm",
        "outputId": "78824200-2666-4443-9c37-df6b8851cdb2"
      },
      "execution_count": 66,
      "outputs": [
        {
          "output_type": "stream",
          "name": "stdout",
          "text": [
            "torch.Size([1, 288, 288, 180]) torch.float64\n",
            "torch.Size([1, 288, 288, 180]) torch.float64\n",
            "torch.Size([1, 288, 288, 180]) torch.float64\n",
            "torch.Size([1, 288, 288, 180]) torch.float64\n",
            "torch.Size([1, 80, 80, 13]) torch.float32\n",
            "torch.Size([1, 80, 80, 13]) torch.float32\n",
            "torch.Size([1, 80, 80, 13]) torch.float32\n",
            "torch.Size([1, 80, 80, 13]) torch.float32\n"
          ]
        }
      ]
    },
    {
      "cell_type": "markdown",
      "source": [
        "#### Model"
      ],
      "metadata": {
        "id": "9fK_knNYLaAu"
      }
    },
    {
      "cell_type": "code",
      "source": [
        "import torch\n",
        "print(torch.__version__)\n",
        "torch.cuda.is_available()"
      ],
      "metadata": {
        "colab": {
          "base_uri": "https://localhost:8080/"
        },
        "id": "FPQb2o4lW6Qb",
        "outputId": "92b7702b-1d3c-4391-c273-79840de499ae"
      },
      "execution_count": 61,
      "outputs": [
        {
          "output_type": "stream",
          "name": "stdout",
          "text": [
            "1.11.0+cu113\n"
          ]
        },
        {
          "output_type": "execute_result",
          "data": {
            "text/plain": [
              "True"
            ]
          },
          "metadata": {},
          "execution_count": 61
        }
      ]
    },
    {
      "cell_type": "markdown",
      "source": [
        "###### LOSS"
      ],
      "metadata": {
        "id": "xqBWRmZJLdF7"
      }
    },
    {
      "cell_type": "code",
      "source": [
        "## The loss function to get the result/\n"
      ],
      "metadata": {
        "id": "cxPoxbIGXuBh"
      },
      "execution_count": null,
      "outputs": []
    },
    {
      "cell_type": "markdown",
      "source": [
        "##### Training"
      ],
      "metadata": {
        "id": "0XU8slieLgpt"
      }
    }
  ]
}