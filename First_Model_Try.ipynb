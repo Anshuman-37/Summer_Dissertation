{
  "nbformat": 4,
  "nbformat_minor": 0,
  "metadata": {
    "colab": {
      "name": "First_Model_Try.ipynb",
      "provenance": [],
      "machine_shape": "hm",
      "authorship_tag": "ABX9TyP/MEYlvD1w4OJtT0yb/O2N",
      "include_colab_link": true
    },
    "kernelspec": {
      "name": "python3",
      "display_name": "Python 3"
    },
    "language_info": {
      "name": "python"
    },
    "accelerator": "GPU",
    "gpuClass": "standard"
  },
  "cells": [
    {
      "cell_type": "markdown",
      "metadata": {
        "id": "view-in-github",
        "colab_type": "text"
      },
      "source": [
        "<a href=\"https://colab.research.google.com/github/Anshuman-37/Summer_Dissertation/blob/main/First_Model_Try.ipynb\" target=\"_parent\"><img src=\"https://colab.research.google.com/assets/colab-badge.svg\" alt=\"Open In Colab\"/></a>"
      ]
    },
    {
      "cell_type": "markdown",
      "source": [
        "##### Import Files"
      ],
      "metadata": {
        "id": "1tE9eg1_F-KH"
      }
    },
    {
      "cell_type": "code",
      "source": [
        "import os\n",
        "import re\n",
        "import nibabel as nib\n",
        "import numpy as np\n",
        "import torch\n",
        "print(torch.__version__)\n",
        "torch.cuda.is_available()\n",
        "\n",
        "import torch\n",
        "from torch.autograd import Variable\n",
        "from torch.nn import Linear, ReLU, CrossEntropyLoss, Sequential, LazyConv3d , MaxPool3d, Module, Softmax, BatchNorm3d, Dropout\n",
        "from torch.optim import Adam, SGD"
      ],
      "metadata": {
        "id": "FduCcoF7GBQX",
        "colab": {
          "base_uri": "https://localhost:8080/"
        },
        "outputId": "4700c2e2-244f-4832-8e67-c9d43f988c76"
      },
      "execution_count": 2,
      "outputs": [
        {
          "output_type": "stream",
          "name": "stdout",
          "text": [
            "1.11.0+cu113\n"
          ]
        }
      ]
    },
    {
      "cell_type": "markdown",
      "source": [
        "##### DATA LOADING"
      ],
      "metadata": {
        "id": "we98TzSsF1mF"
      }
    },
    {
      "cell_type": "code",
      "execution_count": null,
      "metadata": {
        "id": "rcdcHnqqE7-Y"
      },
      "outputs": [],
      "source": [
        "!unzip /content/Raw\\ Files.zip -d /content/\n",
        "!unzip /content/Baseline.zip -d /content/"
      ]
    },
    {
      "cell_type": "markdown",
      "source": [
        "###### MRI Data"
      ],
      "metadata": {
        "id": "zzCIspW6GNSm"
      }
    },
    {
      "cell_type": "code",
      "source": [
        "## Go in to the directories\n",
        "## Extracting only important data using Regex\n",
        "path = '/content/Raw Files/Raw_nii_files_for_MC_pCASL_T1_B0_M0/'\n",
        "regex = re.compile(r'__MPR.*') ; fileRegex1 = re.compile(r'(WIP)*T13D'); mri_data_path = []; \n",
        "\n",
        "# Iterating over Directories \n",
        "for subdir, dirs, files in os.walk(path):\n",
        "    for file in files:\n",
        "        # Storing the path of Data\n",
        "        if regex.search(file) == None:\n",
        "            if fileRegex1.search(file): mri_data_path.append(os.path.join(subdir, file));\n",
        "\n",
        "# Printing the path of Data\n",
        "for i in mri_data_path: print(i);\n",
        "\n",
        "mri_images = []\n",
        "# Loading data in the image vector\n",
        "for i in mri_data_path: mri_images.append(nib.load(i)); \n",
        "\n",
        "# Printing the shape of images stored and its data type\n",
        "for i in mri_images: print('Image shape ->',i.shape,end = '\\t'); print('Image Data Type ->',i.get_data_dtype());\n",
        "\n",
        "# To create the animation of the MRI images\n",
        "import matplotlib.pyplot as plt\n",
        "import matplotlib.cm as cm\n",
        "import matplotlib.animation as animation\n"
      ],
      "metadata": {
        "colab": {
          "base_uri": "https://localhost:8080/"
        },
        "id": "-XU9IMYIF9At",
        "outputId": "084c752e-40ac-441b-dc20-86cebd9be126"
      },
      "execution_count": 3,
      "outputs": [
        {
          "output_type": "stream",
          "name": "stdout",
          "text": [
            "/content/Raw Files/Raw_nii_files_for_MC_pCASL_T1_B0_M0/1277547 dicom/__WIP_MPRAGE_T13D_SENSE_20150430160250_401.nii\n",
            "/content/Raw Files/Raw_nii_files_for_MC_pCASL_T1_B0_M0/1327832 dicom/__WIP_MPRAGE_T13D_SENSE_20160222133236_301.nii\n",
            "/content/Raw Files/Raw_nii_files_for_MC_pCASL_T1_B0_M0/1335478 dicom/__WIP_MPRAGE_T13D_SENSE_20160407112645_401.nii\n",
            "/content/Raw Files/Raw_nii_files_for_MC_pCASL_T1_B0_M0/1289317 dicom/__WIP_MPRAGE_T13D_SENSE_20150710135121_401.nii\n",
            "/content/Raw Files/Raw_nii_files_for_MC_pCASL_T1_B0_M0/1320961 dicom/__WIP_MPRAGE_T13D_SENSE_20160115152740_301.nii\n",
            "/content/Raw Files/Raw_nii_files_for_MC_pCASL_T1_B0_M0/1291194 dicom/__WIP_MPRAGE_T13D_SENSE_20150724132211_401.nii\n",
            "Image shape -> (288, 288, 180)\tImage Data Type -> int16\n",
            "Image shape -> (288, 288, 180)\tImage Data Type -> int16\n",
            "Image shape -> (288, 288, 180)\tImage Data Type -> int16\n",
            "Image shape -> (288, 288, 180)\tImage Data Type -> int16\n",
            "Image shape -> (288, 288, 180)\tImage Data Type -> int16\n",
            "Image shape -> (288, 288, 180)\tImage Data Type -> int16\n"
          ]
        }
      ]
    },
    {
      "cell_type": "markdown",
      "source": [
        "##### ASL Data\n"
      ],
      "metadata": {
        "id": "FcsKtb6FGQP7"
      }
    },
    {
      "cell_type": "code",
      "source": [
        "# Getting the path for ASL files\n",
        "asl_path = '/content/Baseline/'\n",
        "asl_data_path = []\n",
        "asl_regex = re.compile(r'oxasl_dist.*') \n",
        "# Iterating over directories\n",
        "for subdir, dirs, files in os.walk(asl_path):\n",
        "    # Selecting the ASL file\n",
        "    for file in files:\n",
        "        if file == 'perfusion_calib.img':\n",
        "            if asl_regex.search(subdir): \n",
        "                asl_data_path.append(os.path.join(subdir, file));\n",
        "\n",
        "# Printing the path of ASL images\n",
        "for i in asl_data_path: print(i);\n",
        "\n",
        "asl_images = []\n",
        "\n",
        "# Regex for the asl image\n",
        "\n",
        "for i in asl_data_path: asl_images.append(nib.load(i)); #print(i); #asl_images.append(nib.load(i)); \n",
        "# # Loading data in the image vector\n",
        "# for i in asl_data_path: asl_images.append(nib.load(i)); \n",
        "\n",
        "# # Printing the shape of images stored and its data type\n",
        "for i in asl_images: print('Image shape ->',i.shape,end = '\\t'); print('Image Data Type ->',i.get_data_dtype());"
      ],
      "metadata": {
        "colab": {
          "base_uri": "https://localhost:8080/"
        },
        "id": "moGfGd3VF4_O",
        "outputId": "2199ecf1-bef9-4b47-c548-7eec83e00ef8"
      },
      "execution_count": 4,
      "outputs": [
        {
          "output_type": "stream",
          "name": "stdout",
          "text": [
            "/content/Baseline/1277547 dicom/analysis/oxasl_distcorr/native_space/perfusion_calib.img\n",
            "/content/Baseline/1327832 dicom/analysis/oxasl_distcorr/native_space/perfusion_calib.img\n",
            "/content/Baseline/1289317 dicom/analysis/oxasl_distcorr/native_space/perfusion_calib.img\n",
            "/content/Baseline/1291194 dicom/analysis/oxasl_distcorr/native_space/perfusion_calib.img\n",
            "Image shape -> (80, 80, 13)\tImage Data Type -> float32\n",
            "Image shape -> (80, 80, 13)\tImage Data Type -> float32\n",
            "Image shape -> (80, 80, 13)\tImage Data Type -> float32\n",
            "Image shape -> (80, 80, 13)\tImage Data Type -> float32\n"
          ]
        }
      ]
    },
    {
      "cell_type": "code",
      "source": [
        "# img = asl_images[0]\n",
        "# a = np.array(img.dataobj)[:,:,:]\n",
        "# for i in range(0,13):\n",
        "#     plt.imshow(a[:,:,i],cmap = 'gray')\n",
        "#     plt.show()"
      ],
      "metadata": {
        "id": "ZeKkmwj3Pm-o"
      },
      "execution_count": 6,
      "outputs": []
    },
    {
      "cell_type": "markdown",
      "source": [
        "## Getting X and Y\n"
      ],
      "metadata": {
        "id": "_jygVw_OK5AA"
      }
    },
    {
      "cell_type": "code",
      "source": [
        "\n",
        "print('MRI DATA DICT \\t \\n','-'*50);\n",
        "### Data hashmaps - \n",
        "### Mri Data  ## Idea - Patient number(key) - Path Stored(value)\n",
        "mri_map = {};\n",
        "\n",
        "## Iterating over the mri data's path\n",
        "for i in mri_data_path:\n",
        "    ## Value is our path i.e. stored and key is the patient number\n",
        "    value = i; key = i.split('/')[4].split(' ')[0]; mri_map[key] = value;\n",
        "\n",
        "# Printing the mri_data_dict \n",
        "for k,v in mri_map.items(): print(k,'->',v);\n",
        "\n",
        "######\n",
        "print('\\nASL DATA DICT - \\t \\n','-'*50);\n",
        "######\n",
        "### ASL Data ## Idea - Patient number(key) - Path Stored(value)\n",
        "asl_map = {}\n",
        "\n",
        "## Iterating over the mri data's path\n",
        "for i in asl_data_path:\n",
        "    ## Value is our path i.e. stored and key is the patient number\n",
        "    value = i; key = i.split('/')[3].split(' ')[0]; asl_map[key] = value;\n",
        "\n",
        "# Printing the asl_data_dict \n",
        "for k,v in asl_map.items(): print(k,'->',v);"
      ],
      "metadata": {
        "colab": {
          "base_uri": "https://localhost:8080/"
        },
        "id": "37Q2uNM4LCL3",
        "outputId": "d44955cc-39f7-4e87-9966-d6b7fb4033e2"
      },
      "execution_count": 5,
      "outputs": [
        {
          "output_type": "stream",
          "name": "stdout",
          "text": [
            "MRI DATA DICT \t \n",
            " --------------------------------------------------\n",
            "1277547 -> /content/Raw Files/Raw_nii_files_for_MC_pCASL_T1_B0_M0/1277547 dicom/__WIP_MPRAGE_T13D_SENSE_20150430160250_401.nii\n",
            "1327832 -> /content/Raw Files/Raw_nii_files_for_MC_pCASL_T1_B0_M0/1327832 dicom/__WIP_MPRAGE_T13D_SENSE_20160222133236_301.nii\n",
            "1335478 -> /content/Raw Files/Raw_nii_files_for_MC_pCASL_T1_B0_M0/1335478 dicom/__WIP_MPRAGE_T13D_SENSE_20160407112645_401.nii\n",
            "1289317 -> /content/Raw Files/Raw_nii_files_for_MC_pCASL_T1_B0_M0/1289317 dicom/__WIP_MPRAGE_T13D_SENSE_20150710135121_401.nii\n",
            "1320961 -> /content/Raw Files/Raw_nii_files_for_MC_pCASL_T1_B0_M0/1320961 dicom/__WIP_MPRAGE_T13D_SENSE_20160115152740_301.nii\n",
            "1291194 -> /content/Raw Files/Raw_nii_files_for_MC_pCASL_T1_B0_M0/1291194 dicom/__WIP_MPRAGE_T13D_SENSE_20150724132211_401.nii\n",
            "\n",
            "ASL DATA DICT - \t \n",
            " --------------------------------------------------\n",
            "1277547 -> /content/Baseline/1277547 dicom/analysis/oxasl_distcorr/native_space/perfusion_calib.img\n",
            "1327832 -> /content/Baseline/1327832 dicom/analysis/oxasl_distcorr/native_space/perfusion_calib.img\n",
            "1289317 -> /content/Baseline/1289317 dicom/analysis/oxasl_distcorr/native_space/perfusion_calib.img\n",
            "1291194 -> /content/Baseline/1291194 dicom/analysis/oxasl_distcorr/native_space/perfusion_calib.img\n"
          ]
        }
      ]
    },
    {
      "cell_type": "code",
      "source": [
        "## Lists to get train x and train y differently\n",
        "train_x_path = [] ; train_y_path = []; \n",
        "\n",
        "### Traversing over the map and getting the values for which asl data is present\n",
        "for k,v in mri_map.items():\n",
        "    if k in asl_map: train_x_path.append(v); train_y_path.append(asl_map[k]);\n",
        "\n",
        "## Printing train_x and train_y to get path stored\n",
        "for i in train_x_path: print(i); \n",
        "for i in train_y_path: print(i);"
      ],
      "metadata": {
        "colab": {
          "base_uri": "https://localhost:8080/"
        },
        "id": "PmuQa3PTK8cQ",
        "outputId": "b39821f6-c949-4683-b10c-0331b93ddbc3"
      },
      "execution_count": 6,
      "outputs": [
        {
          "output_type": "stream",
          "name": "stdout",
          "text": [
            "/content/Raw Files/Raw_nii_files_for_MC_pCASL_T1_B0_M0/1277547 dicom/__WIP_MPRAGE_T13D_SENSE_20150430160250_401.nii\n",
            "/content/Raw Files/Raw_nii_files_for_MC_pCASL_T1_B0_M0/1327832 dicom/__WIP_MPRAGE_T13D_SENSE_20160222133236_301.nii\n",
            "/content/Raw Files/Raw_nii_files_for_MC_pCASL_T1_B0_M0/1289317 dicom/__WIP_MPRAGE_T13D_SENSE_20150710135121_401.nii\n",
            "/content/Raw Files/Raw_nii_files_for_MC_pCASL_T1_B0_M0/1291194 dicom/__WIP_MPRAGE_T13D_SENSE_20150724132211_401.nii\n",
            "/content/Baseline/1277547 dicom/analysis/oxasl_distcorr/native_space/perfusion_calib.img\n",
            "/content/Baseline/1327832 dicom/analysis/oxasl_distcorr/native_space/perfusion_calib.img\n",
            "/content/Baseline/1289317 dicom/analysis/oxasl_distcorr/native_space/perfusion_calib.img\n",
            "/content/Baseline/1291194 dicom/analysis/oxasl_distcorr/native_space/perfusion_calib.img\n"
          ]
        }
      ]
    },
    {
      "cell_type": "code",
      "source": [
        "x = [] ; y = [];\n",
        "\n",
        "for k,v in mri_map.items():\n",
        "    if k in asl_map:\n",
        "        # Loading the MRI image from the path in the train x path \n",
        "        mri_img = nib.load(v); \n",
        "        # Making it a numpy array\n",
        "        mri_vec = np.array(mri_img.dataobj)[np.newaxis,:,:,:] # Channels x Length X Breadth X Slices of Brain\n",
        "        # Min max Normalizing the image \n",
        "        mri_vec = (mri_vec - mri_vec.min()) / (mri_vec.max() - mri_vec.min())\n",
        "        # Appending the MRI image to X \n",
        "        x.append(torch.as_tensor(mri_vec,dtype=torch.float32)); \n",
        "        ## Finding the same patient with ASL data \n",
        "        asl_img = nib.load(asl_map[k]); asl_vec = np.array(asl_img.dataobj)[np.newaxis,:,:,:] ; asl_vec = (asl_vec - asl_vec.min()) / (asl_vec.max() - asl_vec.min());\n",
        "        ## Appending the image to y\n",
        "        y.append(torch.as_tensor(asl_vec,dtype=torch.float32))\n",
        "    "
      ],
      "metadata": {
        "id": "0p1YUzfCQV_T"
      },
      "execution_count": 17,
      "outputs": []
    },
    {
      "cell_type": "code",
      "source": [
        "\n",
        "# MRI Data shape\n",
        "for i in x : print(i.shape , i.dtype)\n",
        "# ASL Data shape\n",
        "for i in y : print(i.shape , i.dtype)\n"
      ],
      "metadata": {
        "colab": {
          "base_uri": "https://localhost:8080/"
        },
        "id": "aUhKcUhWQVWm",
        "outputId": "eb960d69-0759-4fb4-f9a1-f3d33e666973"
      },
      "execution_count": 18,
      "outputs": [
        {
          "output_type": "stream",
          "name": "stdout",
          "text": [
            "torch.Size([1, 288, 288, 180]) torch.float32\n",
            "torch.Size([1, 288, 288, 180]) torch.float32\n",
            "torch.Size([1, 288, 288, 180]) torch.float32\n",
            "torch.Size([1, 288, 288, 180]) torch.float32\n",
            "torch.Size([1, 80, 80, 13]) torch.float32\n",
            "torch.Size([1, 80, 80, 13]) torch.float32\n",
            "torch.Size([1, 80, 80, 13]) torch.float32\n",
            "torch.Size([1, 80, 80, 13]) torch.float32\n"
          ]
        }
      ]
    },
    {
      "cell_type": "markdown",
      "source": [
        "#### Model"
      ],
      "metadata": {
        "id": "9fK_knNYLaAu"
      }
    },
    {
      "cell_type": "code",
      "source": [
        "t = torch.as_tensor(np.array(nib.load(mri_map['1277547']).dataobj))\n",
        "print(t.shape, t.dtype)\n",
        "print(t.sum(), t.prod(), t.mean(), t.std())"
      ],
      "metadata": {
        "colab": {
          "base_uri": "https://localhost:8080/"
        },
        "id": "FPQb2o4lW6Qb",
        "outputId": "796c1bbc-518c-42db-9dbe-e19e0dd92fb3"
      },
      "execution_count": 19,
      "outputs": [
        {
          "output_type": "stream",
          "name": "stdout",
          "text": [
            "torch.Size([288, 288, 180]) torch.float64\n",
            "tensor(4.9879e+11, dtype=torch.float64) tensor(0., dtype=torch.float64) tensor(33408.9108, dtype=torch.float64) tensor(53164.6250, dtype=torch.float64)\n"
          ]
        }
      ]
    },
    {
      "cell_type": "code",
      "source": [
        "tensor_mri = x[0] ; print(tensor_mri.sum(), tensor_mri.prod(), tensor_mri.mean(), tensor_mri.std());\n",
        "tensor_asl = y[0] ; print(tensor_asl.sum(), tensor_asl.prod(), tensor_asl.mean(), tensor_asl.std()); "
      ],
      "metadata": {
        "colab": {
          "base_uri": "https://localhost:8080/"
        },
        "id": "o3S-jYonuFiG",
        "outputId": "cdd8a4dd-4096-428f-d94b-eff9929bc89e"
      },
      "execution_count": 20,
      "outputs": [
        {
          "output_type": "stream",
          "name": "stdout",
          "text": [
            "tensor(1256233.) tensor(0.) tensor(0.0841) tensor(0.1339)\n",
            "tensor(5888.7588) tensor(0.) tensor(0.0708) tensor(0.1548)\n"
          ]
        }
      ]
    },
    {
      "cell_type": "code",
      "source": [
        "## Go with Lazy 3D convs LAZYCONV3Dw\n",
        "\n",
        "## The loss function to get the result\n",
        "class Normal_3D_cnn(Module):   \n",
        "    \n",
        "    def __init__(self):\n",
        "        super(Normal_3D_cnn, self).__init__()\n",
        "        \n",
        "        self.cnn_layers = Sequential(\n",
        "            # Defining a 3D convolution layer\n",
        "            LazyConv3d(1, kernel_size= 3, stride=1, padding=1),\n",
        "            BatchNorm3d(1),\n",
        "            ReLU(inplace=True),\n",
        "            MaxPool3d(kernel_size=2, stride=2),\n",
        "            # # Defining another 3D convolution layer\n",
        "            # LazyConv3d(1,kernel_size=3, stride=1, padding=1),\n",
        "            # BatchNorm3d(1),\n",
        "            # ReLU(inplace=True),\n",
        "            # MaxPool3d(kernel_size=2, stride=2),\n",
        "        )\n",
        "    def forward(self, x):\n",
        "        x = self.cnn_layers(x)\n",
        "        return x\n",
        "\n",
        "model = Normal_3D_cnn()\n",
        "print(model)\n",
        "optimizer = Adam(model.parameters(), lr=0.07)\n",
        "\n",
        "def train():\n",
        "    model.train()\n",
        "    optimizer.zero_grad()\n",
        "    y_p = model(x[0])\n",
        "    loss = mse(y_t,y_p)\n",
        "    return loss, y_p\n",
        "\n",
        "loss,y_p = train()\n",
        "print(loss,y_p.shape)\n"
      ],
      "metadata": {
        "colab": {
          "base_uri": "https://localhost:8080/",
          "height": 570
        },
        "id": "cxPoxbIGXuBh",
        "outputId": "111a18d4-bfb6-48a7-d195-426489d78635"
      },
      "execution_count": 21,
      "outputs": [
        {
          "output_type": "stream",
          "name": "stderr",
          "text": [
            "/usr/local/lib/python3.7/dist-packages/torch/nn/modules/lazy.py:178: UserWarning: Lazy modules are a new feature under heavy development so changes to the API or functionality can happen at any moment.\n",
            "  warnings.warn('Lazy modules are a new feature under heavy development '\n"
          ]
        },
        {
          "output_type": "stream",
          "name": "stdout",
          "text": [
            "Normal_3D_cnn(\n",
            "  (cnn_layers): Sequential(\n",
            "    (0): LazyConv3d(0, 1, kernel_size=(3, 3, 3), stride=(1, 1, 1), padding=(1, 1, 1))\n",
            "    (1): BatchNorm3d(1, eps=1e-05, momentum=0.1, affine=True, track_running_stats=True)\n",
            "    (2): ReLU(inplace=True)\n",
            "    (3): MaxPool3d(kernel_size=2, stride=2, padding=0, dilation=1, ceil_mode=False)\n",
            "  )\n",
            ")\n"
          ]
        },
        {
          "output_type": "error",
          "ename": "ValueError",
          "evalue": "ignored",
          "traceback": [
            "\u001b[0;31m---------------------------------------------------------------------------\u001b[0m",
            "\u001b[0;31mValueError\u001b[0m                                Traceback (most recent call last)",
            "\u001b[0;32m<ipython-input-21-fb3a8621a63e>\u001b[0m in \u001b[0;36m<module>\u001b[0;34m()\u001b[0m\n\u001b[1;32m     34\u001b[0m     \u001b[0;32mreturn\u001b[0m \u001b[0mloss\u001b[0m\u001b[0;34m,\u001b[0m \u001b[0my_p\u001b[0m\u001b[0;34m\u001b[0m\u001b[0;34m\u001b[0m\u001b[0m\n\u001b[1;32m     35\u001b[0m \u001b[0;34m\u001b[0m\u001b[0m\n\u001b[0;32m---> 36\u001b[0;31m \u001b[0mloss\u001b[0m\u001b[0;34m,\u001b[0m\u001b[0my_p\u001b[0m \u001b[0;34m=\u001b[0m \u001b[0mtrain\u001b[0m\u001b[0;34m(\u001b[0m\u001b[0;34m)\u001b[0m\u001b[0;34m\u001b[0m\u001b[0;34m\u001b[0m\u001b[0m\n\u001b[0m\u001b[1;32m     37\u001b[0m \u001b[0mprint\u001b[0m\u001b[0;34m(\u001b[0m\u001b[0mloss\u001b[0m\u001b[0;34m,\u001b[0m\u001b[0my_p\u001b[0m\u001b[0;34m.\u001b[0m\u001b[0mshape\u001b[0m\u001b[0;34m)\u001b[0m\u001b[0;34m\u001b[0m\u001b[0;34m\u001b[0m\u001b[0m\n",
            "\u001b[0;32m<ipython-input-21-fb3a8621a63e>\u001b[0m in \u001b[0;36mtrain\u001b[0;34m()\u001b[0m\n\u001b[1;32m     30\u001b[0m     \u001b[0mmodel\u001b[0m\u001b[0;34m.\u001b[0m\u001b[0mtrain\u001b[0m\u001b[0;34m(\u001b[0m\u001b[0;34m)\u001b[0m\u001b[0;34m\u001b[0m\u001b[0;34m\u001b[0m\u001b[0m\n\u001b[1;32m     31\u001b[0m     \u001b[0moptimizer\u001b[0m\u001b[0;34m.\u001b[0m\u001b[0mzero_grad\u001b[0m\u001b[0;34m(\u001b[0m\u001b[0;34m)\u001b[0m\u001b[0;34m\u001b[0m\u001b[0;34m\u001b[0m\u001b[0m\n\u001b[0;32m---> 32\u001b[0;31m     \u001b[0my_p\u001b[0m \u001b[0;34m=\u001b[0m \u001b[0mmodel\u001b[0m\u001b[0;34m(\u001b[0m\u001b[0mx\u001b[0m\u001b[0;34m[\u001b[0m\u001b[0;36m0\u001b[0m\u001b[0;34m]\u001b[0m\u001b[0;34m)\u001b[0m\u001b[0;34m\u001b[0m\u001b[0;34m\u001b[0m\u001b[0m\n\u001b[0m\u001b[1;32m     33\u001b[0m     \u001b[0mloss\u001b[0m \u001b[0;34m=\u001b[0m \u001b[0mmse\u001b[0m\u001b[0;34m(\u001b[0m\u001b[0my_t\u001b[0m\u001b[0;34m,\u001b[0m\u001b[0my_p\u001b[0m\u001b[0;34m)\u001b[0m\u001b[0;34m\u001b[0m\u001b[0;34m\u001b[0m\u001b[0m\n\u001b[1;32m     34\u001b[0m     \u001b[0;32mreturn\u001b[0m \u001b[0mloss\u001b[0m\u001b[0;34m,\u001b[0m \u001b[0my_p\u001b[0m\u001b[0;34m\u001b[0m\u001b[0;34m\u001b[0m\u001b[0m\n",
            "\u001b[0;32m/usr/local/lib/python3.7/dist-packages/torch/nn/modules/module.py\u001b[0m in \u001b[0;36m_call_impl\u001b[0;34m(self, *input, **kwargs)\u001b[0m\n\u001b[1;32m   1108\u001b[0m         if not (self._backward_hooks or self._forward_hooks or self._forward_pre_hooks or _global_backward_hooks\n\u001b[1;32m   1109\u001b[0m                 or _global_forward_hooks or _global_forward_pre_hooks):\n\u001b[0;32m-> 1110\u001b[0;31m             \u001b[0;32mreturn\u001b[0m \u001b[0mforward_call\u001b[0m\u001b[0;34m(\u001b[0m\u001b[0;34m*\u001b[0m\u001b[0minput\u001b[0m\u001b[0;34m,\u001b[0m \u001b[0;34m**\u001b[0m\u001b[0mkwargs\u001b[0m\u001b[0;34m)\u001b[0m\u001b[0;34m\u001b[0m\u001b[0;34m\u001b[0m\u001b[0m\n\u001b[0m\u001b[1;32m   1111\u001b[0m         \u001b[0;31m# Do not call functions when jit is used\u001b[0m\u001b[0;34m\u001b[0m\u001b[0;34m\u001b[0m\u001b[0;34m\u001b[0m\u001b[0m\n\u001b[1;32m   1112\u001b[0m         \u001b[0mfull_backward_hooks\u001b[0m\u001b[0;34m,\u001b[0m \u001b[0mnon_full_backward_hooks\u001b[0m \u001b[0;34m=\u001b[0m \u001b[0;34m[\u001b[0m\u001b[0;34m]\u001b[0m\u001b[0;34m,\u001b[0m \u001b[0;34m[\u001b[0m\u001b[0;34m]\u001b[0m\u001b[0;34m\u001b[0m\u001b[0;34m\u001b[0m\u001b[0m\n",
            "\u001b[0;32m<ipython-input-21-fb3a8621a63e>\u001b[0m in \u001b[0;36mforward\u001b[0;34m(self, x)\u001b[0m\n\u001b[1;32m     20\u001b[0m         )\n\u001b[1;32m     21\u001b[0m     \u001b[0;32mdef\u001b[0m \u001b[0mforward\u001b[0m\u001b[0;34m(\u001b[0m\u001b[0mself\u001b[0m\u001b[0;34m,\u001b[0m \u001b[0mx\u001b[0m\u001b[0;34m)\u001b[0m\u001b[0;34m:\u001b[0m\u001b[0;34m\u001b[0m\u001b[0;34m\u001b[0m\u001b[0m\n\u001b[0;32m---> 22\u001b[0;31m         \u001b[0mx\u001b[0m \u001b[0;34m=\u001b[0m \u001b[0mself\u001b[0m\u001b[0;34m.\u001b[0m\u001b[0mcnn_layers\u001b[0m\u001b[0;34m(\u001b[0m\u001b[0mx\u001b[0m\u001b[0;34m)\u001b[0m\u001b[0;34m\u001b[0m\u001b[0;34m\u001b[0m\u001b[0m\n\u001b[0m\u001b[1;32m     23\u001b[0m         \u001b[0;32mreturn\u001b[0m \u001b[0mx\u001b[0m\u001b[0;34m\u001b[0m\u001b[0;34m\u001b[0m\u001b[0m\n\u001b[1;32m     24\u001b[0m \u001b[0;34m\u001b[0m\u001b[0m\n",
            "\u001b[0;32m/usr/local/lib/python3.7/dist-packages/torch/nn/modules/module.py\u001b[0m in \u001b[0;36m_call_impl\u001b[0;34m(self, *input, **kwargs)\u001b[0m\n\u001b[1;32m   1108\u001b[0m         if not (self._backward_hooks or self._forward_hooks or self._forward_pre_hooks or _global_backward_hooks\n\u001b[1;32m   1109\u001b[0m                 or _global_forward_hooks or _global_forward_pre_hooks):\n\u001b[0;32m-> 1110\u001b[0;31m             \u001b[0;32mreturn\u001b[0m \u001b[0mforward_call\u001b[0m\u001b[0;34m(\u001b[0m\u001b[0;34m*\u001b[0m\u001b[0minput\u001b[0m\u001b[0;34m,\u001b[0m \u001b[0;34m**\u001b[0m\u001b[0mkwargs\u001b[0m\u001b[0;34m)\u001b[0m\u001b[0;34m\u001b[0m\u001b[0;34m\u001b[0m\u001b[0m\n\u001b[0m\u001b[1;32m   1111\u001b[0m         \u001b[0;31m# Do not call functions when jit is used\u001b[0m\u001b[0;34m\u001b[0m\u001b[0;34m\u001b[0m\u001b[0;34m\u001b[0m\u001b[0m\n\u001b[1;32m   1112\u001b[0m         \u001b[0mfull_backward_hooks\u001b[0m\u001b[0;34m,\u001b[0m \u001b[0mnon_full_backward_hooks\u001b[0m \u001b[0;34m=\u001b[0m \u001b[0;34m[\u001b[0m\u001b[0;34m]\u001b[0m\u001b[0;34m,\u001b[0m \u001b[0;34m[\u001b[0m\u001b[0;34m]\u001b[0m\u001b[0;34m\u001b[0m\u001b[0;34m\u001b[0m\u001b[0m\n",
            "\u001b[0;32m/usr/local/lib/python3.7/dist-packages/torch/nn/modules/container.py\u001b[0m in \u001b[0;36mforward\u001b[0;34m(self, input)\u001b[0m\n\u001b[1;32m    139\u001b[0m     \u001b[0;32mdef\u001b[0m \u001b[0mforward\u001b[0m\u001b[0;34m(\u001b[0m\u001b[0mself\u001b[0m\u001b[0;34m,\u001b[0m \u001b[0minput\u001b[0m\u001b[0;34m)\u001b[0m\u001b[0;34m:\u001b[0m\u001b[0;34m\u001b[0m\u001b[0;34m\u001b[0m\u001b[0m\n\u001b[1;32m    140\u001b[0m         \u001b[0;32mfor\u001b[0m \u001b[0mmodule\u001b[0m \u001b[0;32min\u001b[0m \u001b[0mself\u001b[0m\u001b[0;34m:\u001b[0m\u001b[0;34m\u001b[0m\u001b[0;34m\u001b[0m\u001b[0m\n\u001b[0;32m--> 141\u001b[0;31m             \u001b[0minput\u001b[0m \u001b[0;34m=\u001b[0m \u001b[0mmodule\u001b[0m\u001b[0;34m(\u001b[0m\u001b[0minput\u001b[0m\u001b[0;34m)\u001b[0m\u001b[0;34m\u001b[0m\u001b[0;34m\u001b[0m\u001b[0m\n\u001b[0m\u001b[1;32m    142\u001b[0m         \u001b[0;32mreturn\u001b[0m \u001b[0minput\u001b[0m\u001b[0;34m\u001b[0m\u001b[0;34m\u001b[0m\u001b[0m\n\u001b[1;32m    143\u001b[0m \u001b[0;34m\u001b[0m\u001b[0m\n",
            "\u001b[0;32m/usr/local/lib/python3.7/dist-packages/torch/nn/modules/module.py\u001b[0m in \u001b[0;36m_call_impl\u001b[0;34m(self, *input, **kwargs)\u001b[0m\n\u001b[1;32m   1108\u001b[0m         if not (self._backward_hooks or self._forward_hooks or self._forward_pre_hooks or _global_backward_hooks\n\u001b[1;32m   1109\u001b[0m                 or _global_forward_hooks or _global_forward_pre_hooks):\n\u001b[0;32m-> 1110\u001b[0;31m             \u001b[0;32mreturn\u001b[0m \u001b[0mforward_call\u001b[0m\u001b[0;34m(\u001b[0m\u001b[0;34m*\u001b[0m\u001b[0minput\u001b[0m\u001b[0;34m,\u001b[0m \u001b[0;34m**\u001b[0m\u001b[0mkwargs\u001b[0m\u001b[0;34m)\u001b[0m\u001b[0;34m\u001b[0m\u001b[0;34m\u001b[0m\u001b[0m\n\u001b[0m\u001b[1;32m   1111\u001b[0m         \u001b[0;31m# Do not call functions when jit is used\u001b[0m\u001b[0;34m\u001b[0m\u001b[0;34m\u001b[0m\u001b[0;34m\u001b[0m\u001b[0m\n\u001b[1;32m   1112\u001b[0m         \u001b[0mfull_backward_hooks\u001b[0m\u001b[0;34m,\u001b[0m \u001b[0mnon_full_backward_hooks\u001b[0m \u001b[0;34m=\u001b[0m \u001b[0;34m[\u001b[0m\u001b[0;34m]\u001b[0m\u001b[0;34m,\u001b[0m \u001b[0;34m[\u001b[0m\u001b[0;34m]\u001b[0m\u001b[0;34m\u001b[0m\u001b[0;34m\u001b[0m\u001b[0m\n",
            "\u001b[0;32m/usr/local/lib/python3.7/dist-packages/torch/nn/modules/batchnorm.py\u001b[0m in \u001b[0;36mforward\u001b[0;34m(self, input)\u001b[0m\n\u001b[1;32m    133\u001b[0m \u001b[0;34m\u001b[0m\u001b[0m\n\u001b[1;32m    134\u001b[0m     \u001b[0;32mdef\u001b[0m \u001b[0mforward\u001b[0m\u001b[0;34m(\u001b[0m\u001b[0mself\u001b[0m\u001b[0;34m,\u001b[0m \u001b[0minput\u001b[0m\u001b[0;34m:\u001b[0m \u001b[0mTensor\u001b[0m\u001b[0;34m)\u001b[0m \u001b[0;34m->\u001b[0m \u001b[0mTensor\u001b[0m\u001b[0;34m:\u001b[0m\u001b[0;34m\u001b[0m\u001b[0;34m\u001b[0m\u001b[0m\n\u001b[0;32m--> 135\u001b[0;31m         \u001b[0mself\u001b[0m\u001b[0;34m.\u001b[0m\u001b[0m_check_input_dim\u001b[0m\u001b[0;34m(\u001b[0m\u001b[0minput\u001b[0m\u001b[0;34m)\u001b[0m\u001b[0;34m\u001b[0m\u001b[0;34m\u001b[0m\u001b[0m\n\u001b[0m\u001b[1;32m    136\u001b[0m \u001b[0;34m\u001b[0m\u001b[0m\n\u001b[1;32m    137\u001b[0m         \u001b[0;31m# exponential_average_factor is set to self.momentum\u001b[0m\u001b[0;34m\u001b[0m\u001b[0;34m\u001b[0m\u001b[0;34m\u001b[0m\u001b[0m\n",
            "\u001b[0;32m/usr/local/lib/python3.7/dist-packages/torch/nn/modules/batchnorm.py\u001b[0m in \u001b[0;36m_check_input_dim\u001b[0;34m(self, input)\u001b[0m\n\u001b[1;32m    511\u001b[0m     \u001b[0;32mdef\u001b[0m \u001b[0m_check_input_dim\u001b[0m\u001b[0;34m(\u001b[0m\u001b[0mself\u001b[0m\u001b[0;34m,\u001b[0m \u001b[0minput\u001b[0m\u001b[0;34m)\u001b[0m\u001b[0;34m:\u001b[0m\u001b[0;34m\u001b[0m\u001b[0;34m\u001b[0m\u001b[0m\n\u001b[1;32m    512\u001b[0m         \u001b[0;32mif\u001b[0m \u001b[0minput\u001b[0m\u001b[0;34m.\u001b[0m\u001b[0mdim\u001b[0m\u001b[0;34m(\u001b[0m\u001b[0;34m)\u001b[0m \u001b[0;34m!=\u001b[0m \u001b[0;36m5\u001b[0m\u001b[0;34m:\u001b[0m\u001b[0;34m\u001b[0m\u001b[0;34m\u001b[0m\u001b[0m\n\u001b[0;32m--> 513\u001b[0;31m             \u001b[0;32mraise\u001b[0m \u001b[0mValueError\u001b[0m\u001b[0;34m(\u001b[0m\u001b[0;34m\"expected 5D input (got {}D input)\"\u001b[0m\u001b[0;34m.\u001b[0m\u001b[0mformat\u001b[0m\u001b[0;34m(\u001b[0m\u001b[0minput\u001b[0m\u001b[0;34m.\u001b[0m\u001b[0mdim\u001b[0m\u001b[0;34m(\u001b[0m\u001b[0;34m)\u001b[0m\u001b[0;34m)\u001b[0m\u001b[0;34m)\u001b[0m\u001b[0;34m\u001b[0m\u001b[0;34m\u001b[0m\u001b[0m\n\u001b[0m\u001b[1;32m    514\u001b[0m \u001b[0;34m\u001b[0m\u001b[0m\n\u001b[1;32m    515\u001b[0m \u001b[0;34m\u001b[0m\u001b[0m\n",
            "\u001b[0;31mValueError\u001b[0m: expected 5D input (got 4D input)"
          ]
        }
      ]
    },
    {
      "cell_type": "markdown",
      "source": [
        "###### LOSS"
      ],
      "metadata": {
        "id": "xqBWRmZJLdF7"
      }
    },
    {
      "cell_type": "code",
      "source": [
        "def mse(y_t , y_p):\n",
        "    ## To calculate the mean square error\n",
        "    print(y_t.shape); print(y_p.shape); \n",
        "    ## Normal Mean Square Error - reduce( x+y , (y_t - y_p)^2)\n",
        "    loss = torch.sum(torch.square(torch.flatten(y_t) - torch.flatten(y_p)))\n",
        "    return loss\n",
        "print(mse(y[1],y[2]))"
      ],
      "metadata": {
        "colab": {
          "base_uri": "https://localhost:8080/"
        },
        "id": "8NT9S1Rf3X2D",
        "outputId": "cc1b2514-f929-4b2f-fd30-90a90768a942"
      },
      "execution_count": 22,
      "outputs": [
        {
          "output_type": "stream",
          "name": "stdout",
          "text": [
            "torch.Size([1, 80, 80, 13])\n",
            "torch.Size([1, 80, 80, 13])\n",
            "tensor(991.0825)\n"
          ]
        }
      ]
    },
    {
      "cell_type": "markdown",
      "source": [
        "##### Training\n"
      ],
      "metadata": {
        "id": "0XU8slieLgpt"
      }
    }
  ]
}