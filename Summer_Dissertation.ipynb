{
  "nbformat": 4,
  "nbformat_minor": 0,
  "metadata": {
    "colab": {
      "name": "Summer_Dissertation.ipynb",
      "provenance": [],
      "machine_shape": "hm",
      "authorship_tag": "ABX9TyPwPcz7DaAMYx142UP6bGm3",
      "include_colab_link": true
    },
    "kernelspec": {
      "name": "python3",
      "display_name": "Python 3"
    },
    "language_info": {
      "name": "python"
    },
    "accelerator": "GPU",
    "gpuClass": "standard"
  },
  "cells": [
    {
      "cell_type": "markdown",
      "metadata": {
        "id": "view-in-github",
        "colab_type": "text"
      },
      "source": [
        "<a href=\"https://colab.research.google.com/github/Anshuman-37/Summer_Dissertation/blob/main/Summer_Dissertation.ipynb\" target=\"_parent\"><img src=\"https://colab.research.google.com/assets/colab-badge.svg\" alt=\"Open In Colab\"/></a>"
      ]
    },
    {
      "cell_type": "markdown",
      "source": [
        "### Prerequisites "
      ],
      "metadata": {
        "id": "v65d0HQdUmgQ"
      }
    },
    {
      "cell_type": "code",
      "execution_count": null,
      "metadata": {
        "id": "kgmFd3fhUO8A"
      },
      "outputs": [],
      "source": [
        "# Upload the zip file and then unzip it\n",
        "# unzipping the file in the directory \n",
        "!unzip /content/Raw\\ Files.zip -d /content/\n",
        "!unzip /content/Baseline.zip -d /content/"
      ]
    },
    {
      "cell_type": "markdown",
      "source": [
        "### Installing Libraries"
      ],
      "metadata": {
        "id": "wvl6QPt6Umoc"
      }
    },
    {
      "cell_type": "code",
      "source": [
        "# Install nibabel\n",
        "!pip install nibabel"
      ],
      "metadata": {
        "colab": {
          "base_uri": "https://localhost:8080/"
        },
        "id": "eZYKydviUmGH",
        "outputId": "2de07fdf-395c-462a-fc84-411869b346bd"
      },
      "execution_count": 5,
      "outputs": [
        {
          "output_type": "stream",
          "name": "stdout",
          "text": [
            "Looking in indexes: https://pypi.org/simple, https://us-python.pkg.dev/colab-wheels/public/simple/\n",
            "Requirement already satisfied: nibabel in /usr/local/lib/python3.7/dist-packages (3.0.2)\n",
            "Requirement already satisfied: numpy>=1.12 in /usr/local/lib/python3.7/dist-packages (from nibabel) (1.21.6)\n"
          ]
        }
      ]
    },
    {
      "cell_type": "markdown",
      "source": [
        "### Importing Files "
      ],
      "metadata": {
        "id": "KR9SgttLUrqB"
      }
    },
    {
      "cell_type": "code",
      "source": [
        "## importing libraries \n",
        "import os\n",
        "import re\n",
        "import nibabel as nib\n",
        "import numpy as np\n",
        "import tensorflow as tf\n",
        "import matplotlib.pyplot as plt\n",
        "plt.rcParams[\"figure.figsize\"] = (20,5)\n",
        "import torch\n"
      ],
      "metadata": {
        "id": "Y6YbyNa7XlZL"
      },
      "execution_count": 6,
      "outputs": []
    },
    {
      "cell_type": "markdown",
      "source": [
        "### Code"
      ],
      "metadata": {
        "id": "GiyjwEXtXl_I"
      }
    },
    {
      "cell_type": "markdown",
      "source": [
        "### Reading the Data"
      ],
      "metadata": {
        "id": "MsunshWfGnCl"
      }
    },
    {
      "cell_type": "markdown",
      "source": [
        "##### Getting path of data"
      ],
      "metadata": {
        "id": "LgPb9y7XGwjm"
      }
    },
    {
      "cell_type": "code",
      "source": [
        "## Go in to the directories\n",
        "## Extracting only important data using Regex\n",
        "path = '/content/Raw Files/Raw_nii_files_for_MC_pCASL_T1_B0_M0/'\n",
        "regex = re.compile(r'__MPR.*') ; fileRegex1 = re.compile(r'(WIP)*T13D'); mri_data_path = []; \n",
        "\n",
        "# Iterating over Directories \n",
        "for subdir, dirs, files in os.walk(path):\n",
        "    for file in files:\n",
        "        # Storing the path of Data\n",
        "        if regex.search(file) == None:\n",
        "            if fileRegex1.search(file): mri_data_path.append(os.path.join(subdir, file));\n",
        "# Printing the path of Data\n",
        "for i in mri_data_path: print(i); "
      ],
      "metadata": {
        "colab": {
          "base_uri": "https://localhost:8080/"
        },
        "id": "BukdfqflVbnX",
        "outputId": "440e4125-8125-43f0-f433-48fc2c119c7b"
      },
      "execution_count": 9,
      "outputs": [
        {
          "output_type": "stream",
          "name": "stdout",
          "text": [
            "/content/Raw Files/Raw_nii_files_for_MC_pCASL_T1_B0_M0/1291194 dicom/__WIP_MPRAGE_T13D_SENSE_20150724132211_401.nii\n",
            "/content/Raw Files/Raw_nii_files_for_MC_pCASL_T1_B0_M0/1277547 dicom/__WIP_MPRAGE_T13D_SENSE_20150430160250_401.nii\n",
            "/content/Raw Files/Raw_nii_files_for_MC_pCASL_T1_B0_M0/1289317 dicom/__WIP_MPRAGE_T13D_SENSE_20150710135121_401.nii\n",
            "/content/Raw Files/Raw_nii_files_for_MC_pCASL_T1_B0_M0/1327832 dicom/__WIP_MPRAGE_T13D_SENSE_20160222133236_301.nii\n",
            "/content/Raw Files/Raw_nii_files_for_MC_pCASL_T1_B0_M0/1320961 dicom/__WIP_MPRAGE_T13D_SENSE_20160115152740_301.nii\n",
            "/content/Raw Files/Raw_nii_files_for_MC_pCASL_T1_B0_M0/1335478 dicom/__WIP_MPRAGE_T13D_SENSE_20160407112645_401.nii\n"
          ]
        }
      ]
    },
    {
      "cell_type": "markdown",
      "source": [
        "##### Loading data using nibabel"
      ],
      "metadata": {
        "id": "4ZknomRiG5-q"
      }
    },
    {
      "cell_type": "code",
      "source": [
        "mri_images = []\n",
        "\n",
        "# Loading data in the image vector\n",
        "for i in mri_data_path: mri_images.append(nib.load(i)); \n",
        "\n",
        "# Printing the shape of images stored and its data type\n",
        "for i in mri_images: print('Image shape ->',i.shape,end = '\\t'); print('Image Data Type ->',i.get_data_dtype());"
      ],
      "metadata": {
        "colab": {
          "base_uri": "https://localhost:8080/"
        },
        "id": "j7VUVypHG5ak",
        "outputId": "98eacee4-9010-4155-e27a-729eb32ca1f6"
      },
      "execution_count": 10,
      "outputs": [
        {
          "output_type": "stream",
          "name": "stdout",
          "text": [
            "Image shape -> (288, 288, 180)\tImage Data Type -> int16\n",
            "Image shape -> (288, 288, 180)\tImage Data Type -> int16\n",
            "Image shape -> (288, 288, 180)\tImage Data Type -> int16\n",
            "Image shape -> (288, 288, 180)\tImage Data Type -> int16\n",
            "Image shape -> (288, 288, 180)\tImage Data Type -> int16\n",
            "Image shape -> (288, 288, 180)\tImage Data Type -> int16\n"
          ]
        }
      ]
    },
    {
      "cell_type": "markdown",
      "source": [
        "###### Discussions -\n",
        "\n",
        "1. - The Data that is loaded right now is our X(Attribute) and Y should be our ASL Measured Data\n",
        "2. - The nii files are a 3D tensor with some values ranging between 0-400k (IDK what it is but we need to ask her in the next meeting)\n",
        "\n",
        "\n",
        "###### Things we do next -\n",
        "1. - Try to normalize the Values of X first\n",
        "2. - Understanding Y (ASL data) is next\n",
        "3. - We write a model for using X to predict Y\n",
        "\n"
      ],
      "metadata": {
        "id": "cJ0WMw35NP6v"
      }
    },
    {
      "cell_type": "markdown",
      "source": [
        "###### Data Analysis "
      ],
      "metadata": {
        "id": "fFMaYWuHvMOq"
      }
    },
    {
      "cell_type": "code",
      "source": [
        "## Reading the Data\n",
        "img = mri_images[0]\n",
        "a = np.array(img.dataobj)\n",
        "## Use to check whether there is anything there or not\n",
        "# print(a)\n",
        "# Getting maximum values from the np array\n",
        "a_max = np.amax(a); a_min = np.amin(a);\n",
        "print(a_max); print(a_min);  # To ask where this maximum value comming from"
      ],
      "metadata": {
        "colab": {
          "base_uri": "https://localhost:8080/"
        },
        "id": "1fzBs5LiATZZ",
        "outputId": "0a4bda62-64d5-4ad0-80ae-62b36b7c1181"
      },
      "execution_count": 11,
      "outputs": [
        {
          "output_type": "stream",
          "name": "stdout",
          "text": [
            "514092.99560546875\n",
            "0.0\n"
          ]
        }
      ]
    },
    {
      "cell_type": "code",
      "source": [
        "# Just checking the time taken to iterate over\n",
        "%timeit np.amin(a); \n",
        "%timeit np.amax(a); "
      ],
      "metadata": {
        "colab": {
          "base_uri": "https://localhost:8080/"
        },
        "id": "5ez2TpU-nHFY",
        "outputId": "cd17df9a-f9ee-413d-d67a-09f84ca311d1"
      },
      "execution_count": 12,
      "outputs": [
        {
          "output_type": "stream",
          "name": "stdout",
          "text": [
            "100 loops, best of 5: 13 ms per loop\n",
            "100 loops, best of 5: 12.9 ms per loop\n"
          ]
        }
      ]
    },
    {
      "cell_type": "code",
      "source": [
        "## Min max noramalization\n",
        "a[:,:,:] = (a - a.min()) / (a.max() - a.min())"
      ],
      "metadata": {
        "id": "kzFDxdNqnsIZ"
      },
      "execution_count": 13,
      "outputs": []
    },
    {
      "cell_type": "code",
      "source": [
        "# Normalized\n",
        "a_max = np.amax(a); a_min = np.amin(a);\n",
        "print(a_max); print(a_min);\n",
        "\n",
        "# Unique counts \n",
        "unique, counts = np.unique(a, return_counts=True)\n",
        "freq_counts = np.vstack(( unique, counts)).T\n",
        "print(freq_counts)\n",
        "\n",
        "## Uncomment to plot the graph\n",
        "# fig = plt.figure()\n",
        "# ax = fig.add_axes([0,0,1,1])\n",
        "# ax.bar(unique,counts)\n",
        "# # Most of the normalized values lies at less than <0.40 of maximum \n",
        "# # There is a lot of data imbalance  \n",
        "# plt.show()"
      ],
      "metadata": {
        "id": "cIH1B4vsoDW7"
      },
      "execution_count": null,
      "outputs": []
    },
    {
      "cell_type": "markdown",
      "source": [
        "###### Discussions -\n",
        "\n",
        "1. - There is a huge unique data imbalance most of the values after noramzalization are below 40% of maximum value.\n",
        "\n",
        "###### Things we do next -\n",
        "1. - Load Y\n",
        "2. - Understanding Y ASL data\n",
        "3. - Normalizing Y"
      ],
      "metadata": {
        "id": "O-gdtGQGvxSy"
      }
    },
    {
      "cell_type": "markdown",
      "source": [
        "###### Reading the Target Data (ASL)"
      ],
      "metadata": {
        "id": "o-6w7iBOr_Nj"
      }
    },
    {
      "cell_type": "code",
      "source": [
        "# Getting the path for ASL files\n",
        "asl_path = '/content/Baseline/'\n",
        "asl_data_path = []\n",
        "\n",
        "# Iterating over directories\n",
        "for subdir, dirs, files in os.walk(asl_path):\n",
        "    # Selecting the ASL file\n",
        "    for file in files:\n",
        "        if file == 'asldata.nii': asl_data_path.append(os.path.join(subdir, file));\n",
        "\n",
        "# Printing the path of ASL images\n",
        "for i in asl_data_path: print(i);\n"
      ],
      "metadata": {
        "colab": {
          "base_uri": "https://localhost:8080/"
        },
        "id": "lgPPGY2opO4f",
        "outputId": "538a5155-90a1-4961-c5fa-b6f62b1136f5"
      },
      "execution_count": 28,
      "outputs": [
        {
          "output_type": "stream",
          "name": "stdout",
          "text": [
            "/content/Baseline/1291194 dicom/analysis/asldata.nii\n",
            "/content/Baseline/1277547 dicom/analysis/asldata.nii\n",
            "/content/Baseline/1289317 dicom/analysis/asldata.nii\n",
            "/content/Baseline/1259089 dicom/sub0001/asldata.nii\n",
            "/content/Baseline/1327832 dicom/analysis/asldata.nii\n",
            "/content/Baseline/1320961 dicom/analysis/asldata.nii\n"
          ]
        }
      ]
    },
    {
      "cell_type": "code",
      "source": [
        "asl_images = []\n",
        "\n",
        "# Loading data in the image vector\n",
        "for i in asl_data_path: asl_images.append(nib.load(i)); \n",
        "\n",
        "# Printing the shape of images stored and its data type\n",
        "for i in asl_images: print('Image shape ->',i.shape,end = '\\t'); print('Image Data Type ->',i.get_data_dtype());"
      ],
      "metadata": {
        "colab": {
          "base_uri": "https://localhost:8080/"
        },
        "id": "bFKwifLEu350",
        "outputId": "a0851caa-ea38-46e6-f52b-7c92a54a39be"
      },
      "execution_count": 16,
      "outputs": [
        {
          "output_type": "stream",
          "name": "stdout",
          "text": [
            "Image shape -> (80, 80, 13, 60)\tImage Data Type -> int16\n",
            "Image shape -> (80, 80, 13, 60)\tImage Data Type -> int16\n",
            "Image shape -> (80, 80, 13, 60)\tImage Data Type -> int16\n",
            "Image shape -> (80, 80, 13, 60)\tImage Data Type -> int16\n",
            "Image shape -> (80, 80, 13, 60)\tImage Data Type -> int16\n",
            "Image shape -> (80, 80, 13, 60)\tImage Data Type -> int16\n"
          ]
        }
      ]
    },
    {
      "cell_type": "markdown",
      "source": [
        "##### EDA and Normalization of ASL DATA"
      ],
      "metadata": {
        "id": "mnL8r-9CvmPI"
      }
    },
    {
      "cell_type": "code",
      "source": [
        "## Reading the Data\n",
        "img = asl_images[0]\n",
        "a = np.array(img.dataobj)\n",
        "## Use to check whether there is anything there or not\n",
        "# print(a)\n",
        "# Getting maximum values from the np array\n",
        "a_max = np.amax(a); a_min = np.amin(a);\n",
        "print(a_max); print(a_min); "
      ],
      "metadata": {
        "colab": {
          "base_uri": "https://localhost:8080/"
        },
        "id": "DFaRt_lWvkN0",
        "outputId": "bce37665-84c5-49dd-d52e-c6f62f264c0b"
      },
      "execution_count": 17,
      "outputs": [
        {
          "output_type": "stream",
          "name": "stdout",
          "text": [
            "1063438.9997558594\n",
            "0.0\n"
          ]
        }
      ]
    },
    {
      "cell_type": "code",
      "source": [
        "# Just checking the time taken to iterate over\n",
        "%timeit np.amin(a); \n",
        "%timeit np.amax(a); "
      ],
      "metadata": {
        "colab": {
          "base_uri": "https://localhost:8080/"
        },
        "id": "mXa_2E8HwYpo",
        "outputId": "ac94ad59-7b8a-4e17-8adb-104c28fe83b5"
      },
      "execution_count": 18,
      "outputs": [
        {
          "output_type": "stream",
          "name": "stdout",
          "text": [
            "100 loops, best of 5: 1.92 ms per loop\n",
            "100 loops, best of 5: 2.03 ms per loop\n"
          ]
        }
      ]
    },
    {
      "cell_type": "code",
      "source": [
        "## Min max noramalization\n",
        "a[:,:,:] = (a - a.min()) / (a.max() - a.min())"
      ],
      "metadata": {
        "id": "0Nct8JauwdUK"
      },
      "execution_count": 19,
      "outputs": []
    },
    {
      "cell_type": "code",
      "source": [
        "# Normalized\n",
        "a_max = np.amax(a); a_min = np.amin(a);\n",
        "print(a_max); print(a_min);\n",
        "\n",
        "# Unique counts \n",
        "unique, counts = np.unique(a, return_counts=True)\n",
        "freq_counts = np.vstack(( unique, counts)).T\n",
        "print(freq_counts)\n",
        "\n",
        "\n",
        "# # Uncomment to plot the graph\n",
        "# fig = plt.figure()\n",
        "# ax = fig.add_axes([0,0,1,1])\n",
        "# ax.bar(unique,counts)\n",
        "# # Most of the normalized values lies at less than <0.40 of maximum \n",
        "# # There is a lot of data imbalance  \n",
        "# plt.show()"
      ],
      "metadata": {
        "colab": {
          "base_uri": "https://localhost:8080/"
        },
        "id": "-TqL8tJ8wgCY",
        "outputId": "04649e0a-d636-4b0d-8196-f8c28220e434"
      },
      "execution_count": 20,
      "outputs": [
        {
          "output_type": "stream",
          "name": "stdout",
          "text": [
            "1.0\n",
            "0.0\n",
            "[[0.00000000e+00 8.40625000e+05]\n",
            " [9.22509225e-04 5.49038000e+05]\n",
            " [1.84501845e-03 3.28383000e+05]\n",
            " ...\n",
            " [9.98154982e-01 1.00000000e+00]\n",
            " [9.99077491e-01 1.00000000e+00]\n",
            " [1.00000000e+00 1.00000000e+00]]\n"
          ]
        }
      ]
    },
    {
      "cell_type": "markdown",
      "source": [
        "###### Discussions -\n",
        "\n",
        "1. - The values of ASL are kind of similar after the min max normalization. This means we can train a model and get good results. \n",
        "\n",
        "###### Things we do next -\n",
        "1. - Try to make the data a bit more better \n",
        "2. - Understanding X and Y even better\n",
        "3. - Trying to make things a notch simpler"
      ],
      "metadata": {
        "id": "rPdTrn9zwu8k"
      }
    },
    {
      "cell_type": "markdown",
      "source": [
        "##### Making Training and Testing data"
      ],
      "metadata": {
        "id": "Vv4DQqreAVvZ"
      }
    },
    {
      "cell_type": "markdown",
      "source": [
        "###### Creating DATA dicts"
      ],
      "metadata": {
        "id": "MoFEq8qKDRY-"
      }
    },
    {
      "cell_type": "code",
      "source": [
        "print('MRI DATA DICT \\t \\n','-'*50);\n",
        "### Data hashmaps - \n",
        "### Mri Data  ## Idea - Patient number(key) - Path Stored(value)\n",
        "mri_map = {};\n",
        "\n",
        "## Iterating over the mri data's path\n",
        "for i in mri_data_path:\n",
        "    ## Value is our path i.e. stored and key is the patient number\n",
        "    value = i; key = i.split('/')[4].split(' ')[0]; mri_map[key] = value;\n",
        "\n",
        "# Printing the mri_data_dict \n",
        "for k,v in mri_map.items(): print(k,'->',v);\n",
        "\n",
        "######\n",
        "print('\\nASL DATA DICT - \\t \\n','-'*50);\n",
        "######\n",
        "### ASL Data ## Idea - Patient number(key) - Path Stored(value)\n",
        "asl_map = {}\n",
        "\n",
        "## Iterating over the mri data's path\n",
        "for i in asl_data_path:\n",
        "    ## Value is our path i.e. stored and key is the patient number\n",
        "    value = i; key = i.split('/')[3].split(' ')[0]; asl_map[key] = value;\n",
        "\n",
        "# Printing the asl_data_dict \n",
        "for k,v in asl_map.items(): print(k,'->',v);"
      ],
      "metadata": {
        "colab": {
          "base_uri": "https://localhost:8080/"
        },
        "id": "5u9N1yDwAUv-",
        "outputId": "e0fca5a4-a272-4258-b201-33cbac4d6788"
      },
      "execution_count": 35,
      "outputs": [
        {
          "output_type": "stream",
          "name": "stdout",
          "text": [
            "MRI DATA DICT \t \n",
            " --------------------------------------------------\n",
            "1291194 -> /content/Raw Files/Raw_nii_files_for_MC_pCASL_T1_B0_M0/1291194 dicom/__WIP_MPRAGE_T13D_SENSE_20150724132211_401.nii\n",
            "1277547 -> /content/Raw Files/Raw_nii_files_for_MC_pCASL_T1_B0_M0/1277547 dicom/__WIP_MPRAGE_T13D_SENSE_20150430160250_401.nii\n",
            "1289317 -> /content/Raw Files/Raw_nii_files_for_MC_pCASL_T1_B0_M0/1289317 dicom/__WIP_MPRAGE_T13D_SENSE_20150710135121_401.nii\n",
            "1327832 -> /content/Raw Files/Raw_nii_files_for_MC_pCASL_T1_B0_M0/1327832 dicom/__WIP_MPRAGE_T13D_SENSE_20160222133236_301.nii\n",
            "1320961 -> /content/Raw Files/Raw_nii_files_for_MC_pCASL_T1_B0_M0/1320961 dicom/__WIP_MPRAGE_T13D_SENSE_20160115152740_301.nii\n",
            "1335478 -> /content/Raw Files/Raw_nii_files_for_MC_pCASL_T1_B0_M0/1335478 dicom/__WIP_MPRAGE_T13D_SENSE_20160407112645_401.nii\n",
            "\n",
            "ASL DATA DICT - \t \n",
            " --------------------------------------------------\n",
            "1291194 -> /content/Baseline/1291194 dicom/analysis/asldata.nii\n",
            "1277547 -> /content/Baseline/1277547 dicom/analysis/asldata.nii\n",
            "1289317 -> /content/Baseline/1289317 dicom/analysis/asldata.nii\n",
            "1259089 -> /content/Baseline/1259089 dicom/sub0001/asldata.nii\n",
            "1327832 -> /content/Baseline/1327832 dicom/analysis/asldata.nii\n",
            "1320961 -> /content/Baseline/1320961 dicom/analysis/asldata.nii\n"
          ]
        }
      ]
    },
    {
      "cell_type": "markdown",
      "source": [
        "##### Making Training Data X,Y"
      ],
      "metadata": {
        "id": "xwUFV8bjDV1K"
      }
    },
    {
      "cell_type": "code",
      "source": [
        "## Lists to get train x and train y differently\n",
        "train_x = [] ; train_y = []; \n",
        "\n",
        "### Traversing over the map and getting the values for which asl data is present\n",
        "for k,v in mri_map.items():\n",
        "    if k in asl_map: train_x.append(v); train_y.append(asl_map[k]);\n",
        "\n",
        "## Printing train_x and train_y to get path stored\n",
        "for i in train_x: print(i);\n",
        "for i in train_y: print(i);"
      ],
      "metadata": {
        "colab": {
          "base_uri": "https://localhost:8080/"
        },
        "id": "MDwePweb67A0",
        "outputId": "61b9232c-8f36-4b27-9764-5514c52e011f"
      },
      "execution_count": 39,
      "outputs": [
        {
          "output_type": "stream",
          "name": "stdout",
          "text": [
            "/content/Raw Files/Raw_nii_files_for_MC_pCASL_T1_B0_M0/1291194 dicom/__WIP_MPRAGE_T13D_SENSE_20150724132211_401.nii\n",
            "/content/Raw Files/Raw_nii_files_for_MC_pCASL_T1_B0_M0/1277547 dicom/__WIP_MPRAGE_T13D_SENSE_20150430160250_401.nii\n",
            "/content/Raw Files/Raw_nii_files_for_MC_pCASL_T1_B0_M0/1289317 dicom/__WIP_MPRAGE_T13D_SENSE_20150710135121_401.nii\n",
            "/content/Raw Files/Raw_nii_files_for_MC_pCASL_T1_B0_M0/1327832 dicom/__WIP_MPRAGE_T13D_SENSE_20160222133236_301.nii\n",
            "/content/Raw Files/Raw_nii_files_for_MC_pCASL_T1_B0_M0/1320961 dicom/__WIP_MPRAGE_T13D_SENSE_20160115152740_301.nii\n",
            "/content/Baseline/1291194 dicom/analysis/asldata.nii\n",
            "/content/Baseline/1277547 dicom/analysis/asldata.nii\n",
            "/content/Baseline/1289317 dicom/analysis/asldata.nii\n",
            "/content/Baseline/1327832 dicom/analysis/asldata.nii\n",
            "/content/Baseline/1320961 dicom/analysis/asldata.nii\n"
          ]
        }
      ]
    },
    {
      "cell_type": "markdown",
      "source": [
        "#### Model Tensorflow"
      ],
      "metadata": {
        "id": "feCaSb2OAH3M"
      }
    },
    {
      "cell_type": "code",
      "source": [
        "def try_cnn():\n",
        "    inputs = tf.keras.Input(288, 288, 180)\n",
        "    "
      ],
      "metadata": {
        "id": "4bblp3S2AKVR"
      },
      "execution_count": 45,
      "outputs": []
    },
    {
      "cell_type": "markdown",
      "source": [
        "#### Model Pytorch"
      ],
      "metadata": {
        "id": "GWjKJE6U66pw"
      }
    },
    {
      "cell_type": "code",
      "source": [
        "## Defining the model in torch\n",
        "class Unet_3D(torch.nn.Module):\n",
        "    ## Intializing the constructor\n",
        "    def __init__(self):\n",
        "\n",
        "        super(Unet_3D, self).__init__()\n",
        "        ### Adding layers\n",
        "        \n",
        "        self.linear1 = torch.nn.Linear(100, 200)\n",
        "        self.activation = torch.nn.ReLU()\n",
        "        self.linear2 = torch.nn.Linear(200, 10)\n",
        "        self.softmax = torch.nn.Softmax()\n",
        "        self.conv1 = torch.nn.Conv3d(32, (3,3,3))\n",
        "        conv1 = Conv3D(32, (3,3,3), activation = 'relu', use_bias=True, padding = 'same', kernel_initializer = 'he_normal')(unet_inputs)\n",
        "        conv1 = Conv3D(32, (3,3,3), activation = 'relu', use_bias=True, padding = 'same', kernel_initializer = 'he_normal')(conv1)\n",
        "        drop1 = Dropout(0.5)(conv1)\n",
        "        pool1 = MaxPooling3D(pool_size=(2, 2, 2))(drop1)\n",
        "\n",
        "        conv2 = Conv3D(32, (3,3,3), activation = 'relu', use_bias=True, padding = 'same', kernel_initializer = 'he_normal')(pool1)\n",
        "        conv2 = Conv3D(64, (3,3,3), activation = 'relu', use_bias=True, padding = 'same', kernel_initializer = 'he_normal')(conv2)\n",
        "        drop2 = Dropout(0.5)(conv2)\n",
        "        pool2 = MaxPooling3D(pool_size=(2, 2, 2))(drop2)\n",
        "\n",
        "        conv3 = Conv3D(64, 3, activation = 'relu', use_bias=True, padding = 'same', kernel_initializer = 'he_normal')(pool2)\n",
        "        conv3 = Conv3D(128, 3, activation = 'relu', use_bias=True, padding = 'same', kernel_initializer = 'he_normal')(conv3)\n",
        "        drop3 = Dropout(0.5)(conv3)\n",
        "        pool3 = MaxPooling3D(pool_size=(2, 2, 2))(drop3)\n",
        "\n",
        "        conv4 = Conv3D(128, 3, activation = 'relu', use_bias=True, padding = 'same', kernel_initializer = 'he_normal')(pool3)\n",
        "        conv4 = Conv3D(256, 3, activation = 'relu', use_bias=True, padding = 'same', kernel_initializer = 'he_normal')(conv4)\n",
        "        drop4 = Dropout(0.5)(conv4)\n",
        "\n",
        "        up5 = Conv3D(128, 3, activation = 'relu', use_bias=True, padding = 'same', kernel_initializer = 'he_normal')(UpSampling3D(size = (2,2,2))(drop4))\n",
        "        merge5 = concatenate([drop3,up5], axis = 4)\n",
        "        conv5 = Conv3D(128, 3, activation = 'relu', use_bias=True, padding = 'same', kernel_initializer = 'he_normal')(merge5)\n",
        "        conv5 = Conv3D(128, 3, activation = 'relu', use_bias=True, padding = 'same', kernel_initializer = 'he_normal')(conv5)\n",
        "\n",
        "        up6 = Conv3D(64, 3, activation = 'relu', use_bias=True, padding = 'same', kernel_initializer = 'he_normal')(UpSampling3D(size = (2,2,2))(conv5))\n",
        "        merge6 = concatenate([drop2,up6], axis = 4)\n",
        "        conv6 = Conv3D(64, 3, activation = 'relu', use_bias=True, padding = 'same', kernel_initializer = 'he_normal')(merge6)\n",
        "        conv6 = Conv3D(64, 3, activation = 'relu', use_bias=True, padding = 'same', kernel_initializer = 'he_normal')(conv6)\n",
        "\n",
        "        up7 = Conv3D(32, 3, activation = 'relu', use_bias=True, padding = 'same', kernel_initializer = 'he_normal')(UpSampling3D(size = (2,2,2))(conv6))\n",
        "        merge7 = concatenate([drop1,up7], axis = 4)\n",
        "        conv7 = Conv3D(32, 3, activation = 'relu', use_bias=True, padding = 'same', kernel_initializer = 'he_normal')(merge7)\n",
        "        conv7 = Conv3D(32, 3, activation = 'relu', use_bias=True, padding = 'same', kernel_initializer = 'he_normal')(conv7)\n",
        "\n",
        "        conv8 = Conv3D(1, 1, activation = 'relu', use_bias=True, padding = 'same', kernel_initializer = 'he_normal')(conv7)\n",
        "\n",
        "\n",
        "    def forward(self, x):\n",
        "        x = self.linear1(x)\n",
        "        x = self.activation(x)\n",
        "        x = self.linear2(x)\n",
        "        x = self.softmax(x)\n",
        "        return x\n",
        "\n",
        "Unet = Unet_3D()"
      ],
      "metadata": {
        "id": "R5hPg4TU66Ds"
      },
      "execution_count": 22,
      "outputs": []
    },
    {
      "cell_type": "code",
      "source": [
        ""
      ],
      "metadata": {
        "id": "P2ovprvyxEeV"
      },
      "execution_count": null,
      "outputs": []
    }
  ]
}