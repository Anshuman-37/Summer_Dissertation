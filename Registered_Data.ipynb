{
  "nbformat": 4,
  "nbformat_minor": 0,
  "metadata": {
    "colab": {
      "name": "Registered_Data.ipynb",
      "provenance": [],
      "collapsed_sections": [
        "SWxYjLMgK783",
        "jFE3JWppLIoz",
        "vnKNhzInL1UZ",
        "0RKosQETtWmO"
      ],
      "machine_shape": "hm",
      "authorship_tag": "ABX9TyP/JahP/8q+GlOUPKI/hg+p",
      "include_colab_link": true
    },
    "kernelspec": {
      "name": "python3",
      "display_name": "Python 3"
    },
    "language_info": {
      "name": "python"
    },
    "gpuClass": "standard",
    "accelerator": "GPU"
  },
  "cells": [
    {
      "cell_type": "markdown",
      "metadata": {
        "id": "view-in-github",
        "colab_type": "text"
      },
      "source": [
        "<a href=\"https://colab.research.google.com/github/Anshuman-37/Summer_Dissertation/blob/main/Registered_Data.ipynb\" target=\"_parent\"><img src=\"https://colab.research.google.com/assets/colab-badge.svg\" alt=\"Open In Colab\"/></a>"
      ]
    },
    {
      "cell_type": "markdown",
      "source": [
        "### FSL Installation and Kaggle Prerequisties"
      ],
      "metadata": {
        "id": "PcxoFw1qJiVT"
      }
    },
    {
      "cell_type": "code",
      "source": [
        "# ## On Average Takes around 16 minutes \n",
        "import os\n",
        "!sudo apt -qq install file\n",
        "!wget https://fsl.fmrib.ox.ac.uk/fsldownloads/fslinstaller.py\n",
        "!python2 fslinstaller.py\n",
        "\n",
        "fslpath = \"/usr/local/fsl\"\n",
        "os.environ[\"FSLDIR\"] = fslpath\n",
        "os.environ[\"PATH\"] += os.pathsep + os.path.join(fslpath, 'bin')\n",
        "!. ${FSLDIR}/etc/fslconf/fsl.sh\n",
        "\n",
        "!flirt -version "
      ],
      "metadata": {
        "colab": {
          "base_uri": "https://localhost:8080/"
        },
        "id": "p8fUWv40f0OS",
        "outputId": "56aee4ae-acea-47a2-b3f4-c0cc28207aea"
      },
      "execution_count": 1,
      "outputs": [
        {
          "output_type": "stream",
          "name": "stdout",
          "text": [
            "Checking FSL package\n",
            "\u001b[92m[OK] \u001b[0mFile downloaded\n",
            "Installing FSL software version 6.0.5.2...\n",
            "-\b\\\b|\b/\b-\b\\\b|\b/\b-\b\\\b|\b/\b-\b\\\b|\b/\b-\b\\\b|\b/\b-\b\\\b|\b/\b-\b\\\b|\b/\b-\b\\\b|\b/\b-\b\\\b|\b/\b-\b\\\b|\b/\b-\b\\\b|\b/\b-\b\\\b|\b/\b-\b\\\b|\b/\b-\b\\\b|\b/\b-\b\\\b|\b/\b-\b\\\b|\b/\b-\b\\\b|\b/\b-\b\\\b|\b/\b-\b\\\b|\b/\b-\b\\\b|\b/\b-\b\\\b|\b/\b-\b\\\b|\b/\b-\b\\\b|\b/\b-\b\\\b|\b/\b-\b\\\b|\b/\b-\b\\\b|\b/\b-\b\\\b|\b/\b-\b\\\b|\b/\b-\b\\\b|\b/\b-\b\\\b|\b/\b-\b\\\b|\b/\b-\b\\\b|\b/\b-\b\\\b|\b/\b-\b\\\b|\b/\b-\b\\\b|\b/\b-\b\\\b|\b/\b-\b\\\b|\b/\b-\b\\\b|\b/\b-\b\\\b|\b/\b-\b\\\b|\b/\b-\b\\\b|\b/\b-\b\\\b|\b/\b-\b\\\b|\b/\b-\b\\\b|\b/\b-\b\\\b|\b/\b-\b\\\b|\b/\b-\b\\\b|\b/\b-\b\\\b|\b/\b-\b\\\b|\b/\b-\b\\\b|\b/\b-\b\\\b|\b/\b-\b\\\b|\b/\b-\b\\\b|\b/\b-\b\\\b|\b/\b-\b\\\b|\b/\b-\b\\\b|\b/\b-\b\\\b|\b/\b-\b\\\b|\b/\b-\b\\\b|\b/\b-\b\\\b|\b/\b-\b\\\b|\b/\b-\b\\\b|\b/\b-\b\\\b|\b/\b-\b\\\b|\b/\b-\b\\\b|\b/\b-\b\\\b|\b/\b-\b\\\b|\b/\b-\b\\\b|\b/\b-\b\\\b|\b/\b-\b\\\b|\b/\b-\b\\\b|\b/\b-\b\\\b|\b/\b-\b\\\b|\b/\b-\b\\\b|\b/\b-\b\\\b|\b/\b-\b\\\b|\b/\b-\b\\\b|\b/\b-\b\\\b|\b/\b-\b\\\b|\b/\b-\b\\\b|\b/\b-\b\\\b|\b/\b-\b\\\b|\b/\b-\b\\\b|\b/\b-\b\\\b|\b/\b-\b\\\b|\b/\b-\b\\\b|\b/\b-\b\\\b|\b/\b-\b\\\b|\b/\b-\b\\\b|\b/\b-\b\\\b|\b/\b-\b\\\b|\b\u001b[92m[OK] \u001b[0mFSL software installed.\n",
            "/\b-\bPerforming post install tasks\n",
            "\\\bStage 1\n",
            "By installing this python distribution you agree to the license terms in\n",
            "/usr/local/fsl/fslpython/LICENSE.txt\n",
            "100%\n",
            "Stage 2\n",
            "100%\n",
            "/tmp/fslpython2qC9/fslpython_miniconda_installer.log\n",
            "Post install setup complete\n",
            "\u001b[92m[OK] \u001b[0mPost installation setup complete\n",
            "FLIRT version 6.0\n"
          ]
        }
      ]
    },
    {
      "cell_type": "code",
      "execution_count": 3,
      "metadata": {
        "id": "PdWPPWotIeo_",
        "colab": {
          "base_uri": "https://localhost:8080/"
        },
        "outputId": "ee72e4e2-5030-4b69-eb19-45837e548438"
      },
      "outputs": [
        {
          "output_type": "stream",
          "name": "stdout",
          "text": [
            "Looking in indexes: https://pypi.org/simple, https://us-python.pkg.dev/colab-wheels/public/simple/\n",
            "Requirement already satisfied: kaggle in /usr/local/lib/python3.7/dist-packages (1.5.12)\n",
            "Requirement already satisfied: tqdm in /usr/local/lib/python3.7/dist-packages (from kaggle) (4.64.0)\n",
            "Requirement already satisfied: six>=1.10 in /usr/local/lib/python3.7/dist-packages (from kaggle) (1.15.0)\n",
            "Requirement already satisfied: certifi in /usr/local/lib/python3.7/dist-packages (from kaggle) (2022.6.15)\n",
            "Requirement already satisfied: python-dateutil in /usr/local/lib/python3.7/dist-packages (from kaggle) (2.8.2)\n",
            "Requirement already satisfied: python-slugify in /usr/local/lib/python3.7/dist-packages (from kaggle) (6.1.2)\n",
            "Requirement already satisfied: urllib3 in /usr/local/lib/python3.7/dist-packages (from kaggle) (1.24.3)\n",
            "Requirement already satisfied: requests in /usr/local/lib/python3.7/dist-packages (from kaggle) (2.23.0)\n",
            "Requirement already satisfied: text-unidecode>=1.3 in /usr/local/lib/python3.7/dist-packages (from python-slugify->kaggle) (1.3)\n",
            "Requirement already satisfied: idna<3,>=2.5 in /usr/local/lib/python3.7/dist-packages (from requests->kaggle) (2.10)\n",
            "Requirement already satisfied: chardet<4,>=3.0.2 in /usr/local/lib/python3.7/dist-packages (from requests->kaggle) (3.0.4)\n",
            "mkdir: cannot create directory ‘content/data’: No such file or directory\n",
            "Downloading something-bigger.zip to /content\n",
            "100% 2.12G/2.12G [00:21<00:00, 125MB/s]\n",
            "100% 2.12G/2.12G [00:21<00:00, 107MB/s]\n",
            "Archive:  /content/something-bigger.zip\n",
            "  inflating: data_new/Main_Data/sub-1269766/calib_voxelwise/aCBV.nii  \n",
            "  inflating: data_new/Main_Data/sub-1269766/calib_voxelwise/aCBV_var.nii  \n",
            "  inflating: data_new/Main_Data/sub-1269766/calib_voxelwise/arrival.nii  \n",
            "  inflating: data_new/Main_Data/sub-1269766/calib_voxelwise/arrival_var.nii  \n",
            "  inflating: data_new/Main_Data/sub-1269766/calib_voxelwise/mask.nii  \n",
            "  inflating: data_new/Main_Data/sub-1269766/calib_voxelwise/modelfit_mean.nii  \n",
            "  inflating: data_new/Main_Data/sub-1269766/calib_voxelwise/perfusion.nii  \n",
            "  inflating: data_new/Main_Data/sub-1269766/calib_voxelwise/perfusion_var.nii  \n",
            "  inflating: data_new/Main_Data/sub-1269766/data2std/T1_2_std.nii  \n",
            "  inflating: data_new/Main_Data/sub-1269766/data2std/T1_2_std_brain_lin.nii  \n",
            "  inflating: data_new/Main_Data/sub-1269766/data2std/T1_2_std_brain_warped.nii  \n",
            "  inflating: data_new/Main_Data/sub-1269766/data2std/T1_2_std_warped.nii  \n",
            "  inflating: data_new/Main_Data/sub-1270714/calib_voxelwise/aCBV.nii  \n",
            "  inflating: data_new/Main_Data/sub-1270714/calib_voxelwise/aCBV_var.nii  \n",
            "  inflating: data_new/Main_Data/sub-1270714/calib_voxelwise/arrival.nii  \n",
            "  inflating: data_new/Main_Data/sub-1270714/calib_voxelwise/arrival_var.nii  \n",
            "  inflating: data_new/Main_Data/sub-1270714/calib_voxelwise/mask.nii  \n",
            "  inflating: data_new/Main_Data/sub-1270714/calib_voxelwise/modelfit_mean.nii  \n",
            "  inflating: data_new/Main_Data/sub-1270714/calib_voxelwise/perfusion.nii  \n",
            "  inflating: data_new/Main_Data/sub-1270714/calib_voxelwise/perfusion_var.nii  \n",
            "  inflating: data_new/Main_Data/sub-1270714/data2std/T1_2_std.nii  \n",
            "  inflating: data_new/Main_Data/sub-1270714/data2std/T1_2_std_brain_lin.nii  \n",
            "  inflating: data_new/Main_Data/sub-1270714/data2std/T1_2_std_brain_warped.nii  \n",
            "  inflating: data_new/Main_Data/sub-1270714/data2std/T1_2_std_warped.nii  \n",
            "  inflating: data_new/Main_Data/sub-1270717/calib_voxelwise/aCBV.nii  \n",
            "  inflating: data_new/Main_Data/sub-1270717/calib_voxelwise/aCBV_var.nii  \n",
            "  inflating: data_new/Main_Data/sub-1270717/calib_voxelwise/arrival.nii  \n",
            "  inflating: data_new/Main_Data/sub-1270717/calib_voxelwise/arrival_var.nii  \n",
            "  inflating: data_new/Main_Data/sub-1270717/calib_voxelwise/mask.nii  \n",
            "  inflating: data_new/Main_Data/sub-1270717/calib_voxelwise/modelfit_mean.nii  \n",
            "  inflating: data_new/Main_Data/sub-1270717/calib_voxelwise/perfusion.nii  \n",
            "  inflating: data_new/Main_Data/sub-1270717/calib_voxelwise/perfusion_var.nii  \n",
            "  inflating: data_new/Main_Data/sub-1270717/data2std/T1_2_std.nii  \n",
            "  inflating: data_new/Main_Data/sub-1270717/data2std/T1_2_std_brain_lin.nii  \n",
            "  inflating: data_new/Main_Data/sub-1270717/data2std/T1_2_std_brain_warped.nii  \n",
            "  inflating: data_new/Main_Data/sub-1270717/data2std/T1_2_std_warped.nii  \n",
            "  inflating: data_new/Main_Data/sub-1271799/calib_voxelwise/aCBV.nii  \n",
            "  inflating: data_new/Main_Data/sub-1271799/calib_voxelwise/aCBV_var.nii  \n",
            "  inflating: data_new/Main_Data/sub-1271799/calib_voxelwise/arrival.nii  \n",
            "  inflating: data_new/Main_Data/sub-1271799/calib_voxelwise/arrival_var.nii  \n",
            "  inflating: data_new/Main_Data/sub-1271799/calib_voxelwise/mask.nii  \n",
            "  inflating: data_new/Main_Data/sub-1271799/calib_voxelwise/modelfit_mean.nii  \n",
            "  inflating: data_new/Main_Data/sub-1271799/calib_voxelwise/perfusion.nii  \n",
            "  inflating: data_new/Main_Data/sub-1271799/calib_voxelwise/perfusion_var.nii  \n",
            "  inflating: data_new/Main_Data/sub-1271799/data2std/T1_2_std.nii  \n",
            "  inflating: data_new/Main_Data/sub-1271799/data2std/T1_2_std_brain_lin.nii  \n",
            "  inflating: data_new/Main_Data/sub-1271799/data2std/T1_2_std_brain_warped.nii  \n",
            "  inflating: data_new/Main_Data/sub-1271799/data2std/T1_2_std_warped.nii  \n",
            "  inflating: data_new/Main_Data/sub-1271895/calib_voxelwise/aCBV.nii  \n",
            "  inflating: data_new/Main_Data/sub-1271895/calib_voxelwise/aCBV_var.nii  \n",
            "  inflating: data_new/Main_Data/sub-1271895/calib_voxelwise/arrival.nii  \n",
            "  inflating: data_new/Main_Data/sub-1271895/calib_voxelwise/arrival_var.nii  \n",
            "  inflating: data_new/Main_Data/sub-1271895/calib_voxelwise/mask.nii  \n",
            "  inflating: data_new/Main_Data/sub-1271895/calib_voxelwise/modelfit_mean.nii  \n",
            "  inflating: data_new/Main_Data/sub-1271895/calib_voxelwise/perfusion.nii  \n",
            "  inflating: data_new/Main_Data/sub-1271895/calib_voxelwise/perfusion_var.nii  \n",
            "  inflating: data_new/Main_Data/sub-1271895/data2std/T1_2_std.nii  \n",
            "  inflating: data_new/Main_Data/sub-1271895/data2std/T1_2_std_brain_lin.nii  \n",
            "  inflating: data_new/Main_Data/sub-1271895/data2std/T1_2_std_brain_warped.nii  \n",
            "  inflating: data_new/Main_Data/sub-1271895/data2std/T1_2_std_warped.nii  \n",
            "  inflating: data_new/Main_Data/sub-1273951/calib_voxelwise/aCBV.nii  \n",
            "  inflating: data_new/Main_Data/sub-1273951/calib_voxelwise/aCBV_var.nii  \n",
            "  inflating: data_new/Main_Data/sub-1273951/calib_voxelwise/arrival.nii  \n",
            "  inflating: data_new/Main_Data/sub-1273951/calib_voxelwise/arrival_var.nii  \n",
            "  inflating: data_new/Main_Data/sub-1273951/calib_voxelwise/mask.nii  \n",
            "  inflating: data_new/Main_Data/sub-1273951/calib_voxelwise/modelfit_mean.nii  \n",
            "  inflating: data_new/Main_Data/sub-1273951/calib_voxelwise/perfusion.nii  \n",
            "  inflating: data_new/Main_Data/sub-1273951/calib_voxelwise/perfusion_var.nii  \n",
            "  inflating: data_new/Main_Data/sub-1273951/data2std/T1_2_std.nii  \n",
            "  inflating: data_new/Main_Data/sub-1273951/data2std/T1_2_std_brain_lin.nii  \n",
            "  inflating: data_new/Main_Data/sub-1273951/data2std/T1_2_std_brain_warped.nii  \n",
            "  inflating: data_new/Main_Data/sub-1273951/data2std/T1_2_std_warped.nii  \n",
            "  inflating: data_new/Main_Data/sub-1273952/calib_voxelwise/aCBV.nii  \n",
            "  inflating: data_new/Main_Data/sub-1273952/calib_voxelwise/aCBV_var.nii  \n",
            "  inflating: data_new/Main_Data/sub-1273952/calib_voxelwise/arrival.nii  \n",
            "  inflating: data_new/Main_Data/sub-1273952/calib_voxelwise/arrival_var.nii  \n",
            "  inflating: data_new/Main_Data/sub-1273952/calib_voxelwise/mask.nii  \n",
            "  inflating: data_new/Main_Data/sub-1273952/calib_voxelwise/modelfit_mean.nii  \n",
            "  inflating: data_new/Main_Data/sub-1273952/calib_voxelwise/perfusion.nii  \n",
            "  inflating: data_new/Main_Data/sub-1273952/calib_voxelwise/perfusion_var.nii  \n",
            "  inflating: data_new/Main_Data/sub-1273952/data2std/T1_2_std.nii  \n",
            "  inflating: data_new/Main_Data/sub-1273952/data2std/T1_2_std_brain_lin.nii  \n",
            "  inflating: data_new/Main_Data/sub-1273952/data2std/T1_2_std_brain_warped.nii  \n",
            "  inflating: data_new/Main_Data/sub-1273952/data2std/T1_2_std_warped.nii  \n",
            "  inflating: data_new/Main_Data/sub-1290154/calib_voxelwise/aCBV.nii  \n",
            "  inflating: data_new/Main_Data/sub-1290154/calib_voxelwise/aCBV_var.nii  \n",
            "  inflating: data_new/Main_Data/sub-1290154/calib_voxelwise/arrival.nii  \n",
            "  inflating: data_new/Main_Data/sub-1290154/calib_voxelwise/arrival_var.nii  \n",
            "  inflating: data_new/Main_Data/sub-1290154/calib_voxelwise/mask.nii  \n",
            "  inflating: data_new/Main_Data/sub-1290154/calib_voxelwise/modelfit_mean.nii  \n",
            "  inflating: data_new/Main_Data/sub-1290154/calib_voxelwise/perfusion.nii  \n",
            "  inflating: data_new/Main_Data/sub-1290154/calib_voxelwise/perfusion_var.nii  \n",
            "  inflating: data_new/Main_Data/sub-1290154/data2std/T1_2_std.nii  \n",
            "  inflating: data_new/Main_Data/sub-1290154/data2std/T1_2_std_brain_lin.nii  \n",
            "  inflating: data_new/Main_Data/sub-1290154/data2std/T1_2_std_brain_warped.nii  \n",
            "  inflating: data_new/Main_Data/sub-1290154/data2std/T1_2_std_warped.nii  \n",
            "  inflating: data_new/Main_Data/sub-1290160/calib_voxelwise/aCBV.nii  \n",
            "  inflating: data_new/Main_Data/sub-1290160/calib_voxelwise/aCBV_var.nii  \n",
            "  inflating: data_new/Main_Data/sub-1290160/calib_voxelwise/arrival.nii  \n",
            "  inflating: data_new/Main_Data/sub-1290160/calib_voxelwise/arrival_var.nii  \n",
            "  inflating: data_new/Main_Data/sub-1290160/calib_voxelwise/mask.nii  \n",
            "  inflating: data_new/Main_Data/sub-1290160/calib_voxelwise/modelfit_mean.nii  \n",
            "  inflating: data_new/Main_Data/sub-1290160/calib_voxelwise/perfusion.nii  \n",
            "  inflating: data_new/Main_Data/sub-1290160/calib_voxelwise/perfusion_var.nii  \n",
            "  inflating: data_new/Main_Data/sub-1290160/data2std/T1_2_std.nii  \n",
            "  inflating: data_new/Main_Data/sub-1290160/data2std/T1_2_std_brain_lin.nii  \n",
            "  inflating: data_new/Main_Data/sub-1290160/data2std/T1_2_std_brain_warped.nii  \n",
            "  inflating: data_new/Main_Data/sub-1290160/data2std/T1_2_std_warped.nii  \n",
            "  inflating: data_new/Main_Data/sub-1290161/calib_voxelwise/aCBV.nii  \n",
            "  inflating: data_new/Main_Data/sub-1290161/calib_voxelwise/aCBV_var.nii  \n",
            "  inflating: data_new/Main_Data/sub-1290161/calib_voxelwise/arrival.nii  \n",
            "  inflating: data_new/Main_Data/sub-1290161/calib_voxelwise/arrival_var.nii  \n",
            "  inflating: data_new/Main_Data/sub-1290161/calib_voxelwise/mask.nii  \n",
            "  inflating: data_new/Main_Data/sub-1290161/calib_voxelwise/modelfit_mean.nii  \n",
            "  inflating: data_new/Main_Data/sub-1290161/calib_voxelwise/perfusion.nii  \n",
            "  inflating: data_new/Main_Data/sub-1290161/calib_voxelwise/perfusion_var.nii  \n",
            "  inflating: data_new/Main_Data/sub-1290161/data2std/T1_2_std.nii  \n",
            "  inflating: data_new/Main_Data/sub-1290161/data2std/T1_2_std_brain_lin.nii  \n",
            "  inflating: data_new/Main_Data/sub-1290161/data2std/T1_2_std_brain_warped.nii  \n",
            "  inflating: data_new/Main_Data/sub-1290161/data2std/T1_2_std_warped.nii  \n",
            "  inflating: data_new/Main_Data/sub-1293488/calib_voxelwise/aCBV.nii  \n",
            "  inflating: data_new/Main_Data/sub-1293488/calib_voxelwise/aCBV_var.nii  \n",
            "  inflating: data_new/Main_Data/sub-1293488/calib_voxelwise/arrival.nii  \n",
            "  inflating: data_new/Main_Data/sub-1293488/calib_voxelwise/arrival_var.nii  \n",
            "  inflating: data_new/Main_Data/sub-1293488/calib_voxelwise/mask.nii  \n",
            "  inflating: data_new/Main_Data/sub-1293488/calib_voxelwise/modelfit_mean.nii  \n",
            "  inflating: data_new/Main_Data/sub-1293488/calib_voxelwise/perfusion.nii  \n",
            "  inflating: data_new/Main_Data/sub-1293488/calib_voxelwise/perfusion_var.nii  \n",
            "  inflating: data_new/Main_Data/sub-1293488/data2std/T1_2_std.nii  \n",
            "  inflating: data_new/Main_Data/sub-1293488/data2std/T1_2_std_brain_lin.nii  \n",
            "  inflating: data_new/Main_Data/sub-1293488/data2std/T1_2_std_brain_warped.nii  \n",
            "  inflating: data_new/Main_Data/sub-1293488/data2std/T1_2_std_warped.nii  \n",
            "  inflating: data_new/Main_Data/sub-1298395/calib_voxelwise/tmp2h1ppouh.nii  \n",
            "  inflating: data_new/Main_Data/sub-1298395/calib_voxelwise/tmp6kx3anxs.nii  \n",
            "  inflating: data_new/Main_Data/sub-1298395/calib_voxelwise/tmp9mkxeqkw.nii  \n",
            "  inflating: data_new/Main_Data/sub-1298395/calib_voxelwise/tmpe6rq11vl.nii  \n",
            "  inflating: data_new/Main_Data/sub-1298395/calib_voxelwise/tmph32ws7b8.nii  \n",
            "  inflating: data_new/Main_Data/sub-1298395/calib_voxelwise/tmpkjfihmni.nii  \n",
            "  inflating: data_new/Main_Data/sub-1298395/calib_voxelwise/tmpo1rsne6b.nii  \n",
            "  inflating: data_new/Main_Data/sub-1298395/calib_voxelwise/tmpqh586foq.nii  \n",
            "  inflating: data_new/Main_Data/sub-1298395/data2std/T1_2_std.nii  \n",
            "  inflating: data_new/Main_Data/sub-1298395/data2std/T1_2_std_brain_lin.nii  \n",
            "  inflating: data_new/Main_Data/sub-1298395/data2std/T1_2_std_brain_warped.nii  \n",
            "  inflating: data_new/Main_Data/sub-1298395/data2std/T1_2_std_warped.nii  \n",
            "  inflating: data_new/Main_Data/sub-1300850/calib_voxelwise/aCBV.nii  \n",
            "  inflating: data_new/Main_Data/sub-1300850/calib_voxelwise/aCBV_var.nii  \n",
            "  inflating: data_new/Main_Data/sub-1300850/calib_voxelwise/arrival.nii  \n",
            "  inflating: data_new/Main_Data/sub-1300850/calib_voxelwise/arrival_var.nii  \n",
            "  inflating: data_new/Main_Data/sub-1300850/calib_voxelwise/mask.nii  \n",
            "  inflating: data_new/Main_Data/sub-1300850/calib_voxelwise/modelfit_mean.nii  \n",
            "  inflating: data_new/Main_Data/sub-1300850/calib_voxelwise/perfusion.nii  \n",
            "  inflating: data_new/Main_Data/sub-1300850/calib_voxelwise/perfusion_var.nii  \n",
            "  inflating: data_new/Main_Data/sub-1300850/data2std/T1_2_std.nii  \n",
            "  inflating: data_new/Main_Data/sub-1300850/data2std/T1_2_std_brain_lin.nii  \n",
            "  inflating: data_new/Main_Data/sub-1300850/data2std/T1_2_std_brain_warped.nii  \n",
            "  inflating: data_new/Main_Data/sub-1300850/data2std/T1_2_std_warped.nii  \n",
            "  inflating: data_new/Main_Data/sub-1301948/calib_voxelwise/aCBV.nii  \n",
            "  inflating: data_new/Main_Data/sub-1301948/calib_voxelwise/aCBV_var.nii  \n",
            "  inflating: data_new/Main_Data/sub-1301948/calib_voxelwise/arrival.nii  \n",
            "  inflating: data_new/Main_Data/sub-1301948/calib_voxelwise/arrival_var.nii  \n",
            "  inflating: data_new/Main_Data/sub-1301948/calib_voxelwise/mask.nii  \n",
            "  inflating: data_new/Main_Data/sub-1301948/calib_voxelwise/modelfit_mean.nii  \n",
            "  inflating: data_new/Main_Data/sub-1301948/calib_voxelwise/perfusion.nii  \n",
            "  inflating: data_new/Main_Data/sub-1301948/calib_voxelwise/perfusion_var.nii  \n",
            "  inflating: data_new/Main_Data/sub-1301948/data2std/T1_2_std.nii  \n",
            "  inflating: data_new/Main_Data/sub-1301948/data2std/T1_2_std_brain_lin.nii  \n",
            "  inflating: data_new/Main_Data/sub-1301948/data2std/T1_2_std_brain_warped.nii  \n",
            "  inflating: data_new/Main_Data/sub-1301948/data2std/T1_2_std_warped.nii  \n",
            "  inflating: data_new/Main_Data/sub-1314911/calib_voxelwise/aCBV.nii  \n",
            "  inflating: data_new/Main_Data/sub-1314911/calib_voxelwise/aCBV_var.nii  \n",
            "  inflating: data_new/Main_Data/sub-1314911/calib_voxelwise/arrival.nii  \n",
            "  inflating: data_new/Main_Data/sub-1314911/calib_voxelwise/arrival_var.nii  \n",
            "  inflating: data_new/Main_Data/sub-1314911/calib_voxelwise/mask.nii  \n",
            "  inflating: data_new/Main_Data/sub-1314911/calib_voxelwise/modelfit_mean.nii  \n",
            "  inflating: data_new/Main_Data/sub-1314911/calib_voxelwise/perfusion.nii  \n",
            "  inflating: data_new/Main_Data/sub-1314911/calib_voxelwise/perfusion_var.nii  \n",
            "  inflating: data_new/Main_Data/sub-1314911/data2std/T1_2_std.nii  \n",
            "  inflating: data_new/Main_Data/sub-1314911/data2std/T1_2_std_brain_lin.nii  \n",
            "  inflating: data_new/Main_Data/sub-1314911/data2std/T1_2_std_brain_warped.nii  \n",
            "  inflating: data_new/Main_Data/sub-1314911/data2std/T1_2_std_warped.nii  \n",
            "  inflating: data_new/Main_Data/sub-1314913/calib_voxelwise/aCBV.nii  \n",
            "  inflating: data_new/Main_Data/sub-1314913/calib_voxelwise/aCBV_var.nii  \n",
            "  inflating: data_new/Main_Data/sub-1314913/calib_voxelwise/arrival.nii  \n",
            "  inflating: data_new/Main_Data/sub-1314913/calib_voxelwise/arrival_var.nii  \n",
            "  inflating: data_new/Main_Data/sub-1314913/calib_voxelwise/mask.nii  \n",
            "  inflating: data_new/Main_Data/sub-1314913/calib_voxelwise/modelfit_mean.nii  \n",
            "  inflating: data_new/Main_Data/sub-1314913/calib_voxelwise/perfusion_var.nii  \n",
            "  inflating: data_new/Main_Data/sub-1314913/data2std/T1_2_std.nii  \n",
            "  inflating: data_new/Main_Data/sub-1314913/data2std/T1_2_std_brain_lin.nii  \n",
            "  inflating: data_new/Main_Data/sub-1314913/data2std/T1_2_std_brain_warped.nii  \n",
            "  inflating: data_new/Main_Data/sub-1314913/data2std/T1_2_std_warped.nii  \n",
            "  inflating: data_new/Main_Data/sub-1315894/calib_voxelwise/aCBV.nii  \n",
            "  inflating: data_new/Main_Data/sub-1315894/calib_voxelwise/aCBV_var.nii  \n",
            "  inflating: data_new/Main_Data/sub-1315894/calib_voxelwise/arrival.nii  \n",
            "  inflating: data_new/Main_Data/sub-1315894/calib_voxelwise/arrival_var.nii  \n",
            "  inflating: data_new/Main_Data/sub-1315894/calib_voxelwise/mask.nii  \n",
            "  inflating: data_new/Main_Data/sub-1315894/calib_voxelwise/modelfit_mean.nii  \n",
            "  inflating: data_new/Main_Data/sub-1315894/calib_voxelwise/perfusion_var.nii  \n",
            "  inflating: data_new/Main_Data/sub-1315894/data2std/T1_2_std.nii  \n",
            "  inflating: data_new/Main_Data/sub-1315894/data2std/T1_2_std_brain_lin.nii  \n",
            "  inflating: data_new/Main_Data/sub-1315894/data2std/T1_2_std_brain_warped.nii  \n",
            "  inflating: data_new/Main_Data/sub-1315894/data2std/T1_2_std_warped.nii  \n",
            "  inflating: data_new/Main_Data/sub-1317157/calib_voxelwise/aCBV.nii  \n",
            "  inflating: data_new/Main_Data/sub-1317157/calib_voxelwise/aCBV_var.nii  \n",
            "  inflating: data_new/Main_Data/sub-1317157/calib_voxelwise/arrival.nii  \n",
            "  inflating: data_new/Main_Data/sub-1317157/calib_voxelwise/arrival_var.nii  \n",
            "  inflating: data_new/Main_Data/sub-1317157/calib_voxelwise/mask.nii  \n",
            "  inflating: data_new/Main_Data/sub-1317157/calib_voxelwise/modelfit_mean.nii  \n",
            "  inflating: data_new/Main_Data/sub-1317157/calib_voxelwise/perfusion.nii  \n",
            "  inflating: data_new/Main_Data/sub-1317157/calib_voxelwise/perfusion_var.nii  \n",
            "  inflating: data_new/Main_Data/sub-1317157/data2std/T1_2_std.nii  \n",
            "  inflating: data_new/Main_Data/sub-1317157/data2std/T1_2_std_brain_lin.nii  \n",
            "  inflating: data_new/Main_Data/sub-1317157/data2std/T1_2_std_brain_warped.nii  \n",
            "  inflating: data_new/Main_Data/sub-1317157/data2std/T1_2_std_warped.nii  \n",
            "  inflating: data_new/Main_Data/sub-1323712/calib_voxelwise/aCBV.nii  \n",
            "  inflating: data_new/Main_Data/sub-1323712/calib_voxelwise/aCBV_var.nii  \n",
            "  inflating: data_new/Main_Data/sub-1323712/calib_voxelwise/arrival.nii  \n",
            "  inflating: data_new/Main_Data/sub-1323712/calib_voxelwise/arrival_var.nii  \n",
            "  inflating: data_new/Main_Data/sub-1323712/calib_voxelwise/mask.nii  \n",
            "  inflating: data_new/Main_Data/sub-1323712/calib_voxelwise/modelfit_mean.nii  \n",
            "  inflating: data_new/Main_Data/sub-1323712/calib_voxelwise/perfusion.nii  \n",
            "  inflating: data_new/Main_Data/sub-1323712/calib_voxelwise/perfusion_var.nii  \n",
            "  inflating: data_new/Main_Data/sub-1323712/data2std/T1_2_std.nii  \n",
            "  inflating: data_new/Main_Data/sub-1323712/data2std/T1_2_std_brain_lin.nii  \n",
            "  inflating: data_new/Main_Data/sub-1323712/data2std/T1_2_std_brain_warped.nii  \n",
            "  inflating: data_new/Main_Data/sub-1323712/data2std/T1_2_std_warped.nii  \n",
            "  inflating: data_new/Main_Data/sub-1327430/calib_voxelwise/aCBV.nii  \n",
            "  inflating: data_new/Main_Data/sub-1327430/calib_voxelwise/aCBV_var.nii  \n",
            "  inflating: data_new/Main_Data/sub-1327430/calib_voxelwise/arrival.nii  \n",
            "  inflating: data_new/Main_Data/sub-1327430/calib_voxelwise/arrival_var.nii  \n",
            "  inflating: data_new/Main_Data/sub-1327430/calib_voxelwise/mask.nii  \n",
            "  inflating: data_new/Main_Data/sub-1327430/calib_voxelwise/modelfit_mean.nii  \n",
            "  inflating: data_new/Main_Data/sub-1327430/calib_voxelwise/perfusion.nii  \n",
            "  inflating: data_new/Main_Data/sub-1327430/calib_voxelwise/perfusion_var.nii  \n",
            "  inflating: data_new/Main_Data/sub-1327430/data2std/T1_2_std.nii  \n",
            "  inflating: data_new/Main_Data/sub-1327430/data2std/T1_2_std_brain_lin.nii  \n",
            "  inflating: data_new/Main_Data/sub-1327430/data2std/T1_2_std_brain_warped.nii  \n",
            "  inflating: data_new/Main_Data/sub-1327430/data2std/T1_2_std_warped.nii  \n",
            "  inflating: data_new/Main_Data/sub-1327631/calib_voxelwise/aCBV.nii  \n",
            "  inflating: data_new/Main_Data/sub-1327631/calib_voxelwise/aCBV_var.nii  \n",
            "  inflating: data_new/Main_Data/sub-1327631/calib_voxelwise/arrival.nii  \n",
            "  inflating: data_new/Main_Data/sub-1327631/calib_voxelwise/arrival_var.nii  \n",
            "  inflating: data_new/Main_Data/sub-1327631/calib_voxelwise/mask.nii  \n",
            "  inflating: data_new/Main_Data/sub-1327631/calib_voxelwise/modelfit_mean.nii  \n",
            "  inflating: data_new/Main_Data/sub-1327631/calib_voxelwise/perfusion.nii  \n",
            "  inflating: data_new/Main_Data/sub-1327631/calib_voxelwise/perfusion_var.nii  \n",
            "  inflating: data_new/Main_Data/sub-1327631/data2std/T1_2_std.nii  \n",
            "  inflating: data_new/Main_Data/sub-1327631/data2std/T1_2_std_brain_lin.nii  \n",
            "  inflating: data_new/Main_Data/sub-1327631/data2std/T1_2_std_brain_warped.nii  \n",
            "  inflating: data_new/Main_Data/sub-1327631/data2std/T1_2_std_warped.nii  \n",
            "  inflating: data_new/Main_Data/sub-1331250/calib_voxelwise/aCBV.nii  \n",
            "  inflating: data_new/Main_Data/sub-1331250/calib_voxelwise/aCBV_var.nii  \n",
            "  inflating: data_new/Main_Data/sub-1331250/calib_voxelwise/arrival.nii  \n",
            "  inflating: data_new/Main_Data/sub-1331250/calib_voxelwise/arrival_var.nii  \n",
            "  inflating: data_new/Main_Data/sub-1331250/calib_voxelwise/mask.nii  \n",
            "  inflating: data_new/Main_Data/sub-1331250/calib_voxelwise/modelfit_mean.nii  \n",
            "  inflating: data_new/Main_Data/sub-1331250/calib_voxelwise/perfusion.nii  \n",
            "  inflating: data_new/Main_Data/sub-1331250/calib_voxelwise/perfusion_var.nii  \n",
            "  inflating: data_new/Main_Data/sub-1331250/data2std/T1_2_std.nii  \n",
            "  inflating: data_new/Main_Data/sub-1331250/data2std/T1_2_std_brain_lin.nii  \n",
            "  inflating: data_new/Main_Data/sub-1331250/data2std/T1_2_std_brain_warped.nii  \n",
            "  inflating: data_new/Main_Data/sub-1331250/data2std/T1_2_std_warped.nii  \n",
            "  inflating: data_new/Main_Data/sub-1333709/calib_voxelwise/aCBV.nii  \n",
            "  inflating: data_new/Main_Data/sub-1333709/calib_voxelwise/aCBV_var.nii  \n",
            "  inflating: data_new/Main_Data/sub-1333709/calib_voxelwise/arrival.nii  \n",
            "  inflating: data_new/Main_Data/sub-1333709/calib_voxelwise/arrival_var.nii  \n",
            "  inflating: data_new/Main_Data/sub-1333709/calib_voxelwise/mask.nii  \n",
            "  inflating: data_new/Main_Data/sub-1333709/calib_voxelwise/modelfit_mean.nii  \n",
            "  inflating: data_new/Main_Data/sub-1333709/calib_voxelwise/perfusion.nii  \n",
            "  inflating: data_new/Main_Data/sub-1333709/calib_voxelwise/perfusion_var.nii  \n",
            "  inflating: data_new/Main_Data/sub-1333709/data2std/T1_2_std.nii  \n",
            "  inflating: data_new/Main_Data/sub-1333709/data2std/T1_2_std_brain_lin.nii  \n",
            "  inflating: data_new/Main_Data/sub-1333709/data2std/T1_2_std_brain_warped.nii  \n",
            "  inflating: data_new/Main_Data/sub-1333709/data2std/T1_2_std_warped.nii  \n",
            "  inflating: data_new/Main_Data/sub-1333710/calib_voxelwise/aCBV.nii  \n",
            "  inflating: data_new/Main_Data/sub-1333710/calib_voxelwise/aCBV_var.nii  \n",
            "  inflating: data_new/Main_Data/sub-1333710/calib_voxelwise/arrival.nii  \n",
            "  inflating: data_new/Main_Data/sub-1333710/calib_voxelwise/arrival_var.nii  \n",
            "  inflating: data_new/Main_Data/sub-1333710/calib_voxelwise/mask.nii  \n",
            "  inflating: data_new/Main_Data/sub-1333710/calib_voxelwise/modelfit_mean.nii  \n",
            "  inflating: data_new/Main_Data/sub-1333710/calib_voxelwise/perfusion.nii  \n",
            "  inflating: data_new/Main_Data/sub-1333710/calib_voxelwise/perfusion_var.nii  \n",
            "  inflating: data_new/Main_Data/sub-1333710/data2std/T1_2_std.nii  \n",
            "  inflating: data_new/Main_Data/sub-1333710/data2std/T1_2_std_brain_lin.nii  \n",
            "  inflating: data_new/Main_Data/sub-1333710/data2std/T1_2_std_brain_warped.nii  \n",
            "  inflating: data_new/Main_Data/sub-1333710/data2std/T1_2_std_warped.nii  \n",
            "  inflating: data_new/Main_Data/sub-1335482/calib_voxelwise/aCBV.nii  \n",
            "  inflating: data_new/Main_Data/sub-1335482/calib_voxelwise/aCBV_var.nii  \n",
            "  inflating: data_new/Main_Data/sub-1335482/calib_voxelwise/arrival.nii  \n",
            "  inflating: data_new/Main_Data/sub-1335482/calib_voxelwise/arrival_var.nii  \n",
            "  inflating: data_new/Main_Data/sub-1335482/calib_voxelwise/mask.nii  \n",
            "  inflating: data_new/Main_Data/sub-1335482/calib_voxelwise/modelfit_mean.nii  \n",
            "  inflating: data_new/Main_Data/sub-1335482/calib_voxelwise/perfusion.nii  \n",
            "  inflating: data_new/Main_Data/sub-1335482/calib_voxelwise/perfusion_var.nii  \n",
            "  inflating: data_new/Main_Data/sub-1335482/data2std/T1_2_std.nii  \n",
            "  inflating: data_new/Main_Data/sub-1335482/data2std/T1_2_std_brain_lin.nii  \n",
            "  inflating: data_new/Main_Data/sub-1335482/data2std/T1_2_std_brain_warped.nii  \n",
            "  inflating: data_new/Main_Data/sub-1335482/data2std/T1_2_std_warped.nii  \n",
            "  inflating: data_new/Main_Data/sub-1336194/calib_voxelwise/aCBV.nii  \n",
            "  inflating: data_new/Main_Data/sub-1336194/calib_voxelwise/aCBV_var.nii  \n",
            "  inflating: data_new/Main_Data/sub-1336194/calib_voxelwise/arrival.nii  \n",
            "  inflating: data_new/Main_Data/sub-1336194/calib_voxelwise/arrival_var.nii  \n",
            "  inflating: data_new/Main_Data/sub-1336194/calib_voxelwise/mask.nii  \n",
            "  inflating: data_new/Main_Data/sub-1336194/calib_voxelwise/modelfit_mean.nii  \n",
            "  inflating: data_new/Main_Data/sub-1336194/calib_voxelwise/perfusion.nii  \n",
            "  inflating: data_new/Main_Data/sub-1336194/calib_voxelwise/perfusion_var.nii  \n",
            "  inflating: data_new/Main_Data/sub-1336194/data2std/T1_2_std.nii  \n",
            "  inflating: data_new/Main_Data/sub-1336194/data2std/T1_2_std_brain_lin.nii  \n",
            "  inflating: data_new/Main_Data/sub-1336194/data2std/T1_2_std_brain_warped.nii  \n",
            "  inflating: data_new/Main_Data/sub-1336194/data2std/T1_2_std_warped.nii  \n",
            "  inflating: data_new/Main_Data/sub-1336197/calib_voxelwise/tmp2jv4yx3o.nii  \n",
            "  inflating: data_new/Main_Data/sub-1336197/calib_voxelwise/tmpclys6b7l.nii  \n",
            "  inflating: data_new/Main_Data/sub-1336197/calib_voxelwise/tmpi9pz5pb_.nii  \n",
            "  inflating: data_new/Main_Data/sub-1336197/calib_voxelwise/tmpkwbu9nzn.nii  \n",
            "  inflating: data_new/Main_Data/sub-1336197/calib_voxelwise/tmpm0qdjcml.nii  \n",
            "  inflating: data_new/Main_Data/sub-1336197/calib_voxelwise/tmpmu5ryttz.nii  \n",
            "  inflating: data_new/Main_Data/sub-1336197/calib_voxelwise/tmpy65hop31.nii  \n",
            "  inflating: data_new/Main_Data/sub-1336197/calib_voxelwise/tmpywmnjqcv.nii  \n",
            "  inflating: data_new/Main_Data/sub-1336197/data2std/T1_2_std.nii  \n",
            "  inflating: data_new/Main_Data/sub-1336197/data2std/T1_2_std_brain_lin.nii  \n",
            "  inflating: data_new/Main_Data/sub-1336197/data2std/T1_2_std_brain_warped.nii  \n",
            "  inflating: data_new/Main_Data/sub-1336197/data2std/T1_2_std_warped.nii  \n",
            "Looking in indexes: https://pypi.org/simple, https://us-python.pkg.dev/colab-wheels/public/simple/\n",
            "Requirement already satisfied: regtricks in /usr/local/lib/python3.7/dist-packages (0.3.4)\n",
            "Requirement already satisfied: fslpy in /usr/local/lib/python3.7/dist-packages (from regtricks) (3.10.0)\n",
            "Requirement already satisfied: nibabel in /usr/local/lib/python3.7/dist-packages (from regtricks) (3.0.2)\n",
            "Requirement already satisfied: scipy in /usr/local/lib/python3.7/dist-packages (from regtricks) (1.7.3)\n",
            "Requirement already satisfied: numpy in /usr/local/lib/python3.7/dist-packages (from regtricks) (1.21.6)\n",
            "Requirement already satisfied: h5py>=2.9 in /usr/local/lib/python3.7/dist-packages (from fslpy->regtricks) (3.1.0)\n",
            "Requirement already satisfied: dill in /usr/local/lib/python3.7/dist-packages (from fslpy->regtricks) (0.3.5.1)\n",
            "Requirement already satisfied: cached-property in /usr/local/lib/python3.7/dist-packages (from h5py>=2.9->fslpy->regtricks) (1.5.2)\n",
            "Looking in indexes: https://pypi.org/simple, https://us-python.pkg.dev/colab-wheels/public/simple/\n",
            "Requirement already satisfied: torchsummary in /usr/local/lib/python3.7/dist-packages (1.5.1)\n"
          ]
        }
      ],
      "source": [
        "## Upload your kaggle.json file that can be downloaded from kaggle account\n",
        "## Takes a bit time to read the kaggle.json file Run twice if it didn't found it\n",
        "!pip install kaggle --upgrade\n",
        "!cp kaggle.json ~/.kaggle/\n",
        "!chmod 600 ~/.kaggle/kaggle.json\n",
        "!mkdir content/data\n",
        "!kaggle datasets download -d lyfeisgood/something-bigger\n",
        "!unzip /content/something-bigger.zip -d data_new\n",
        "!pip install regtricks\n",
        "!pip install torchsummary"
      ]
    },
    {
      "cell_type": "markdown",
      "source": [
        "#### Header Files"
      ],
      "metadata": {
        "id": "ZTxuYVjVJsq3"
      }
    },
    {
      "cell_type": "code",
      "source": [
        "### Common Libraries\n",
        "import os\n",
        "import re\n",
        "import matplotlib.pyplot as plt\n",
        "import nibabel as nib\n",
        "import numpy as np\n",
        "\n",
        "### Misc. \n",
        "import regtricks as rt\n",
        "\n",
        "### Torch Files \n",
        "import torch\n",
        "print(torch.__version__)\n",
        "print(torch.cuda.is_available())\n",
        "device = torch.device('cuda:0' if torch.cuda.is_available() else 'cpu')\n",
        "from torchsummary import summary\n",
        "\n",
        "## Import my .py file ....... \n",
        "import Data_Loader as dl\n",
        "import Models as model\n",
        "import Prediction as pd\n"
      ],
      "metadata": {
        "colab": {
          "base_uri": "https://localhost:8080/"
        },
        "id": "yAJAOqkdI1uP",
        "outputId": "bf19c535-1b49-4fbd-da8b-3798f0a6221d"
      },
      "execution_count": 4,
      "outputs": [
        {
          "output_type": "stream",
          "name": "stdout",
          "text": [
            "1.12.1+cu113\n",
            "True\n",
            "1.12.1+cu113\n",
            "True\n",
            "cuda:0\n",
            "1.12.1+cu113\n",
            "True\n"
          ]
        }
      ]
    },
    {
      "cell_type": "markdown",
      "source": [
        "#### 2D convolution"
      ],
      "metadata": {
        "id": "sATY8ZuKJ3c3"
      }
    },
    {
      "cell_type": "markdown",
      "source": [
        "##### Data Loading"
      ],
      "metadata": {
        "id": "QJfuvZYvJ8y3"
      }
    },
    {
      "cell_type": "code",
      "source": [
        "# Take around 10 minutes\n",
        "## Defining the path of the data \n",
        "x,y = dl.data_loader_2D('/content/data_new','/content/data_new',55,device)\n",
        "\n",
        "## Printing the shape of specifid data\n",
        "print('\\nShape of MRI images - >');     dl.print_data_shape(x); \n",
        "print('\\nShape of ASL images - >');     dl.print_data_shape(y);\n",
        "\n",
        "## Printing the Stats of the data\n",
        "print('\\nStats for MRI data(X) - >');   dl.tensor_stats(x); \n",
        "print('\\nStats for ASL data(X) - >');   dl.tensor_stats(y);\n",
        "\n",
        "## Printing the Dimension of X and Y  \n",
        "## Dimension refer -> Number x Length x Breadth x Height x Channel\n",
        "print('\\nDimensions of X(MRI Data) ->',end=' '); dl.print_data_dimension(x)\n",
        "print('\\nDimensions of Y(ASL Data) ->',end=' '); dl.print_data_dimension(y)\n",
        "\n",
        "train_x , train_y , test_x , test_y = dl.data_split(x,y,0.2)\n",
        "\n",
        "print('\\nDimensions of Train Test Data (MRI) ->',end=' ');      dl.print_data_dimension(train_x) ; dl.print_data_dimension(test_x);\n",
        "print('\\nDimensions of Train Test Data (ASL Data) ->',end=' '); dl.print_data_dimension(train_y) ; dl.print_data_dimension(test_y);"
      ],
      "metadata": {
        "id": "jSGbVbDnLSWl",
        "colab": {
          "base_uri": "https://localhost:8080/"
        },
        "outputId": "9de9e38a-eab9-4047-ff3d-c7d9c9da9a6a"
      },
      "execution_count": 5,
      "outputs": [
        {
          "output_type": "stream",
          "name": "stdout",
          "text": [
            "torch.Size([23, 1, 91, 109, 91])\n",
            "torch.Size([23, 1, 91, 109, 91])\n",
            "\n",
            "Shape of MRI images - >\n",
            "torch.Size([1, 91, 109])\n",
            "torch.Size([1, 91, 109])\n",
            "torch.Size([1, 91, 109])\n",
            "torch.Size([1, 91, 109])\n",
            "torch.Size([1, 91, 109])\n",
            "torch.Size([1, 91, 109])\n",
            "torch.Size([1, 91, 109])\n",
            "torch.Size([1, 91, 109])\n",
            "torch.Size([1, 91, 109])\n",
            "torch.Size([1, 91, 109])\n",
            "torch.Size([1, 91, 109])\n",
            "torch.Size([1, 91, 109])\n",
            "torch.Size([1, 91, 109])\n",
            "torch.Size([1, 91, 109])\n",
            "torch.Size([1, 91, 109])\n",
            "torch.Size([1, 91, 109])\n",
            "torch.Size([1, 91, 109])\n",
            "torch.Size([1, 91, 109])\n",
            "torch.Size([1, 91, 109])\n",
            "torch.Size([1, 91, 109])\n",
            "torch.Size([1, 91, 109])\n",
            "torch.Size([1, 91, 109])\n",
            "torch.Size([1, 91, 109])\n",
            "\n",
            "Shape of ASL images - >\n",
            "torch.Size([1, 91, 109])\n",
            "torch.Size([1, 91, 109])\n",
            "torch.Size([1, 91, 109])\n",
            "torch.Size([1, 91, 109])\n",
            "torch.Size([1, 91, 109])\n",
            "torch.Size([1, 91, 109])\n",
            "torch.Size([1, 91, 109])\n",
            "torch.Size([1, 91, 109])\n",
            "torch.Size([1, 91, 109])\n",
            "torch.Size([1, 91, 109])\n",
            "torch.Size([1, 91, 109])\n",
            "torch.Size([1, 91, 109])\n",
            "torch.Size([1, 91, 109])\n",
            "torch.Size([1, 91, 109])\n",
            "torch.Size([1, 91, 109])\n",
            "torch.Size([1, 91, 109])\n",
            "torch.Size([1, 91, 109])\n",
            "torch.Size([1, 91, 109])\n",
            "torch.Size([1, 91, 109])\n",
            "torch.Size([1, 91, 109])\n",
            "torch.Size([1, 91, 109])\n",
            "torch.Size([1, 91, 109])\n",
            "torch.Size([1, 91, 109])\n",
            "\n",
            "Stats for MRI data(X) - >\n",
            "tensor(1739.7377) tensor(0.) tensor(0.1754) tensor(0.2268)\n",
            "tensor(887.5063) tensor(0.) tensor(0.0895) tensor(0.1129)\n",
            "tensor(1583.7858) tensor(0.) tensor(0.1597) tensor(0.2134)\n",
            "tensor(1486.0728) tensor(0.) tensor(0.1498) tensor(0.1856)\n",
            "tensor(1266.6038) tensor(0.) tensor(0.1277) tensor(0.1791)\n",
            "tensor(1194.6713) tensor(0.) tensor(0.1204) tensor(0.1569)\n",
            "tensor(1693.8102) tensor(0.) tensor(0.1708) tensor(0.2054)\n",
            "tensor(1416.9413) tensor(0.) tensor(0.1429) tensor(0.1809)\n",
            "tensor(1517.0430) tensor(0.) tensor(0.1529) tensor(0.1944)\n",
            "tensor(1064.4343) tensor(0.) tensor(0.1073) tensor(0.1307)\n",
            "tensor(1460.9475) tensor(0.) tensor(0.1473) tensor(0.1702)\n",
            "tensor(1792.1378) tensor(0.) tensor(0.1807) tensor(0.2167)\n",
            "tensor(1730.3401) tensor(0.) tensor(0.1744) tensor(0.2032)\n",
            "tensor(1603.2123) tensor(0.) tensor(0.1616) tensor(0.2021)\n",
            "tensor(1166.5692) tensor(0.) tensor(0.1176) tensor(0.1467)\n",
            "tensor(1446.6809) tensor(0.) tensor(0.1458) tensor(0.1763)\n",
            "tensor(1684.7845) tensor(0.) tensor(0.1699) tensor(0.2122)\n",
            "tensor(1474.9906) tensor(0.) tensor(0.1487) tensor(0.1959)\n",
            "tensor(1225.4718) tensor(0.) tensor(0.1235) tensor(0.1437)\n",
            "tensor(1504.8663) tensor(0.) tensor(0.1517) tensor(0.1794)\n",
            "tensor(1544.3866) tensor(0.) tensor(0.1557) tensor(0.2032)\n",
            "tensor(1629.9102) tensor(0.) tensor(0.1643) tensor(0.2080)\n",
            "tensor(1626.5825) tensor(0.) tensor(0.1640) tensor(0.2026)\n",
            "\n",
            "Stats for ASL data(X) - >\n",
            "tensor(601.1116) tensor(0.) tensor(0.0606) tensor(0.0797)\n",
            "tensor(1601.5540) tensor(0.) tensor(0.1615) tensor(0.1911)\n",
            "tensor(1462.8254) tensor(0.) tensor(0.1475) tensor(0.1805)\n",
            "tensor(715.0675) tensor(0.) tensor(0.0721) tensor(0.0846)\n",
            "tensor(1671.3324) tensor(0.) tensor(0.1685) tensor(0.2073)\n",
            "tensor(757.9296) tensor(0.) tensor(0.0764) tensor(0.0953)\n",
            "tensor(1470.1316) tensor(0.) tensor(0.1482) tensor(0.1798)\n",
            "tensor(1025.0243) tensor(0.) tensor(0.1033) tensor(0.1265)\n",
            "tensor(1523.9213) tensor(0.) tensor(0.1536) tensor(0.1876)\n",
            "tensor(1506.7473) tensor(0.) tensor(0.1519) tensor(0.1808)\n",
            "tensor(1505.4259) tensor(0.) tensor(0.1518) tensor(0.1784)\n",
            "tensor(1506.5929) tensor(0.) tensor(0.1519) tensor(0.1845)\n",
            "tensor(1029.8295) tensor(0.) tensor(0.1038) tensor(0.1278)\n",
            "tensor(826.0394) tensor(0.) tensor(0.0833) tensor(0.1033)\n",
            "tensor(1833.6199) tensor(0.) tensor(0.1849) tensor(0.2279)\n",
            "tensor(1414.1180) tensor(0.) tensor(0.1426) tensor(0.1605)\n",
            "tensor(1074.8278) tensor(0.) tensor(0.1084) tensor(0.1332)\n",
            "tensor(729.6891) tensor(0.) tensor(0.0736) tensor(0.0871)\n",
            "tensor(782.1735) tensor(0.) tensor(0.0789) tensor(0.0958)\n",
            "tensor(587.5714) tensor(0.) tensor(0.0592) tensor(0.0702)\n",
            "tensor(860.2864) tensor(0.) tensor(0.0867) tensor(0.1109)\n",
            "tensor(759.1395) tensor(0.) tensor(0.0765) tensor(0.0973)\n",
            "tensor(564.5430) tensor(0.) tensor(0.0569) tensor(0.0728)\n",
            "\n",
            "Dimensions of X(MRI Data) -> torch.Size([23, 1, 91, 109])\n",
            "\n",
            "Dimensions of Y(ASL Data) -> torch.Size([23, 1, 91, 109])\n",
            "\n",
            "Dimensions of Train Test Data (MRI) -> torch.Size([19, 1, 91, 109])\n",
            "torch.Size([4, 1, 91, 109])\n",
            "\n",
            "Dimensions of Train Test Data (ASL Data) -> torch.Size([19, 1, 91, 109])\n",
            "torch.Size([4, 1, 91, 109])\n"
          ]
        }
      ]
    },
    {
      "cell_type": "markdown",
      "source": [
        "##### Model Training"
      ],
      "metadata": {
        "id": "mHFlDsQNKAZ-"
      }
    },
    {
      "cell_type": "code",
      "source": [
        "## Training the model\n",
        "train_loss, test_loss, predictions = model.train_conv_2D(2500,4,train_x,train_y,test_x,test_y,50)\n",
        "print('Train Loss',train_loss); print('Test Loss ',test_loss); print('Predictions shape', predictions.shape)"
      ],
      "metadata": {
        "id": "8pyj_kY7dpQK",
        "colab": {
          "base_uri": "https://localhost:8080/"
        },
        "outputId": "b1934735-9440-4a34-f18a-a4f5490b96f6"
      },
      "execution_count": null,
      "outputs": [
        {
          "output_type": "stream",
          "name": "stdout",
          "text": [
            "----------------------------------------------------------------\n",
            "        Layer (type)               Output Shape         Param #\n",
            "================================================================\n",
            "            Conv2d-1         [-1, 200, 91, 109]           2,000\n",
            "       BatchNorm2d-2         [-1, 200, 91, 109]             400\n",
            "              ReLU-3         [-1, 200, 91, 109]               0\n",
            "         MaxPool2d-4         [-1, 200, 91, 109]               0\n",
            "            Conv2d-5         [-1, 400, 91, 109]         720,400\n",
            "       BatchNorm2d-6         [-1, 400, 91, 109]             800\n",
            "              ReLU-7         [-1, 400, 91, 109]               0\n",
            "         MaxPool2d-8         [-1, 400, 91, 109]               0\n",
            "            Conv2d-9         [-1, 800, 91, 109]       2,880,800\n",
            "      BatchNorm2d-10         [-1, 800, 91, 109]           1,600\n",
            "             ReLU-11         [-1, 800, 91, 109]               0\n",
            "        MaxPool2d-12         [-1, 800, 91, 109]               0\n",
            "           Conv2d-13         [-1, 400, 91, 109]       2,880,400\n",
            "      BatchNorm2d-14         [-1, 400, 91, 109]             800\n",
            "             ReLU-15         [-1, 400, 91, 109]               0\n",
            "        MaxPool2d-16         [-1, 400, 91, 109]               0\n",
            "           Conv2d-17         [-1, 800, 91, 109]       2,880,800\n",
            "      BatchNorm2d-18         [-1, 800, 91, 109]           1,600\n",
            "             ReLU-19         [-1, 800, 91, 109]               0\n",
            "        MaxPool2d-20         [-1, 800, 91, 109]               0\n",
            "           Conv2d-21         [-1, 400, 91, 109]       2,880,400\n",
            "      BatchNorm2d-22         [-1, 400, 91, 109]             800\n",
            "             ReLU-23         [-1, 400, 91, 109]               0\n",
            "        MaxPool2d-24         [-1, 400, 91, 109]               0\n",
            "           Conv2d-25           [-1, 1, 91, 109]             401\n",
            "      BatchNorm2d-26           [-1, 1, 91, 109]               2\n",
            "             ReLU-27           [-1, 1, 91, 109]               0\n",
            "        MaxPool2d-28           [-1, 1, 91, 109]               0\n",
            "================================================================\n",
            "Total params: 12,251,203\n",
            "Trainable params: 12,251,203\n",
            "Non-trainable params: 0\n",
            "----------------------------------------------------------------\n",
            "Input size (MB): 0.04\n",
            "Forward/backward pass size (MB): 908.41\n",
            "Params size (MB): 46.73\n",
            "Estimated Total Size (MB): 955.19\n",
            "----------------------------------------------------------------\n"
          ]
        },
        {
          "output_type": "stream",
          "name": "stderr",
          "text": [
            "  0%|          | 1/2501 [00:01<42:45,  1.03s/it]"
          ]
        },
        {
          "output_type": "stream",
          "name": "stdout",
          "text": [
            "0.19734068\n",
            "2553.4814453125\n"
          ]
        },
        {
          "output_type": "stream",
          "name": "stderr",
          "text": [
            "  1%|          | 26/2501 [00:26<42:07,  1.02s/it]"
          ]
        },
        {
          "output_type": "stream",
          "name": "stdout",
          "text": [
            "0.012958062\n",
            "2553.4814453125\n"
          ]
        },
        {
          "output_type": "stream",
          "name": "stderr",
          "text": [
            "  2%|▏         | 51/2501 [00:52<41:41,  1.02s/it]"
          ]
        },
        {
          "output_type": "stream",
          "name": "stdout",
          "text": [
            "0.006595835\n",
            "2553.4814453125\n"
          ]
        },
        {
          "output_type": "stream",
          "name": "stderr",
          "text": [
            "  3%|▎         | 76/2501 [01:17<41:23,  1.02s/it]"
          ]
        },
        {
          "output_type": "stream",
          "name": "stdout",
          "text": [
            "0.006409562\n",
            "2553.4814453125\n"
          ]
        },
        {
          "output_type": "stream",
          "name": "stderr",
          "text": [
            "  4%|▍         | 101/2501 [01:43<40:55,  1.02s/it]"
          ]
        },
        {
          "output_type": "stream",
          "name": "stdout",
          "text": [
            "0.008600751\n",
            "2553.4814453125\n"
          ]
        },
        {
          "output_type": "stream",
          "name": "stderr",
          "text": [
            "  5%|▌         | 126/2501 [02:08<40:30,  1.02s/it]"
          ]
        },
        {
          "output_type": "stream",
          "name": "stdout",
          "text": [
            "0.0067537543\n",
            "2553.4814453125\n"
          ]
        },
        {
          "output_type": "stream",
          "name": "stderr",
          "text": [
            "  6%|▌         | 151/2501 [02:34<40:06,  1.02s/it]"
          ]
        },
        {
          "output_type": "stream",
          "name": "stdout",
          "text": [
            "0.006924074\n",
            "2553.4814453125\n"
          ]
        },
        {
          "output_type": "stream",
          "name": "stderr",
          "text": [
            "  7%|▋         | 176/2501 [02:59<39:39,  1.02s/it]"
          ]
        },
        {
          "output_type": "stream",
          "name": "stdout",
          "text": [
            "0.0049119852\n",
            "2553.4814453125\n"
          ]
        },
        {
          "output_type": "stream",
          "name": "stderr",
          "text": [
            "  8%|▊         | 201/2501 [03:25<39:11,  1.02s/it]"
          ]
        },
        {
          "output_type": "stream",
          "name": "stdout",
          "text": [
            "0.0066517377\n",
            "2553.4814453125\n"
          ]
        },
        {
          "output_type": "stream",
          "name": "stderr",
          "text": [
            "  9%|▉         | 226/2501 [03:51<38:48,  1.02s/it]"
          ]
        },
        {
          "output_type": "stream",
          "name": "stdout",
          "text": [
            "0.0061054057\n",
            "2553.4814453125\n"
          ]
        },
        {
          "output_type": "stream",
          "name": "stderr",
          "text": [
            " 10%|█         | 251/2501 [04:16<38:23,  1.02s/it]"
          ]
        },
        {
          "output_type": "stream",
          "name": "stdout",
          "text": [
            "0.00391884\n",
            "2553.4814453125\n"
          ]
        },
        {
          "output_type": "stream",
          "name": "stderr",
          "text": [
            " 11%|█         | 276/2501 [04:42<37:59,  1.02s/it]"
          ]
        },
        {
          "output_type": "stream",
          "name": "stdout",
          "text": [
            "0.0062587527\n",
            "2553.4814453125\n"
          ]
        },
        {
          "output_type": "stream",
          "name": "stderr",
          "text": [
            " 12%|█▏        | 301/2501 [05:07<37:31,  1.02s/it]"
          ]
        },
        {
          "output_type": "stream",
          "name": "stdout",
          "text": [
            "0.004452849\n",
            "2553.4814453125\n"
          ]
        },
        {
          "output_type": "stream",
          "name": "stderr",
          "text": [
            " 13%|█▎        | 326/2501 [05:33<37:04,  1.02s/it]"
          ]
        },
        {
          "output_type": "stream",
          "name": "stdout",
          "text": [
            "0.0033636258\n",
            "2553.4814453125\n"
          ]
        },
        {
          "output_type": "stream",
          "name": "stderr",
          "text": [
            " 14%|█▍        | 351/2501 [05:58<36:40,  1.02s/it]"
          ]
        },
        {
          "output_type": "stream",
          "name": "stdout",
          "text": [
            "0.001844532\n",
            "2553.4814453125\n"
          ]
        },
        {
          "output_type": "stream",
          "name": "stderr",
          "text": [
            " 15%|█▌        | 376/2501 [06:24<36:15,  1.02s/it]"
          ]
        },
        {
          "output_type": "stream",
          "name": "stdout",
          "text": [
            "0.00558068\n",
            "2553.4814453125\n"
          ]
        },
        {
          "output_type": "stream",
          "name": "stderr",
          "text": [
            " 16%|█▌        | 401/2501 [06:50<35:48,  1.02s/it]"
          ]
        },
        {
          "output_type": "stream",
          "name": "stdout",
          "text": [
            "0.0033524148\n",
            "2553.4814453125\n"
          ]
        },
        {
          "output_type": "stream",
          "name": "stderr",
          "text": [
            " 17%|█▋        | 426/2501 [07:15<35:23,  1.02s/it]"
          ]
        },
        {
          "output_type": "stream",
          "name": "stdout",
          "text": [
            "0.001957535\n",
            "2553.4814453125\n"
          ]
        },
        {
          "output_type": "stream",
          "name": "stderr",
          "text": [
            " 18%|█▊        | 451/2501 [07:41<34:56,  1.02s/it]"
          ]
        },
        {
          "output_type": "stream",
          "name": "stdout",
          "text": [
            "0.0022957635\n",
            "2553.4814453125\n"
          ]
        },
        {
          "output_type": "stream",
          "name": "stderr",
          "text": [
            " 19%|█▉        | 476/2501 [08:06<34:29,  1.02s/it]"
          ]
        },
        {
          "output_type": "stream",
          "name": "stdout",
          "text": [
            "0.001802093\n",
            "2553.4814453125\n"
          ]
        },
        {
          "output_type": "stream",
          "name": "stderr",
          "text": [
            " 20%|██        | 501/2501 [08:32<34:05,  1.02s/it]"
          ]
        },
        {
          "output_type": "stream",
          "name": "stdout",
          "text": [
            "0.0015093267\n",
            "2553.4814453125\n"
          ]
        },
        {
          "output_type": "stream",
          "name": "stderr",
          "text": [
            " 21%|██        | 526/2501 [08:57<33:42,  1.02s/it]"
          ]
        },
        {
          "output_type": "stream",
          "name": "stdout",
          "text": [
            "0.002100341\n",
            "2553.4814453125\n"
          ]
        },
        {
          "output_type": "stream",
          "name": "stderr",
          "text": [
            " 22%|██▏       | 551/2501 [09:23<33:15,  1.02s/it]"
          ]
        },
        {
          "output_type": "stream",
          "name": "stdout",
          "text": [
            "0.0025945017\n",
            "2553.4814453125\n"
          ]
        },
        {
          "output_type": "stream",
          "name": "stderr",
          "text": [
            " 23%|██▎       | 576/2501 [09:49<32:49,  1.02s/it]"
          ]
        },
        {
          "output_type": "stream",
          "name": "stdout",
          "text": [
            "0.0009619871\n",
            "2553.4814453125\n"
          ]
        },
        {
          "output_type": "stream",
          "name": "stderr",
          "text": [
            " 24%|██▍       | 601/2501 [10:14<32:22,  1.02s/it]"
          ]
        },
        {
          "output_type": "stream",
          "name": "stdout",
          "text": [
            "0.002178645\n",
            "2553.4814453125\n"
          ]
        },
        {
          "output_type": "stream",
          "name": "stderr",
          "text": [
            " 25%|██▌       | 626/2501 [10:40<31:56,  1.02s/it]"
          ]
        },
        {
          "output_type": "stream",
          "name": "stdout",
          "text": [
            "0.0016055976\n",
            "2553.4814453125\n"
          ]
        },
        {
          "output_type": "stream",
          "name": "stderr",
          "text": [
            " 26%|██▌       | 651/2501 [11:05<31:31,  1.02s/it]"
          ]
        },
        {
          "output_type": "stream",
          "name": "stdout",
          "text": [
            "0.0026278084\n",
            "2553.4814453125\n"
          ]
        },
        {
          "output_type": "stream",
          "name": "stderr",
          "text": [
            " 27%|██▋       | 676/2501 [11:31<31:07,  1.02s/it]"
          ]
        },
        {
          "output_type": "stream",
          "name": "stdout",
          "text": [
            "0.0021778138\n",
            "2553.4814453125\n"
          ]
        },
        {
          "output_type": "stream",
          "name": "stderr",
          "text": [
            " 28%|██▊       | 701/2501 [11:56<30:39,  1.02s/it]"
          ]
        },
        {
          "output_type": "stream",
          "name": "stdout",
          "text": [
            "0.002671926\n",
            "2553.4814453125\n"
          ]
        },
        {
          "output_type": "stream",
          "name": "stderr",
          "text": [
            " 29%|██▉       | 726/2501 [12:22<30:15,  1.02s/it]"
          ]
        },
        {
          "output_type": "stream",
          "name": "stdout",
          "text": [
            "0.000716433\n",
            "2553.4814453125\n"
          ]
        },
        {
          "output_type": "stream",
          "name": "stderr",
          "text": [
            " 30%|███       | 751/2501 [12:48<29:51,  1.02s/it]"
          ]
        },
        {
          "output_type": "stream",
          "name": "stdout",
          "text": [
            "0.0012523566\n",
            "2553.4814453125\n"
          ]
        },
        {
          "output_type": "stream",
          "name": "stderr",
          "text": [
            " 31%|███       | 776/2501 [13:13<29:24,  1.02s/it]"
          ]
        },
        {
          "output_type": "stream",
          "name": "stdout",
          "text": [
            "0.0026604705\n",
            "2553.4814453125\n"
          ]
        },
        {
          "output_type": "stream",
          "name": "stderr",
          "text": [
            " 32%|███▏      | 801/2501 [13:39<28:59,  1.02s/it]"
          ]
        },
        {
          "output_type": "stream",
          "name": "stdout",
          "text": [
            "0.00078489166\n",
            "2553.4814453125\n"
          ]
        },
        {
          "output_type": "stream",
          "name": "stderr",
          "text": [
            " 33%|███▎      | 826/2501 [14:04<28:34,  1.02s/it]"
          ]
        },
        {
          "output_type": "stream",
          "name": "stdout",
          "text": [
            "0.00082492846\n",
            "2553.4814453125\n"
          ]
        },
        {
          "output_type": "stream",
          "name": "stderr",
          "text": [
            " 34%|███▍      | 851/2501 [14:30<28:09,  1.02s/it]"
          ]
        },
        {
          "output_type": "stream",
          "name": "stdout",
          "text": [
            "0.0020864257\n",
            "2553.4814453125\n"
          ]
        },
        {
          "output_type": "stream",
          "name": "stderr",
          "text": [
            " 35%|███▌      | 876/2501 [14:55<27:39,  1.02s/it]"
          ]
        },
        {
          "output_type": "stream",
          "name": "stdout",
          "text": [
            "0.00071657647\n",
            "2553.4814453125\n"
          ]
        },
        {
          "output_type": "stream",
          "name": "stderr",
          "text": [
            " 36%|███▌      | 901/2501 [15:21<27:17,  1.02s/it]"
          ]
        },
        {
          "output_type": "stream",
          "name": "stdout",
          "text": [
            "0.0011571632\n",
            "2553.4814453125\n"
          ]
        },
        {
          "output_type": "stream",
          "name": "stderr",
          "text": [
            " 37%|███▋      | 926/2501 [15:47<26:52,  1.02s/it]"
          ]
        },
        {
          "output_type": "stream",
          "name": "stdout",
          "text": [
            "0.0008141882\n",
            "2553.4814453125\n"
          ]
        },
        {
          "output_type": "stream",
          "name": "stderr",
          "text": [
            " 38%|███▊      | 951/2501 [16:12<26:25,  1.02s/it]"
          ]
        },
        {
          "output_type": "stream",
          "name": "stdout",
          "text": [
            "0.0006297259\n",
            "2553.4814453125\n"
          ]
        },
        {
          "output_type": "stream",
          "name": "stderr",
          "text": [
            " 39%|███▉      | 976/2501 [16:38<25:59,  1.02s/it]"
          ]
        },
        {
          "output_type": "stream",
          "name": "stdout",
          "text": [
            "0.00086346176\n",
            "2553.4814453125\n"
          ]
        },
        {
          "output_type": "stream",
          "name": "stderr",
          "text": [
            " 40%|████      | 1001/2501 [17:03<25:35,  1.02s/it]"
          ]
        },
        {
          "output_type": "stream",
          "name": "stdout",
          "text": [
            "0.0004056626\n",
            "2553.4814453125\n"
          ]
        },
        {
          "output_type": "stream",
          "name": "stderr",
          "text": [
            " 41%|████      | 1026/2501 [17:29<25:08,  1.02s/it]"
          ]
        },
        {
          "output_type": "stream",
          "name": "stdout",
          "text": [
            "0.0007233175\n",
            "2553.4814453125\n"
          ]
        },
        {
          "output_type": "stream",
          "name": "stderr",
          "text": [
            " 42%|████▏     | 1051/2501 [17:54<24:43,  1.02s/it]"
          ]
        },
        {
          "output_type": "stream",
          "name": "stdout",
          "text": [
            "0.0010229273\n",
            "2553.4814453125\n"
          ]
        },
        {
          "output_type": "stream",
          "name": "stderr",
          "text": [
            " 43%|████▎     | 1076/2501 [18:20<24:16,  1.02s/it]"
          ]
        },
        {
          "output_type": "stream",
          "name": "stdout",
          "text": [
            "0.0006460406\n",
            "2553.4814453125\n"
          ]
        },
        {
          "output_type": "stream",
          "name": "stderr",
          "text": [
            " 44%|████▍     | 1101/2501 [18:46<23:52,  1.02s/it]"
          ]
        },
        {
          "output_type": "stream",
          "name": "stdout",
          "text": [
            "0.0022447614\n",
            "2553.4814453125\n"
          ]
        },
        {
          "output_type": "stream",
          "name": "stderr",
          "text": [
            " 45%|████▌     | 1126/2501 [19:11<23:26,  1.02s/it]"
          ]
        },
        {
          "output_type": "stream",
          "name": "stdout",
          "text": [
            "0.0019437219\n",
            "2553.4814453125\n"
          ]
        },
        {
          "output_type": "stream",
          "name": "stderr",
          "text": [
            " 46%|████▌     | 1151/2501 [19:37<23:00,  1.02s/it]"
          ]
        },
        {
          "output_type": "stream",
          "name": "stdout",
          "text": [
            "0.00069663336\n",
            "2553.4814453125\n"
          ]
        },
        {
          "output_type": "stream",
          "name": "stderr",
          "text": [
            " 47%|████▋     | 1176/2501 [20:02<22:36,  1.02s/it]"
          ]
        },
        {
          "output_type": "stream",
          "name": "stdout",
          "text": [
            "0.001951481\n",
            "2553.4814453125\n"
          ]
        },
        {
          "output_type": "stream",
          "name": "stderr",
          "text": [
            " 48%|████▊     | 1201/2501 [20:28<22:10,  1.02s/it]"
          ]
        },
        {
          "output_type": "stream",
          "name": "stdout",
          "text": [
            "0.0007759911\n",
            "2553.4814453125\n"
          ]
        },
        {
          "output_type": "stream",
          "name": "stderr",
          "text": [
            " 49%|████▉     | 1226/2501 [20:54<21:43,  1.02s/it]"
          ]
        },
        {
          "output_type": "stream",
          "name": "stdout",
          "text": [
            "0.00061069475\n",
            "2553.4814453125\n"
          ]
        },
        {
          "output_type": "stream",
          "name": "stderr",
          "text": [
            " 50%|█████     | 1251/2501 [21:19<21:19,  1.02s/it]"
          ]
        },
        {
          "output_type": "stream",
          "name": "stdout",
          "text": [
            "0.00044378891\n",
            "2553.4814453125\n"
          ]
        },
        {
          "output_type": "stream",
          "name": "stderr",
          "text": [
            " 51%|█████     | 1276/2501 [21:45<20:52,  1.02s/it]"
          ]
        },
        {
          "output_type": "stream",
          "name": "stdout",
          "text": [
            "0.0012834246\n",
            "2553.4814453125\n"
          ]
        },
        {
          "output_type": "stream",
          "name": "stderr",
          "text": [
            " 52%|█████▏    | 1301/2501 [22:10<20:27,  1.02s/it]"
          ]
        },
        {
          "output_type": "stream",
          "name": "stdout",
          "text": [
            "0.000593207\n",
            "2553.4814453125\n"
          ]
        },
        {
          "output_type": "stream",
          "name": "stderr",
          "text": [
            " 53%|█████▎    | 1326/2501 [22:36<20:02,  1.02s/it]"
          ]
        },
        {
          "output_type": "stream",
          "name": "stdout",
          "text": [
            "0.0005717864\n",
            "2553.4814453125\n"
          ]
        },
        {
          "output_type": "stream",
          "name": "stderr",
          "text": [
            " 54%|█████▍    | 1351/2501 [23:01<19:37,  1.02s/it]"
          ]
        },
        {
          "output_type": "stream",
          "name": "stdout",
          "text": [
            "0.00052738993\n",
            "2553.4814453125\n"
          ]
        },
        {
          "output_type": "stream",
          "name": "stderr",
          "text": [
            " 55%|█████▌    | 1376/2501 [23:27<19:10,  1.02s/it]"
          ]
        },
        {
          "output_type": "stream",
          "name": "stdout",
          "text": [
            "0.0019487607\n",
            "2553.4814453125\n"
          ]
        },
        {
          "output_type": "stream",
          "name": "stderr",
          "text": [
            " 56%|█████▌    | 1401/2501 [23:53<18:45,  1.02s/it]"
          ]
        },
        {
          "output_type": "stream",
          "name": "stdout",
          "text": [
            "0.00065837085\n",
            "2553.4814453125\n"
          ]
        },
        {
          "output_type": "stream",
          "name": "stderr",
          "text": [
            " 57%|█████▋    | 1426/2501 [24:18<18:19,  1.02s/it]"
          ]
        },
        {
          "output_type": "stream",
          "name": "stdout",
          "text": [
            "0.00050693296\n",
            "2553.4814453125\n"
          ]
        },
        {
          "output_type": "stream",
          "name": "stderr",
          "text": [
            " 58%|█████▊    | 1451/2501 [24:44<17:54,  1.02s/it]"
          ]
        },
        {
          "output_type": "stream",
          "name": "stdout",
          "text": [
            "0.0015560193\n",
            "2553.4814453125\n"
          ]
        },
        {
          "output_type": "stream",
          "name": "stderr",
          "text": [
            " 59%|█████▉    | 1476/2501 [25:09<17:28,  1.02s/it]"
          ]
        },
        {
          "output_type": "stream",
          "name": "stdout",
          "text": [
            "0.0016280876\n",
            "2553.4814453125\n"
          ]
        },
        {
          "output_type": "stream",
          "name": "stderr",
          "text": [
            " 60%|██████    | 1501/2501 [25:35<17:03,  1.02s/it]"
          ]
        },
        {
          "output_type": "stream",
          "name": "stdout",
          "text": [
            "0.0015047126\n",
            "2553.4814453125\n"
          ]
        },
        {
          "output_type": "stream",
          "name": "stderr",
          "text": [
            " 61%|██████    | 1526/2501 [26:00<16:37,  1.02s/it]"
          ]
        },
        {
          "output_type": "stream",
          "name": "stdout",
          "text": [
            "0.0010027246\n",
            "2553.4814453125\n"
          ]
        },
        {
          "output_type": "stream",
          "name": "stderr",
          "text": [
            " 62%|██████▏   | 1551/2501 [26:26<16:12,  1.02s/it]"
          ]
        },
        {
          "output_type": "stream",
          "name": "stdout",
          "text": [
            "0.00053707475\n",
            "2553.4814453125\n"
          ]
        },
        {
          "output_type": "stream",
          "name": "stderr",
          "text": [
            " 63%|██████▎   | 1576/2501 [26:52<15:46,  1.02s/it]"
          ]
        },
        {
          "output_type": "stream",
          "name": "stdout",
          "text": [
            "0.0005712738\n",
            "2553.4814453125\n"
          ]
        },
        {
          "output_type": "stream",
          "name": "stderr",
          "text": [
            " 64%|██████▍   | 1601/2501 [27:17<15:21,  1.02s/it]"
          ]
        },
        {
          "output_type": "stream",
          "name": "stdout",
          "text": [
            "0.0014216441\n",
            "2553.4814453125\n"
          ]
        },
        {
          "output_type": "stream",
          "name": "stderr",
          "text": [
            " 65%|██████▌   | 1626/2501 [27:43<14:54,  1.02s/it]"
          ]
        },
        {
          "output_type": "stream",
          "name": "stdout",
          "text": [
            "0.00040036114\n",
            "2553.4814453125\n"
          ]
        },
        {
          "output_type": "stream",
          "name": "stderr",
          "text": [
            " 66%|██████▌   | 1651/2501 [28:08<14:30,  1.02s/it]"
          ]
        },
        {
          "output_type": "stream",
          "name": "stdout",
          "text": [
            "0.00046517077\n",
            "2553.4814453125\n"
          ]
        },
        {
          "output_type": "stream",
          "name": "stderr",
          "text": [
            " 67%|██████▋   | 1676/2501 [28:34<14:03,  1.02s/it]"
          ]
        },
        {
          "output_type": "stream",
          "name": "stdout",
          "text": [
            "0.00053761114\n",
            "2553.4814453125\n"
          ]
        },
        {
          "output_type": "stream",
          "name": "stderr",
          "text": [
            " 68%|██████▊   | 1701/2501 [28:59<13:38,  1.02s/it]"
          ]
        },
        {
          "output_type": "stream",
          "name": "stdout",
          "text": [
            "0.00035663357\n",
            "2553.4814453125\n"
          ]
        }
      ]
    },
    {
      "cell_type": "markdown",
      "source": [
        "##### Results and Plots"
      ],
      "metadata": {
        "id": "lDQTGL4SKDpw"
      }
    },
    {
      "cell_type": "code",
      "source": [
        "#pd.predictions_2D(test_y,predictions,3)\n",
        "def plot_residuals_2D(y_target,y_predicted,sample_number):\n",
        "    y_p = y_predicted[sample_number]\n",
        "    y = y_target.cpu().detach().numpy()\n",
        "    y_p = y_p.cpu().detach().numpy()\n",
        "    # print(y_p.shape); print(type(y_p))\n",
        "    # print(y.shape); print(type(y))\n",
        "\n",
        "    plt.imshow((y[sample_number][0,:,:]-y_p[0,:,:])**2,cmap = 'gray'); plt.show();\n",
        "plot_residuals_2D(test_y,predictions,3)\n",
        "pd.predictions_2D(test_y,predictions,3)\n"
      ],
      "metadata": {
        "id": "zUasG5F5KIzh"
      },
      "execution_count": null,
      "outputs": []
    },
    {
      "cell_type": "code",
      "source": [
        ""
      ],
      "metadata": {
        "id": "oe9EbIzhX_XI"
      },
      "execution_count": null,
      "outputs": []
    },
    {
      "cell_type": "markdown",
      "source": [
        "#### MISC"
      ],
      "metadata": {
        "id": "SWxYjLMgK783"
      }
    },
    {
      "cell_type": "code",
      "source": [
        "print((torch.cuda.memory_allocated())/(1024*1024));\n",
        "!nvidia-smi"
      ],
      "metadata": {
        "colab": {
          "base_uri": "https://localhost:8080/"
        },
        "id": "6iqGJthLbW3s",
        "outputId": "8d351303-96da-4e15-e135-b1eec89d24de"
      },
      "execution_count": 27,
      "outputs": [
        {
          "output_type": "stream",
          "name": "stdout",
          "text": [
            "3616.96728515625\n",
            "Sun Aug 14 21:14:50 2022       \n",
            "+-----------------------------------------------------------------------------+\n",
            "| NVIDIA-SMI 460.32.03    Driver Version: 460.32.03    CUDA Version: 11.2     |\n",
            "|-------------------------------+----------------------+----------------------+\n",
            "| GPU  Name        Persistence-M| Bus-Id        Disp.A | Volatile Uncorr. ECC |\n",
            "| Fan  Temp  Perf  Pwr:Usage/Cap|         Memory-Usage | GPU-Util  Compute M. |\n",
            "|                               |                      |               MIG M. |\n",
            "|===============================+======================+======================|\n",
            "|   0  Tesla P100-PCIE...  Off  | 00000000:00:04.0 Off |                    0 |\n",
            "| N/A   54C    P0    39W / 250W |   8329MiB / 16280MiB |      0%      Default |\n",
            "|                               |                      |                  N/A |\n",
            "+-------------------------------+----------------------+----------------------+\n",
            "                                                                               \n",
            "+-----------------------------------------------------------------------------+\n",
            "| Processes:                                                                  |\n",
            "|  GPU   GI   CI        PID   Type   Process name                  GPU Memory |\n",
            "|        ID   ID                                                   Usage      |\n",
            "|=============================================================================|\n",
            "+-----------------------------------------------------------------------------+\n"
          ]
        }
      ]
    },
    {
      "cell_type": "code",
      "source": [
        "torch.cuda.empty_cache()\n",
        "# dl.print_data_shape(predictions[0])"
      ],
      "metadata": {
        "id": "50M6gKJWWC21"
      },
      "execution_count": 24,
      "outputs": []
    },
    {
      "cell_type": "code",
      "source": [
        "# x_first = predictions[0][0]\n",
        "# pred_np = x_first.cpu().detach().numpy()\n",
        "# dl.print_data_dimension(pred_np); print(type(pred_np))\n",
        "\n",
        "# import matplotlib.pyplot as plt\n",
        "# import matplotlib.cm as cm\n",
        "# import matplotlib.animation as animation\n",
        "\n",
        "# img = [] # some array of images\n",
        "# frames = [] # for storing the generated images\n",
        "# fig = plt.figure()\n",
        "# for i in range(0,x.shape[4]):\n",
        "#     ## For L2 Distance\n",
        "#     frames.append([plt.imshow(pred_np[0,:,:,i], cmap=cm.Greys_r,animated=True)])\n",
        "# ani = animation.ArtistAnimation(fig, frames, interval=120, blit=True, repeat_delay=1000)\n",
        "# ani.save('movie.mp4')\n"
      ],
      "metadata": {
        "id": "LtfUfa9CZhae"
      },
      "execution_count": null,
      "outputs": []
    },
    {
      "cell_type": "markdown",
      "source": [
        "#### 3D convolution"
      ],
      "metadata": {
        "id": "lqgqcs7RK__6"
      }
    },
    {
      "cell_type": "markdown",
      "source": [
        "##### Data Loading"
      ],
      "metadata": {
        "id": "jFE3JWppLIoz"
      }
    },
    {
      "cell_type": "code",
      "source": [
        "# Takes approximately 10 minutes \n",
        "x,y = dl.data_loader_3D('/content/data_new','/content/data_new',device)\n",
        "\n",
        "## Printing the shape of specifid data\n",
        "print('\\nShape of MRI images - >');     dl.print_data_shape(x); \n",
        "print('\\nShape of ASL images - >');     dl.print_data_shape(y);\n",
        "\n",
        "## Printing the Stats of the data\n",
        "print('\\nStats for MRI data(X) - >');   dl.tensor_stats(x); \n",
        "print('\\nStats for ASL data(X) - >');   dl.tensor_stats(y);\n",
        "\n",
        "## Printing the Dimension of X and Y  \n",
        "## Dimension refer -> Number x Length x Breadth x Height x Channel\n",
        "print('\\nDimensions of X(MRI Data) ->',end=' '); dl.print_data_dimension(x)\n",
        "print('\\nDimensions of Y(ASL Data) ->',end=' '); dl.print_data_dimension(y)\n",
        "\n",
        "train_x , train_y , test_x , test_y = dl.data_split(x,y,0.2)\n",
        "\n",
        "print('\\nDimensions of Train Test Data (MRI) ->',end=' ');      dl.print_data_dimension(train_x) ; dl.print_data_dimension(test_x);\n",
        "print('\\nDimensions of Train Test Data (ASL Data) ->',end=' '); dl.print_data_dimension(train_y) ; dl.print_data_dimension(test_y);"
      ],
      "metadata": {
        "id": "krrdtQ6ILHni"
      },
      "execution_count": null,
      "outputs": []
    },
    {
      "cell_type": "markdown",
      "source": [
        "##### Model Training\n"
      ],
      "metadata": {
        "id": "1N3ax-9cLZT8"
      }
    },
    {
      "cell_type": "code",
      "source": [
        "train_loss ,test_loss, predictions = model.train_conv_3D(1250,4,train_x,train_y,test_x,test_y,4)\n",
        "print('Test Loss ',test_loss); print('Predictions shape', predictions.shape)"
      ],
      "metadata": {
        "id": "UqIeycJqLiDE"
      },
      "execution_count": null,
      "outputs": []
    },
    {
      "cell_type": "markdown",
      "source": [
        "##### Results and Video"
      ],
      "metadata": {
        "id": "vnKNhzInL1UZ"
      }
    },
    {
      "cell_type": "code",
      "source": [
        "pd.predictions_3D(train_y,predictions,0)\n",
        "\n",
        "import matplotlib.pyplot as plt\n",
        "import matplotlib.cm as cm\n",
        "import matplotlib.animation as animation\n",
        "def plot_residuals_3D(y_target,y_predicted,sample_number):\n",
        "    y_p = y_predicted[sample_number]; \n",
        "    y = y_target.cpu().detach().numpy(); y_p = y_p.cpu().detach().numpy()\n",
        "    frames = [] # for storing the generated images\n",
        "    fig = plt.figure(); \n",
        "    for i in range(0,y.shape[4]):\n",
        "        ## Appendin the plots\n",
        "        frames.append([plt.imshow((y[sample_number][0,:,:,i]- y_p[0,:,:,i])**2, cmap=cm.Greys_r,animated=True)]);\n",
        "    ani = animation.ArtistAnimation(fig, frames, interval=120, blit=True, repeat_delay=1000)\n",
        "    ani.save('Residual.mp4');\n",
        "plot_residuals_3D(test_y,predictions,1)\n",
        "\n",
        "from IPython.display import HTML\n",
        "from base64 import b64encode\n",
        "mp4 = open('/content/Result.mp4','rb').read()\n",
        "data_url = \"data:video/mp4;base64,\" + b64encode(mp4).decode()\n",
        "HTML(\"\"\"\n",
        "<video width=400 controls>\n",
        "      <source src=\"%s\" type=\"video/mp4\">\n",
        "</video>\n",
        "\"\"\" % data_url)\n",
        "\n"
      ],
      "metadata": {
        "id": "mAc5kwCWnd9H"
      },
      "execution_count": null,
      "outputs": []
    },
    {
      "cell_type": "code",
      "source": [
        "from IPython.display import HTML\n",
        "from base64 import b64encode\n",
        "mp4 = open('/content/Residual.mp4','rb').read()\n",
        "data_url = \"data:video/mp4;base64,\" + b64encode(mp4).decode()\n",
        "HTML(\"\"\"\n",
        "<video width=400 controls>\n",
        "      <source src=\"%s\" type=\"video/mp4\">\n",
        "</video>\n",
        "\"\"\" % data_url)"
      ],
      "metadata": {
        "id": "1-1muhZ4Cuwn"
      },
      "execution_count": null,
      "outputs": []
    },
    {
      "cell_type": "code",
      "source": [
        "del test_loss, predictions\n"
      ],
      "metadata": {
        "id": "PlyD5G69Y8a-"
      },
      "execution_count": null,
      "outputs": []
    }
  ]
}