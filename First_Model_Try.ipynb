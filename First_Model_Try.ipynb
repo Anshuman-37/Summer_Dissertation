{
  "nbformat": 4,
  "nbformat_minor": 0,
  "metadata": {
    "colab": {
      "name": "First_Model_Try.ipynb",
      "provenance": [],
      "machine_shape": "hm",
      "authorship_tag": "ABX9TyNZZ1egAm8CG5C0kxuiLneW",
      "include_colab_link": true
    },
    "kernelspec": {
      "name": "python3",
      "display_name": "Python 3"
    },
    "language_info": {
      "name": "python"
    },
    "accelerator": "GPU",
    "gpuClass": "standard"
  },
  "cells": [
    {
      "cell_type": "markdown",
      "metadata": {
        "id": "view-in-github",
        "colab_type": "text"
      },
      "source": [
        "<a href=\"https://colab.research.google.com/github/Anshuman-37/Summer_Dissertation/blob/main/First_Model_Try.ipynb\" target=\"_parent\"><img src=\"https://colab.research.google.com/assets/colab-badge.svg\" alt=\"Open In Colab\"/></a>"
      ]
    },
    {
      "cell_type": "markdown",
      "source": [
        "##### Import Files"
      ],
      "metadata": {
        "id": "1tE9eg1_F-KH"
      }
    },
    {
      "cell_type": "code",
      "source": [
        "import os\n",
        "import re\n",
        "import nibabel as nib\n",
        "import numpy as np\n",
        "import torch\n",
        "print(torch.__version__)\n",
        "print(torch.cuda.is_available())\n",
        "device = torch.device('cuda:0' if torch.cuda.is_available() else 'cpu')\n",
        "import torch\n",
        "from torch.autograd import Variable\n",
        "from torch.nn import Linear, ReLU, CrossEntropyLoss, Sequential, LazyConv3d , MaxPool3d, Module, Softmax, BatchNorm3d, Dropout, Conv3d, MSELoss\n",
        "from torch.optim import Adam, SGD\n",
        "from torchsummary import summary\n",
        "from tqdm import tqdm"
      ],
      "metadata": {
        "id": "FduCcoF7GBQX",
        "colab": {
          "base_uri": "https://localhost:8080/"
        },
        "outputId": "61581c46-a53b-46f4-e99c-7641e360194d"
      },
      "execution_count": 3,
      "outputs": [
        {
          "output_type": "stream",
          "name": "stdout",
          "text": [
            "1.11.0+cu113\n",
            "True\n"
          ]
        }
      ]
    },
    {
      "cell_type": "code",
      "source": [
        "torch.cuda.empty_cache()"
      ],
      "metadata": {
        "id": "K-1BJpnjZL0E"
      },
      "execution_count": 4,
      "outputs": []
    },
    {
      "cell_type": "markdown",
      "source": [
        "##### Uniziping the Data"
      ],
      "metadata": {
        "id": "we98TzSsF1mF"
      }
    },
    {
      "cell_type": "code",
      "execution_count": null,
      "metadata": {
        "id": "rcdcHnqqE7-Y"
      },
      "outputs": [],
      "source": [
        "!unzip /content/Raw\\ Files.zip -d /content/\n",
        "!unzip /content/Baseline.zip -d /content/"
      ]
    },
    {
      "cell_type": "markdown",
      "source": [
        "##### Data Loading "
      ],
      "metadata": {
        "id": "zzCIspW6GNSm"
      }
    },
    {
      "cell_type": "code",
      "source": [
        "def get_mri_data(path_mri):\n",
        "    '''Returns a list containing the path of MRI DATA'''\n",
        "    path = path_mri;\n",
        "    regex = re.compile(r'__MPR.*') ; fileRegex1 = re.compile(r'(WIP)*T13D'); mri_data_path = []; \n",
        "    # Iterating over Directories \n",
        "    for subdir, dirs, files in os.walk(path):\n",
        "        for file in files:\n",
        "            # Storing the path of Data\n",
        "            if regex.search(file) == None:\n",
        "                if fileRegex1.search(file): mri_data_path.append(os.path.join(subdir, file));\n",
        "    return mri_data_path;\n",
        "\n",
        "def get_asl_data(path_asl):\n",
        "    '''Returns a list containing the path of ASL DATA'''\n",
        "    asl_path = path_asl;\n",
        "    asl_regex = re.compile(r'oxasl_dist.*'); asl_data_path = [];\n",
        "    # Iterating over directories\n",
        "    for subdir, dirs, files in os.walk(asl_path):\n",
        "        # Selecting the ASL file\n",
        "        for file in files:\n",
        "            if file == 'perfusion_calib.img':\n",
        "                if asl_regex.search(subdir): \n",
        "                    asl_data_path.append(os.path.join(subdir, file));\n",
        "    return asl_data_path;\n",
        "\n",
        "def create_data_dict(mri_data_path,asl_data_path): \n",
        "    '''To create a Dictionary of MRI_data and ASL_data'''\n",
        "    mri_map = {}; asl_map = {};\n",
        "    ## Iterating over the mri data's path\n",
        "    for i in mri_data_path:\n",
        "    ## Value is our path i.e. stored and key is the patient number\n",
        "        value = i; key = i.split('/')[4].split(' ')[0]; mri_map[key] = value;\n",
        "    ## Iterating over the mri data's path\n",
        "    for i in asl_data_path:\n",
        "        ## Value is our path i.e. stored and key is the patient number\n",
        "        value = i; key = i.split('/')[3].split(' ')[0];asl_map[key] = value;\n",
        "    return mri_map,asl_map;\n",
        "\n",
        "def create_tensors(mri_data_dict,asl_data_dict,device):\n",
        "    '''Creates tensors from the data dictionary feeded'''\n",
        "    x = [] ; y = []; X = []; Y = [];\n",
        "    for k,v in mri_data_dict.items():\n",
        "        if k in asl_data_dict:\n",
        "            # Loading the MRI image from the path in the train x path \n",
        "            mri_img = nib.load(v); \n",
        "            # Making it a numpy array\n",
        "            mri_vec = np.array(mri_img.dataobj)[np.newaxis,:,:,:] # Channels x Length X Breadth X Slices of Brain\n",
        "            # Min max Normalizing the image \n",
        "            mri_vec = (mri_vec - mri_vec.min()) / (mri_vec.max() - mri_vec.min())\n",
        "            # Appending the MRI image to X \n",
        "            x.append(torch.as_tensor(mri_vec,dtype=torch.float32).to(device)); \n",
        "            ## Finding the same patient with ASL data \n",
        "            asl_img = nib.load(asl_data_dict[k]); asl_vec = np.array(asl_img.dataobj)[np.newaxis,:,:,:]; \n",
        "            asl_vec = (asl_vec - asl_vec.min()) / (asl_vec.max() - asl_vec.min());\n",
        "            ## Appending the image to y\n",
        "            y.append(torch.as_tensor(asl_vec,dtype=torch.float32).to(device))\n",
        "            X = torch.stack(x,dim=0).to(device); Y = torch.stack(y,dim=0).to(device);\n",
        "    return X,Y\n",
        "\n",
        "def print_data_shape(data):\n",
        "    '''Prints the shape of data'''\n",
        "    for i in data: print(i.shape);\n",
        "\n",
        "def tensor_stats(tensor_array):\n",
        "    '''Prints some statistics about the tensors'''\n",
        "    for i in tensor_array:\n",
        "        print(i.sum(), i.prod(), i.mean(), i.std());\n",
        "\n",
        "def print_data_dimension(data):\n",
        "    '''Print dimension of data'''\n",
        "    print(data.shape)\n",
        "\n",
        "def data_loader(path_mri,path_asl,device):\n",
        "    '''This function will return us the mri and asl data in format we want'''\n",
        "    ## Getting path of all MRI data stored and ASL data stored\n",
        "    mri_data = get_mri_data(path_mri); asl_data = get_asl_data(path_asl);\n",
        "    ## Making dict of MRI data for which ASL data exists\n",
        "    mri_data_dict , asl_data_dict = create_data_dict(mri_data,asl_data);\n",
        "    ## Creating the Tensors of the MRI and ASL data\n",
        "    x , y = create_tensors(mri_data_dict,asl_data_dict,device);\n",
        "    return x,y\n",
        "\n",
        "def data_split(x,y,size):\n",
        "    '''Split data into train and test'''\n",
        "    train_x = x[0:int((len(x)+1)*(1-size))] ; train_y = y[0:int((len(x)+1)*(1-size))] ; \n",
        "    test_x = x[int((len(x)+1)*(1-size)):] ; test_y = y[int((len(x)+1)*(1-size)):];\n",
        "    return train_x,train_y,test_x,test_y; \n",
        "\n",
        "\n",
        "## Change Path accordingly\n",
        "path_mri = '/content/Raw Files/Raw_nii_files_for_MC_pCASL_T1_B0_M0/' ; path_asl = '/content/Baseline/';\n",
        "\n",
        "## Getting the data\n",
        "x,y = data_loader(path_mri,path_asl,device)\n",
        "\n",
        "## Printing the shape of specifid data\n",
        "print('Shape of MRI images - >');       print_data_shape(x); \n",
        "print('\\nShape of ASL images - >');     print_data_shape(y);\n",
        "\n",
        "## Printing the Stats of the data\n",
        "print('\\nStats for MRI data(X) - >');   tensor_stats(x); \n",
        "print('\\nStats for ASL data(X) - >');   tensor_stats(y);\n",
        "\n",
        "## Printing the Dimension of X and Y  \n",
        "## Dimension refer -> Number x Length x Breadth x Height x Channel\n",
        "print('\\nDimensions of X(MRI Data) ->',end=' ');print_data_dimension(x)\n",
        "print('\\nDimensions of Y(ASL Data) ->',end=' ');print_data_dimension(y) \n",
        "\n",
        "train_x ,train_y , test_x , test_y = data_split(x,y,0.25);\n",
        "## check the Dimnesion of the data\n",
        "print('\\nTrain Data Dimnensions -> '); print_data_dimension(train_x);print_data_dimension(train_y);\n",
        "print('\\nTest Data Dimnensions -> ');  print_data_dimension(test_x) ;print_data_dimension(test_y);"
      ],
      "metadata": {
        "colab": {
          "base_uri": "https://localhost:8080/"
        },
        "id": "nbYN-yAMLNe4",
        "outputId": "aba4a67c-fc63-455f-b631-8024e4ae4350"
      },
      "execution_count": 21,
      "outputs": [
        {
          "output_type": "stream",
          "name": "stdout",
          "text": [
            "Shape of MRI images - >\n",
            "torch.Size([1, 288, 288, 180])\n",
            "torch.Size([1, 288, 288, 180])\n",
            "torch.Size([1, 288, 288, 180])\n",
            "torch.Size([1, 288, 288, 180])\n",
            "\n",
            "Shape of ASL images - >\n",
            "torch.Size([1, 80, 80, 13])\n",
            "torch.Size([1, 80, 80, 13])\n",
            "torch.Size([1, 80, 80, 13])\n",
            "torch.Size([1, 80, 80, 13])\n",
            "\n",
            "Stats for MRI data(X) - >\n",
            "tensor(632351.7500, device='cuda:0') tensor(0., device='cuda:0') tensor(0.0424, device='cuda:0') tensor(0.0786, device='cuda:0')\n",
            "tensor(1135785.5000, device='cuda:0') tensor(0., device='cuda:0') tensor(0.0761, device='cuda:0') tensor(0.1223, device='cuda:0')\n",
            "tensor(1256232.7500, device='cuda:0') tensor(0., device='cuda:0') tensor(0.0841, device='cuda:0') tensor(0.1339, device='cuda:0')\n",
            "tensor(882671.6875, device='cuda:0') tensor(0., device='cuda:0') tensor(0.0591, device='cuda:0') tensor(0.1196, device='cuda:0')\n",
            "\n",
            "Stats for ASL data(X) - >\n",
            "tensor(4914.8418, device='cuda:0') tensor(0., device='cuda:0') tensor(0.0591, device='cuda:0') tensor(0.1360, device='cuda:0')\n",
            "tensor(4592.5898, device='cuda:0') tensor(0., device='cuda:0') tensor(0.0552, device='cuda:0') tensor(0.1219, device='cuda:0')\n",
            "tensor(5888.7588, device='cuda:0') tensor(0., device='cuda:0') tensor(0.0708, device='cuda:0') tensor(0.1548, device='cuda:0')\n",
            "tensor(6011.9717, device='cuda:0') tensor(0., device='cuda:0') tensor(0.0723, device='cuda:0') tensor(0.1663, device='cuda:0')\n",
            "\n",
            "Dimensions of X(MRI Data) -> torch.Size([4, 1, 288, 288, 180])\n",
            "\n",
            "Dimensions of Y(ASL Data) -> torch.Size([4, 1, 80, 80, 13])\n",
            "\n",
            "Train Data Dimnensions -> \n",
            "torch.Size([3, 1, 288, 288, 180])\n",
            "torch.Size([3, 1, 80, 80, 13])\n",
            "\n",
            "Test Data Dimnensions -> \n",
            "torch.Size([1, 1, 288, 288, 180])\n",
            "torch.Size([1, 1, 80, 80, 13])\n"
          ]
        }
      ]
    },
    {
      "cell_type": "markdown",
      "source": [
        "#### Model"
      ],
      "metadata": {
        "id": "9fK_knNYLaAu"
      }
    },
    {
      "cell_type": "code",
      "source": [
        "hidden = lambda c_in, c_out: Sequential(\n",
        "    Conv3d(c_in, c_out, (31,31,25)),\n",
        "    BatchNorm3d(c_out),\n",
        "    ReLU(),\n",
        "    MaxPool3d(1)\n",
        "    )\n",
        "Hidden = lambda c_in, c_out: Sequential(\n",
        "    Conv3d(c_in, c_out, (29,29,24)),\n",
        "    BatchNorm3d(c_out),\n",
        "    ReLU(),\n",
        "    MaxPool3d(1)\n",
        "    )\n",
        "class Model_1(Module):\n",
        "    '''Class for the Model to be fitted on MRI data'''\n",
        "    def __init__(self, c):\n",
        "        '''Intiallizing the layers of the Model'''\n",
        "        super(Model_1, self).__init__();\n",
        "        self.hidden1 = hidden(1,c);\n",
        "        self.hidden2 = hidden(c,2*c);\n",
        "        self.hidden3 = hidden(2*c,4*c);\n",
        "        self.hidden4 = hidden(4*c, 8*c);\n",
        "        self.hidden5 = hidden(8*c, 4*c);\n",
        "        self.hidden6 = hidden(4*c,2*c);\n",
        "        self.hidden7 = Hidden(2*c,1);\n",
        "    def forward(self, x):\n",
        "        '''Implements the forward pass of the Network'''\n",
        "        x = self.hidden1(x)\n",
        "        x = self.hidden2(x)\n",
        "        x = self.hidden3(x)\n",
        "        x = self.hidden4(x)\n",
        "        x = self.hidden5(x)\n",
        "        x = self.hidden6(x)\n",
        "        x = self.hidden7(x)\n",
        "        return x \n",
        "\n",
        "channels = 1; #3 Defining the number od channels we have for neural network\n",
        "# Intializing model\n",
        "model = Model_1(channels).to(device) # Intializing the model \n",
        "summary(model,(1, 288, 288, 180)) # Printing the summary of the model"
      ],
      "metadata": {
        "id": "njXPCJF_TBDG"
      },
      "execution_count": null,
      "outputs": []
    },
    {
      "cell_type": "code",
      "source": [
        "torch.backends.cuda.matmul.allow_tf32 = True"
      ],
      "metadata": {
        "id": "UKvR_Wbxn5w1"
      },
      "execution_count": 7,
      "outputs": []
    },
    {
      "cell_type": "markdown",
      "source": [
        "### Training "
      ],
      "metadata": {
        "id": "znlGiRBDjphH"
      }
    },
    {
      "cell_type": "code",
      "source": [
        "def train(epochs,x,y):\n",
        "        '''To train the neural network and return the losses'''\n",
        "        train_loss = [];\n",
        "        lossFn = MSELoss()\n",
        "        opt = Adam(model.parameters(), lr=1e-4)\n",
        "        for e in tqdm(range(0, epochs)):\n",
        "            # set the model in training mode\n",
        "            model.train()\n",
        "            # send the input to the device\n",
        "            X = train_x.to(device)\n",
        "            Y = train_y.to(device)\n",
        "            # perform a forward pass and calculate the training loss\n",
        "            pred = model(X)\n",
        "            loss = lossFn(pred, Y)\n",
        "            # zero out the gradients, perform the backpropagation step,\n",
        "            # and update the weights\n",
        "            opt.zero_grad()\n",
        "            #for param in model.parameters():\n",
        "            #    param.grad = None\n",
        "            opt.step()\n",
        "            # add the loss to the total training loss so far and\n",
        "            # calculate the number of correct predictions\n",
        "            train_loss.append(loss)\n",
        "            print(loss)\n",
        "        return train_loss, pred;\n",
        "\n",
        "train_loss,pred = train(1,train_x,train_y);"
      ],
      "metadata": {
        "id": "cFxiBCZITC9D",
        "colab": {
          "base_uri": "https://localhost:8080/"
        },
        "outputId": "49a2e17a-98a3-4eb2-a429-cd3f820403a0"
      },
      "execution_count": 28,
      "outputs": [
        {
          "output_type": "stream",
          "name": "stderr",
          "text": [
            "100%|██████████| 1/1 [01:25<00:00, 85.93s/it]"
          ]
        },
        {
          "output_type": "stream",
          "name": "stdout",
          "text": [
            "tensor(0.5570, device='cuda:0', grad_fn=<MseLossBackward0>)\n"
          ]
        },
        {
          "output_type": "stream",
          "name": "stderr",
          "text": [
            "\n"
          ]
        }
      ]
    },
    {
      "cell_type": "code",
      "source": [
        "#print(train_loss)\n",
        "torch.cuda.empty_cache()"
      ],
      "metadata": {
        "id": "rZQpL-JrTC_4"
      },
      "execution_count": 27,
      "outputs": []
    },
    {
      "cell_type": "markdown",
      "source": [
        "#### Evaluation of Result"
      ],
      "metadata": {
        "id": "cVKTrsCzyk5K"
      }
    },
    {
      "cell_type": "code",
      "source": [
        ""
      ],
      "metadata": {
        "id": "x48fFKHuTDFm"
      },
      "execution_count": null,
      "outputs": []
    },
    {
      "cell_type": "code",
      "source": [
        "print('The shape of the predicted vector -> '); print_data_dimension(pred); "
      ],
      "metadata": {
        "id": "W2MFNOZ1jo4g",
        "colab": {
          "base_uri": "https://localhost:8080/"
        },
        "outputId": "5c970aae-b6c7-4267-83b2-419ca786a608"
      },
      "execution_count": 29,
      "outputs": [
        {
          "output_type": "stream",
          "name": "stdout",
          "text": [
            "The shape of the predicted vector -> \n",
            "torch.Size([3, 1, 80, 80, 13])\n"
          ]
        }
      ]
    },
    {
      "cell_type": "code",
      "source": [
        "import matplotlib.pyplot as plt\n",
        "import matplotlib.cm as cm\n",
        "import matplotlib.animation as animation\n",
        "\n",
        "img = [] # some array of images\n",
        "frames = [] # for storing the generated images\n",
        "fig = plt.figure()\n",
        "for i in range(0,13):\n",
        "    ## For L2 Distance\n",
        "    frames.append([plt.imshow(train_y_np[0][0,:,:,i], cmap=cm.Greys_r,animated=True)])\n",
        "    ## For Normal Image\n",
        "    #frames.append([plt.imshow((a[:,:,i], cmap=cm.Greys_r,animated=True)])\n",
        "ani = animation.ArtistAnimation(fig, frames, interval=120, blit=True, repeat_delay=1000)\n",
        "ani.save('movie.mp4')"
      ],
      "metadata": {
        "id": "oxxfTgijTDCx",
        "colab": {
          "base_uri": "https://localhost:8080/",
          "height": 268
        },
        "outputId": "8b7097e8-f4d5-4778-ecc2-827fb925c455"
      },
      "execution_count": 41,
      "outputs": [
        {
          "output_type": "display_data",
          "data": {
            "text/plain": [
              "<Figure size 432x288 with 1 Axes>"
            ],
            "image/png": "[encoded data removed]"
          },
          "metadata": {
            "needs_background": "light"
          }
        }
      ]
    },
    {
      "cell_type": "code",
      "source": [
        "# 102.5 sec per sample/patient\n",
        "# \n",
        "pred_np = pred.cpu().detach().numpy()\n",
        "train_y_np = train_y.cpu().detach().numpy()\n",
        "print_data_dimension(pred_np); print(type(pred_np))\n",
        "print(pred_np[0].shape)\n",
        "print_data_dimension(train_y_np); print(type(train_y_np))\n",
        "print(train_y_np[0].shape)"
      ],
      "metadata": {
        "id": "h_5RUjdfVFwV",
        "colab": {
          "base_uri": "https://localhost:8080/"
        },
        "outputId": "7db4e2f3-472b-4af8-b7f2-b045de470aef"
      },
      "execution_count": 39,
      "outputs": [
        {
          "output_type": "stream",
          "name": "stdout",
          "text": [
            "(3, 1, 80, 80, 13)\n",
            "<class 'numpy.ndarray'>\n",
            "(1, 80, 80, 13)\n",
            "(3, 1, 80, 80, 13)\n",
            "<class 'numpy.ndarray'>\n",
            "(1, 80, 80, 13)\n"
          ]
        }
      ]
    },
    {
      "cell_type": "code",
      "source": [
        ""
      ],
      "metadata": {
        "id": "KyoiDLW8TDIx"
      },
      "execution_count": null,
      "outputs": []
    },
    {
      "cell_type": "code",
      "source": [
        ""
      ],
      "metadata": {
        "id": "Dcv9kqtoTDLU"
      },
      "execution_count": null,
      "outputs": []
    },
    {
      "cell_type": "markdown",
      "source": [
        "### WASTE"
      ],
      "metadata": {
        "id": "_2QsIBAHTEe4"
      }
    },
    {
      "cell_type": "markdown",
      "source": [
        "###### LOSS"
      ],
      "metadata": {
        "id": "xqBWRmZJLdF7"
      }
    },
    {
      "cell_type": "code",
      "source": [
        "# hidden = lambda c_in, c_out: Sequential(\n",
        "#     Conv3d(c_in, c_out, (31,31,25)),\n",
        "#     BatchNorm3d(c_out),\n",
        "#     ReLU(),\n",
        "#     MaxPool3d(1)\n",
        "#     )\n",
        "# Hidden = lambda c_in, c_out: Sequential(\n",
        "#     Conv3d(c_in, c_out, (29,29,24)),\n",
        "#     BatchNorm3d(c_out),\n",
        "#     ReLU(),\n",
        "#     MaxPool3d(1)\n",
        "#     )\n",
        "# hidden_1 = lambda c_in, c_out: Sequential(\n",
        "#     Conv3d(c_in, c_out, (15,15,12)),\n",
        "#     BatchNorm3d(c_out),\n",
        "#     ReLU(),\n",
        "#     MaxPool3d(1)\n",
        "#     )\n",
        "# hidden_2= lambda c_in, c_out: Sequential(\n",
        "#     Conv3d(c_in, c_out, (13,13,14)),\n",
        "#     BatchNorm3d(c_out),\n",
        "#     ReLU(),\n",
        "#     MaxPool3d(1)\n",
        "#     )\n",
        "# class Model_1(Module):\n",
        "#     '''Class for the Model to be fitted on MRI data'''\n",
        "#     def __init__(self, c):\n",
        "#         '''Intiallizing the layers of the Model'''\n",
        "#         super(Model_1, self).__init__();\n",
        "#         self.hidden1 = hidden_1(1,c);\n",
        "#         self.hidden2 = hidden_1(c,2*c);\n",
        "#         self.hidden3 = hidden_1(2*c,4*c);\n",
        "#         self.hidden4 = hidden_1(4*c,8*c);\n",
        "#         self.hidden5 = hidden_1(8*c,16*c);\n",
        "#         self.hidden6 = hidden_1(16*c,8*c);\n",
        "#         self.hidden7 = hidden_1(8*c,8*c);\n",
        "#         self.hidden8 = hidden_1(8*c,8*c);\n",
        "#         self.hidden9 = hidden_1(8*c,8*c);\n",
        "#         self.hidden10= hidden_1(8*c,8*c);\n",
        "#         self.hidden11= hidden_1(8*c,4*c);\n",
        "#         self.hidden12= hidden_1(4*c,4*c);\n",
        "#         self.hidden13= hidden_1(4*c,2*c);\n",
        "#         self.hidden14= hidden_1(2*c,c);\n",
        "#         self.hidden15= hidden_2(c,1);\n",
        "#     def forward(self, x):\n",
        "#         '''Implements the forward pass of the Network'''\n",
        "#         x = self.hidden1(x)\n",
        "#         x = self.hidden2(x)\n",
        "#         x = self.hidden3(x)\n",
        "#         x = self.hidden4(x)\n",
        "#         x = self.hidden5(x)\n",
        "#         x = self.hidden6(x)\n",
        "#         x = self.hidden7(x)\n",
        "#         x = self.hidden8(x)\n",
        "#         x = self.hidden9(x)\n",
        "#         x = self.hidden10(x)\n",
        "#         x = self.hidden11(x)\n",
        "#         x = self.hidden12(x)\n",
        "#         x = self.hidden13(x)\n",
        "#         x = self.hidden14(x)\n",
        "#         x = self.hidden15(x)\n",
        "#         return x \n",
        "\n",
        "# channels = 1; #3 Defining the number od channels we have for neural network\n",
        "# # Intializing model\n",
        "# model = Model_1(channels).to(device) # Intializing the model \n",
        "# summary(model,(1, 288, 288, 180))"
      ],
      "metadata": {
        "id": "baQOdUElTDO0"
      },
      "execution_count": null,
      "outputs": []
    },
    {
      "cell_type": "code",
      "source": [
        "def mse(y_t , y_p):\n",
        "    ## To calculate the mean square error\n",
        "    print(y_t.shape); print(y_p.shape); \n",
        "    ## Normal Mean Square Error - reduce( x+y , (y_t - y_p)^2)\n",
        "    loss = torch.sum(torch.square(torch.flatten(y_t) - torch.flatten(y_p)))/len(torch.flatten(y_t))\n",
        "    return loss\n",
        "print(mse(pred,train_y))"
      ],
      "metadata": {
        "colab": {
          "base_uri": "https://localhost:8080/"
        },
        "id": "8NT9S1Rf3X2D",
        "outputId": "42bebbf5-8fd3-4b9f-f100-3e1bd8342e21"
      },
      "execution_count": 30,
      "outputs": [
        {
          "output_type": "stream",
          "name": "stdout",
          "text": [
            "torch.Size([3, 1, 80, 80, 13])\n",
            "torch.Size([3, 1, 80, 80, 13])\n",
            "tensor(0.5570, device='cuda:0', grad_fn=<DivBackward0>)\n"
          ]
        }
      ]
    },
    {
      "cell_type": "code",
      "source": [
        "input  = 180 ; output = 13 ; kernel = 12 ; ctr = 0;\n",
        "\n",
        "while(input >= output):\n",
        "    input = input - kernel; ctr = ctr+1;\n",
        "\n",
        "print(ctr)\n",
        "print(input)\n",
        "#kernel lenght and breadth = 15,layers -> 14 X height = 12,layers -> 14 "
      ],
      "metadata": {
        "colab": {
          "base_uri": "https://localhost:8080/"
        },
        "id": "Ew_DtGdJTC0K",
        "outputId": "c9011b53-e5e3-4233-d485-947493cc9069"
      },
      "execution_count": 8,
      "outputs": [
        {
          "output_type": "stream",
          "name": "stdout",
          "text": [
            "14\n",
            "12\n"
          ]
        }
      ]
    },
    {
      "cell_type": "markdown",
      "source": [
        "##### Training\n",
        "\n"
      ],
      "metadata": {
        "id": "0XU8slieLgpt"
      }
    },
    {
      "cell_type": "code",
      "source": [
        "## Go with Lazy 3D convs LAZYCONV3Dw\n",
        "\n",
        "## The loss function to get the result\n",
        "class Normal_3D_cnn(Module):   \n",
        "    \n",
        "    def __init__(self):\n",
        "        super(Normal_3D_cnn, self).__init__()\n",
        "        \n",
        "        self.cnn_layers = Sequential(\n",
        "            # Defining a 3D convolution layer\n",
        "            LazyConv3d(1, kernel_size= 3, stride=1, padding=1),\n",
        "            BatchNorm3d(1),\n",
        "            ReLU(inplace=True),\n",
        "            MaxPool3d(kernel_size=2, stride=2),\n",
        "            # # Defining another 3D convolution layer\n",
        "            # LazyConv3d(1,kernel_size=3, stride=1, padding=1),\n",
        "            # BatchNorm3d(1),\n",
        "            # ReLU(inplace=True),\n",
        "            # MaxPool3d(kernel_size=2, stride=2),\n",
        "        )\n",
        "    def forward(self, x):\n",
        "        x = self.cnn_layers(x)\n",
        "        return x\n",
        "\n",
        "model = Normal_3D_cnn()\n",
        "print(model)\n",
        "optimizer = Adam(model.parameters(), lr=0.07)\n",
        "\n",
        "def train():\n",
        "    model.train()\n",
        "    optimizer.zero_grad()\n",
        "    y_p = model(x[0])\n",
        "    loss = mse(y[0],y_p)\n",
        "    return loss, y_p\n",
        "\n",
        "loss,y_p = train()\n",
        "print(loss,y_p.shape)\n"
      ],
      "metadata": {
        "id": "cxPoxbIGXuBh"
      },
      "execution_count": null,
      "outputs": []
    }
  ]
}