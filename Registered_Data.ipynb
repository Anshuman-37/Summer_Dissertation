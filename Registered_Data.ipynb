{
  "nbformat": 4,
  "nbformat_minor": 0,
  "metadata": {
    "colab": {
      "name": "Registered_Data.ipynb",
      "provenance": [],
      "collapsed_sections": [],
      "machine_shape": "hm",
      "authorship_tag": "ABX9TyPDniOnUiR7w576b8Zvfvcr"
    },
    "kernelspec": {
      "name": "python3",
      "display_name": "Python 3"
    },
    "language_info": {
      "name": "python"
    },
    "gpuClass": "standard",
    "accelerator": "GPU"
  },
  "cells": [
    {
      "cell_type": "markdown",
      "source": [
        "### FSL Installation and Kaggle Prerequisties"
      ],
      "metadata": {
        "id": "PcxoFw1qJiVT"
      }
    },
    {
      "cell_type": "code",
      "source": [
        "# ## On Average Takes around 16 minutes \n",
        "import os\n",
        "# !sudo apt -qq install file\n",
        "# !wget https://fsl.fmrib.ox.ac.uk/fsldownloads/fslinstaller.py\n",
        "# !python2 fslinstaller.py\n",
        " \n",
        "fslpath = \"/usr/local/fsl\"\n",
        "os.environ[\"FSLDIR\"] = fslpath\n",
        "os.environ[\"PATH\"] += os.pathsep + os.path.join(fslpath, 'bin')\n",
        "!. ${FSLDIR}/etc/fslconf/fsl.sh\n",
        "\n",
        "!flirt -version "
      ],
      "metadata": {
        "colab": {
          "base_uri": "https://localhost:8080/"
        },
        "id": "p8fUWv40f0OS",
        "outputId": "7cec2e3d-9f16-4478-9254-3bb6130be429"
      },
      "execution_count": 8,
      "outputs": [
        {
          "output_type": "stream",
          "name": "stdout",
          "text": [
            "FLIRT version 6.0\n"
          ]
        }
      ]
    },
    {
      "cell_type": "code",
      "execution_count": null,
      "metadata": {
        "id": "PdWPPWotIeo_"
      },
      "outputs": [],
      "source": [
        "## Upload your kaggle.json file that can be downloaded from kaggle account\n",
        "## Takes a bit time to read the kaggle.json file Run twice if it didn't found it\n",
        "!pip install kaggle --upgrade\n",
        "!cp kaggle.json ~/.kaggle/\n",
        "!chmod 600 ~/.kaggle/kaggle.json\n",
        "!mkdir content/data\n",
        "!kaggle datasets download -d lyfeisgood/something\n",
        "!unzip /content/something.zip -d data\n",
        "!pip install regtricks\n",
        "!pip install torchsummary"
      ]
    },
    {
      "cell_type": "markdown",
      "source": [
        "#### Header Files"
      ],
      "metadata": {
        "id": "ZTxuYVjVJsq3"
      }
    },
    {
      "cell_type": "code",
      "source": [
        "### Common Libraries\n",
        "import os\n",
        "import re\n",
        "import matplotlib.pyplot as plt\n",
        "import nibabel as nib\n",
        "import numpy as np\n",
        "\n",
        "### Misc. \n",
        "import regtricks as rt\n",
        "\n",
        "### Torch Files \n",
        "import torch\n",
        "print(torch.__version__)\n",
        "print(torch.cuda.is_available())\n",
        "device = torch.device('cuda:0' if torch.cuda.is_available() else 'cpu')\n",
        "from torchsummary import summary\n",
        "\n",
        "## Import my .py file ....... \n",
        "import Data_Loader as dl\n",
        "import Models as model\n",
        "import Prediction as pd\n"
      ],
      "metadata": {
        "colab": {
          "base_uri": "https://localhost:8080/"
        },
        "id": "yAJAOqkdI1uP",
        "outputId": "c83bfd30-204a-4c8c-884f-2775bb6f6676"
      },
      "execution_count": 39,
      "outputs": [
        {
          "output_type": "stream",
          "name": "stdout",
          "text": [
            "1.12.0+cu113\n",
            "True\n"
          ]
        }
      ]
    },
    {
      "cell_type": "markdown",
      "source": [
        "#### 2D convolution"
      ],
      "metadata": {
        "id": "sATY8ZuKJ3c3"
      }
    },
    {
      "cell_type": "markdown",
      "source": [
        "##### Data Loading"
      ],
      "metadata": {
        "id": "QJfuvZYvJ8y3"
      }
    },
    {
      "cell_type": "code",
      "source": [
        "## Take around 5 minutes\n",
        "## Defining the path of the data \n",
        "x,y = dl.data_loader_2D('/content/data','/content/data',55,device)\n",
        "\n",
        "## Printing the shape of specifid data\n",
        "print('\\nShape of MRI images - >');     dl.print_data_shape(x); \n",
        "print('\\nShape of ASL images - >');     dl.print_data_shape(y);\n",
        "\n",
        "## Printing the Stats of the data\n",
        "print('\\nStats for MRI data(X) - >');   dl.tensor_stats(x); \n",
        "print('\\nStats for ASL data(X) - >');   dl.tensor_stats(y);\n",
        "\n",
        "## Printing the Dimension of X and Y  \n",
        "## Dimension refer -> Number x Length x Breadth x Height x Channel\n",
        "print('\\nDimensions of X(MRI Data) ->',end=' '); dl.print_data_dimension(x)\n",
        "print('\\nDimensions of Y(ASL Data) ->',end=' '); dl.print_data_dimension(y)"
      ],
      "metadata": {
        "id": "jSGbVbDnLSWl"
      },
      "execution_count": null,
      "outputs": []
    },
    {
      "cell_type": "markdown",
      "source": [
        "##### Model Training"
      ],
      "metadata": {
        "id": "mHFlDsQNKAZ-"
      }
    },
    {
      "cell_type": "code",
      "source": [
        "## Training the model\n",
        "train_loss, predictions = model.train_2D_conv(1000,4,x,y,150)"
      ],
      "metadata": {
        "colab": {
          "base_uri": "https://localhost:8080/"
        },
        "id": "8pyj_kY7dpQK",
        "outputId": "849f3d98-1172-4650-df11-97a74bcc53c8"
      },
      "execution_count": 37,
      "outputs": [
        {
          "output_type": "stream",
          "name": "stdout",
          "text": [
            "----------------------------------------------------------------\n",
            "        Layer (type)               Output Shape         Param #\n",
            "================================================================\n",
            "            Conv2d-1         [-1, 600, 91, 109]           6,000\n",
            "       BatchNorm2d-2         [-1, 600, 91, 109]           1,200\n",
            "              ReLU-3         [-1, 600, 91, 109]               0\n",
            "         MaxPool2d-4         [-1, 600, 91, 109]               0\n",
            "            Conv2d-5        [-1, 1200, 91, 109]       6,481,200\n",
            "       BatchNorm2d-6        [-1, 1200, 91, 109]           2,400\n",
            "              ReLU-7        [-1, 1200, 91, 109]               0\n",
            "         MaxPool2d-8        [-1, 1200, 91, 109]               0\n",
            "            Conv2d-9        [-1, 2400, 91, 109]      25,922,400\n",
            "      BatchNorm2d-10        [-1, 2400, 91, 109]           4,800\n",
            "             ReLU-11        [-1, 2400, 91, 109]               0\n",
            "        MaxPool2d-12        [-1, 2400, 91, 109]               0\n",
            "           Conv2d-13        [-1, 1200, 91, 109]      25,921,200\n",
            "      BatchNorm2d-14        [-1, 1200, 91, 109]           2,400\n",
            "             ReLU-15        [-1, 1200, 91, 109]               0\n",
            "        MaxPool2d-16        [-1, 1200, 91, 109]               0\n",
            "           Conv2d-17        [-1, 2400, 91, 109]      25,922,400\n",
            "      BatchNorm2d-18        [-1, 2400, 91, 109]           4,800\n",
            "             ReLU-19        [-1, 2400, 91, 109]               0\n",
            "        MaxPool2d-20        [-1, 2400, 91, 109]               0\n",
            "           Conv2d-21        [-1, 1200, 91, 109]      25,921,200\n",
            "      BatchNorm2d-22        [-1, 1200, 91, 109]           2,400\n",
            "             ReLU-23        [-1, 1200, 91, 109]               0\n",
            "        MaxPool2d-24        [-1, 1200, 91, 109]               0\n",
            "           Conv2d-25           [-1, 1, 91, 109]           1,201\n",
            "      BatchNorm2d-26           [-1, 1, 91, 109]               2\n",
            "             ReLU-27           [-1, 1, 91, 109]               0\n",
            "        MaxPool2d-28           [-1, 1, 91, 109]               0\n",
            "================================================================\n",
            "Total params: 110,193,603\n",
            "Trainable params: 110,193,603\n",
            "Non-trainable params: 0\n",
            "----------------------------------------------------------------\n",
            "Input size (MB): 0.04\n",
            "Forward/backward pass size (MB): 2724.64\n",
            "Params size (MB): 420.36\n",
            "Estimated Total Size (MB): 3145.03\n",
            "----------------------------------------------------------------\n"
          ]
        },
        {
          "output_type": "stream",
          "name": "stderr",
          "text": [
            "  0%|          | 1/1000 [00:04<1:09:15,  4.16s/it]"
          ]
        },
        {
          "output_type": "stream",
          "name": "stdout",
          "text": [
            "0.30768\n",
            "2523.37890625\n"
          ]
        },
        {
          "output_type": "stream",
          "name": "stderr",
          "text": [
            "  3%|▎         | 26/1000 [01:49<1:08:52,  4.24s/it]"
          ]
        },
        {
          "output_type": "stream",
          "name": "stdout",
          "text": [
            "0.09730308\n",
            "2523.37890625\n"
          ]
        },
        {
          "output_type": "stream",
          "name": "stderr",
          "text": [
            "  5%|▌         | 51/1000 [03:35<1:07:02,  4.24s/it]"
          ]
        },
        {
          "output_type": "stream",
          "name": "stdout",
          "text": [
            "0.057844467\n",
            "2523.37890625\n"
          ]
        },
        {
          "output_type": "stream",
          "name": "stderr",
          "text": [
            "  8%|▊         | 76/1000 [05:21<1:05:17,  4.24s/it]"
          ]
        },
        {
          "output_type": "stream",
          "name": "stdout",
          "text": [
            "0.09862262\n",
            "2523.37890625\n"
          ]
        },
        {
          "output_type": "stream",
          "name": "stderr",
          "text": [
            " 10%|█         | 101/1000 [07:07<1:03:31,  4.24s/it]"
          ]
        },
        {
          "output_type": "stream",
          "name": "stdout",
          "text": [
            "0.10584162\n",
            "2523.37890625\n"
          ]
        },
        {
          "output_type": "stream",
          "name": "stderr",
          "text": [
            " 13%|█▎        | 126/1000 [08:53<1:01:44,  4.24s/it]"
          ]
        },
        {
          "output_type": "stream",
          "name": "stdout",
          "text": [
            "0.054530717\n",
            "2523.37890625\n"
          ]
        },
        {
          "output_type": "stream",
          "name": "stderr",
          "text": [
            " 15%|█▌        | 151/1000 [10:39<1:00:02,  4.24s/it]"
          ]
        },
        {
          "output_type": "stream",
          "name": "stdout",
          "text": [
            "0.07455857\n",
            "2523.37890625\n"
          ]
        },
        {
          "output_type": "stream",
          "name": "stderr",
          "text": [
            " 18%|█▊        | 176/1000 [12:25<58:15,  4.24s/it]"
          ]
        },
        {
          "output_type": "stream",
          "name": "stdout",
          "text": [
            "0.04596822\n",
            "2523.37890625\n"
          ]
        },
        {
          "output_type": "stream",
          "name": "stderr",
          "text": [
            " 20%|██        | 201/1000 [14:11<56:25,  4.24s/it]"
          ]
        },
        {
          "output_type": "stream",
          "name": "stdout",
          "text": [
            "0.04942524\n",
            "2523.37890625\n"
          ]
        },
        {
          "output_type": "stream",
          "name": "stderr",
          "text": [
            " 23%|██▎       | 226/1000 [15:57<54:40,  4.24s/it]"
          ]
        },
        {
          "output_type": "stream",
          "name": "stdout",
          "text": [
            "0.037473585\n",
            "2523.37890625\n"
          ]
        },
        {
          "output_type": "stream",
          "name": "stderr",
          "text": [
            " 25%|██▌       | 251/1000 [17:43<52:55,  4.24s/it]"
          ]
        },
        {
          "output_type": "stream",
          "name": "stdout",
          "text": [
            "0.06317328\n",
            "2523.37890625\n"
          ]
        },
        {
          "output_type": "stream",
          "name": "stderr",
          "text": [
            " 28%|██▊       | 276/1000 [19:29<51:09,  4.24s/it]"
          ]
        },
        {
          "output_type": "stream",
          "name": "stdout",
          "text": [
            "0.04212921\n",
            "2523.37890625\n"
          ]
        },
        {
          "output_type": "stream",
          "name": "stderr",
          "text": [
            " 30%|███       | 301/1000 [21:15<49:24,  4.24s/it]"
          ]
        },
        {
          "output_type": "stream",
          "name": "stdout",
          "text": [
            "0.0201439\n",
            "2523.37890625\n"
          ]
        },
        {
          "output_type": "stream",
          "name": "stderr",
          "text": [
            " 33%|███▎      | 326/1000 [23:01<47:38,  4.24s/it]"
          ]
        },
        {
          "output_type": "stream",
          "name": "stdout",
          "text": [
            "0.036339913\n",
            "2523.37890625\n"
          ]
        },
        {
          "output_type": "stream",
          "name": "stderr",
          "text": [
            " 35%|███▌      | 351/1000 [24:47<45:53,  4.24s/it]"
          ]
        },
        {
          "output_type": "stream",
          "name": "stdout",
          "text": [
            "0.03482643\n",
            "2523.37890625\n"
          ]
        },
        {
          "output_type": "stream",
          "name": "stderr",
          "text": [
            " 38%|███▊      | 376/1000 [26:33<44:04,  4.24s/it]"
          ]
        },
        {
          "output_type": "stream",
          "name": "stdout",
          "text": [
            "0.024000047\n",
            "2523.37890625\n"
          ]
        },
        {
          "output_type": "stream",
          "name": "stderr",
          "text": [
            " 40%|████      | 401/1000 [28:19<42:20,  4.24s/it]"
          ]
        },
        {
          "output_type": "stream",
          "name": "stdout",
          "text": [
            "0.026927872\n",
            "2523.37890625\n"
          ]
        },
        {
          "output_type": "stream",
          "name": "stderr",
          "text": [
            " 43%|████▎     | 426/1000 [30:05<40:34,  4.24s/it]"
          ]
        },
        {
          "output_type": "stream",
          "name": "stdout",
          "text": [
            "0.02194907\n",
            "2523.37890625\n"
          ]
        },
        {
          "output_type": "stream",
          "name": "stderr",
          "text": [
            " 45%|████▌     | 451/1000 [31:51<38:48,  4.24s/it]"
          ]
        },
        {
          "output_type": "stream",
          "name": "stdout",
          "text": [
            "0.013086186\n",
            "2523.37890625\n"
          ]
        },
        {
          "output_type": "stream",
          "name": "stderr",
          "text": [
            " 48%|████▊     | 476/1000 [33:37<37:01,  4.24s/it]"
          ]
        },
        {
          "output_type": "stream",
          "name": "stdout",
          "text": [
            "0.00971657\n",
            "2523.37890625\n"
          ]
        },
        {
          "output_type": "stream",
          "name": "stderr",
          "text": [
            " 50%|█████     | 501/1000 [35:23<35:16,  4.24s/it]"
          ]
        },
        {
          "output_type": "stream",
          "name": "stdout",
          "text": [
            "0.016893374\n",
            "2523.37890625\n"
          ]
        },
        {
          "output_type": "stream",
          "name": "stderr",
          "text": [
            " 53%|█████▎    | 526/1000 [37:09<33:29,  4.24s/it]"
          ]
        },
        {
          "output_type": "stream",
          "name": "stdout",
          "text": [
            "0.014852634\n",
            "2523.37890625\n"
          ]
        },
        {
          "output_type": "stream",
          "name": "stderr",
          "text": [
            " 55%|█████▌    | 551/1000 [38:55<31:43,  4.24s/it]"
          ]
        },
        {
          "output_type": "stream",
          "name": "stdout",
          "text": [
            "0.031909436\n",
            "2523.37890625\n"
          ]
        },
        {
          "output_type": "stream",
          "name": "stderr",
          "text": [
            " 58%|█████▊    | 576/1000 [40:41<29:56,  4.24s/it]"
          ]
        },
        {
          "output_type": "stream",
          "name": "stdout",
          "text": [
            "0.042126536\n",
            "2523.37890625\n"
          ]
        },
        {
          "output_type": "stream",
          "name": "stderr",
          "text": [
            " 60%|██████    | 601/1000 [42:27<28:13,  4.24s/it]"
          ]
        },
        {
          "output_type": "stream",
          "name": "stdout",
          "text": [
            "0.013277617\n",
            "2523.37890625\n"
          ]
        },
        {
          "output_type": "stream",
          "name": "stderr",
          "text": [
            " 63%|██████▎   | 626/1000 [44:13<26:25,  4.24s/it]"
          ]
        },
        {
          "output_type": "stream",
          "name": "stdout",
          "text": [
            "0.02705509\n",
            "2523.37890625\n"
          ]
        },
        {
          "output_type": "stream",
          "name": "stderr",
          "text": [
            " 65%|██████▌   | 651/1000 [45:59<24:38,  4.24s/it]"
          ]
        },
        {
          "output_type": "stream",
          "name": "stdout",
          "text": [
            "0.05286036\n",
            "2523.37890625\n"
          ]
        },
        {
          "output_type": "stream",
          "name": "stderr",
          "text": [
            " 68%|██████▊   | 676/1000 [47:45<22:54,  4.24s/it]"
          ]
        },
        {
          "output_type": "stream",
          "name": "stdout",
          "text": [
            "0.01689657\n",
            "2523.37890625\n"
          ]
        },
        {
          "output_type": "stream",
          "name": "stderr",
          "text": [
            " 70%|███████   | 701/1000 [49:31<21:07,  4.24s/it]"
          ]
        },
        {
          "output_type": "stream",
          "name": "stdout",
          "text": [
            "0.018466458\n",
            "2523.37890625\n"
          ]
        },
        {
          "output_type": "stream",
          "name": "stderr",
          "text": [
            " 73%|███████▎  | 726/1000 [51:17<19:22,  4.24s/it]"
          ]
        },
        {
          "output_type": "stream",
          "name": "stdout",
          "text": [
            "0.022103455\n",
            "2523.37890625\n"
          ]
        },
        {
          "output_type": "stream",
          "name": "stderr",
          "text": [
            " 75%|███████▌  | 751/1000 [53:03<17:35,  4.24s/it]"
          ]
        },
        {
          "output_type": "stream",
          "name": "stdout",
          "text": [
            "0.058549\n",
            "2523.37890625\n"
          ]
        },
        {
          "output_type": "stream",
          "name": "stderr",
          "text": [
            " 78%|███████▊  | 776/1000 [54:49<15:49,  4.24s/it]"
          ]
        },
        {
          "output_type": "stream",
          "name": "stdout",
          "text": [
            "0.006864595\n",
            "2523.37890625\n"
          ]
        },
        {
          "output_type": "stream",
          "name": "stderr",
          "text": [
            " 80%|████████  | 801/1000 [56:35<14:03,  4.24s/it]"
          ]
        },
        {
          "output_type": "stream",
          "name": "stdout",
          "text": [
            "0.028007528\n",
            "2523.37890625\n"
          ]
        },
        {
          "output_type": "stream",
          "name": "stderr",
          "text": [
            " 83%|████████▎ | 826/1000 [58:21<12:17,  4.24s/it]"
          ]
        },
        {
          "output_type": "stream",
          "name": "stdout",
          "text": [
            "0.021837955\n",
            "2523.37890625\n"
          ]
        },
        {
          "output_type": "stream",
          "name": "stderr",
          "text": [
            " 85%|████████▌ | 851/1000 [1:00:07<10:31,  4.24s/it]"
          ]
        },
        {
          "output_type": "stream",
          "name": "stdout",
          "text": [
            "0.021312257\n",
            "2523.37890625\n"
          ]
        },
        {
          "output_type": "stream",
          "name": "stderr",
          "text": [
            " 88%|████████▊ | 876/1000 [1:01:53<08:45,  4.24s/it]"
          ]
        },
        {
          "output_type": "stream",
          "name": "stdout",
          "text": [
            "0.06702489\n",
            "2523.37890625\n"
          ]
        },
        {
          "output_type": "stream",
          "name": "stderr",
          "text": [
            " 90%|█████████ | 901/1000 [1:03:39<06:59,  4.24s/it]"
          ]
        },
        {
          "output_type": "stream",
          "name": "stdout",
          "text": [
            "0.05235528\n",
            "2523.37890625\n"
          ]
        },
        {
          "output_type": "stream",
          "name": "stderr",
          "text": [
            " 93%|█████████▎| 926/1000 [1:05:25<05:13,  4.24s/it]"
          ]
        },
        {
          "output_type": "stream",
          "name": "stdout",
          "text": [
            "0.0061486834\n",
            "2523.37890625\n"
          ]
        },
        {
          "output_type": "stream",
          "name": "stderr",
          "text": [
            " 95%|█████████▌| 951/1000 [1:07:11<03:27,  4.24s/it]"
          ]
        },
        {
          "output_type": "stream",
          "name": "stdout",
          "text": [
            "0.0024861062\n",
            "2523.37890625\n"
          ]
        },
        {
          "output_type": "stream",
          "name": "stderr",
          "text": [
            " 98%|█████████▊| 976/1000 [1:08:57<01:41,  4.24s/it]"
          ]
        },
        {
          "output_type": "stream",
          "name": "stdout",
          "text": [
            "0.0011784662\n",
            "2523.37890625\n"
          ]
        },
        {
          "output_type": "stream",
          "name": "stderr",
          "text": [
            "100%|██████████| 1000/1000 [1:10:39<00:00,  4.24s/it]\n"
          ]
        }
      ]
    },
    {
      "cell_type": "markdown",
      "source": [
        "##### Results and Plots"
      ],
      "metadata": {
        "id": "lDQTGL4SKDpw"
      }
    },
    {
      "cell_type": "code",
      "source": [
        "pd.predictions_2D(y,predictions,1)"
      ],
      "metadata": {
        "colab": {
          "base_uri": "https://localhost:8080/",
          "height": 590
        },
        "id": "zUasG5F5KIzh",
        "outputId": "7b2e317f-27e6-40c6-9c04-d46fdcfe7e1d"
      },
      "execution_count": 45,
      "outputs": [
        {
          "output_type": "stream",
          "name": "stdout",
          "text": [
            "(1, 91, 109)\n",
            "<class 'numpy.ndarray'>\n",
            "(10, 1, 91, 109)\n",
            "<class 'numpy.ndarray'>\n"
          ]
        },
        {
          "output_type": "display_data",
          "data": {
            "text/plain": [
              "<Figure size 432x288 with 1 Axes>"
            ],
            "image/png": "[encoded data removed]"
          },
          "metadata": {
            "needs_background": "light"
          }
        },
        {
          "output_type": "display_data",
          "data": {
            "text/plain": [
              "<Figure size 432x288 with 1 Axes>"
            ],
            "image/png": "[encoded data removed]"
          },
          "metadata": {
            "needs_background": "light"
          }
        }
      ]
    },
    {
      "cell_type": "markdown",
      "source": [
        "#### MISC"
      ],
      "metadata": {
        "id": "SWxYjLMgK783"
      }
    },
    {
      "cell_type": "code",
      "source": [
        "print((torch.cuda.memory_allocated())/(1024*1024));\n",
        "!nvidia-smi"
      ],
      "metadata": {
        "colab": {
          "base_uri": "https://localhost:8080/"
        },
        "id": "6iqGJthLbW3s",
        "outputId": "0dcc1a21-3dc3-4d62-a9a5-cc8a34bf9813"
      },
      "execution_count": 35,
      "outputs": [
        {
          "output_type": "stream",
          "name": "stdout",
          "text": [
            "841.10107421875\n",
            "Sat Jul 30 17:07:59 2022       \n",
            "+-----------------------------------------------------------------------------+\n",
            "| NVIDIA-SMI 460.32.03    Driver Version: 460.32.03    CUDA Version: 11.2     |\n",
            "|-------------------------------+----------------------+----------------------+\n",
            "| GPU  Name        Persistence-M| Bus-Id        Disp.A | Volatile Uncorr. ECC |\n",
            "| Fan  Temp  Perf  Pwr:Usage/Cap|         Memory-Usage | GPU-Util  Compute M. |\n",
            "|                               |                      |               MIG M. |\n",
            "|===============================+======================+======================|\n",
            "|   0  Tesla P100-PCIE...  Off  | 00000000:00:04.0 Off |                    0 |\n",
            "| N/A   50C    P0    36W / 250W |   7315MiB / 16280MiB |      0%      Default |\n",
            "|                               |                      |                  N/A |\n",
            "+-------------------------------+----------------------+----------------------+\n",
            "                                                                               \n",
            "+-----------------------------------------------------------------------------+\n",
            "| Processes:                                                                  |\n",
            "|  GPU   GI   CI        PID   Type   Process name                  GPU Memory |\n",
            "|        ID   ID                                                   Usage      |\n",
            "|=============================================================================|\n",
            "+-----------------------------------------------------------------------------+\n"
          ]
        }
      ]
    },
    {
      "cell_type": "code",
      "source": [
        "torch.cuda.empty_cache()\n",
        "dl.print_data_shape(predictions[0])"
      ],
      "metadata": {
        "colab": {
          "base_uri": "https://localhost:8080/"
        },
        "id": "50M6gKJWWC21",
        "outputId": "2abea489-f4b2-40e3-c2ae-f489e5e54b99"
      },
      "execution_count": 34,
      "outputs": [
        {
          "output_type": "stream",
          "name": "stdout",
          "text": [
            "torch.Size([1, 91, 109])\n",
            "torch.Size([1, 91, 109])\n",
            "torch.Size([1, 91, 109])\n",
            "torch.Size([1, 91, 109])\n"
          ]
        }
      ]
    },
    {
      "cell_type": "code",
      "source": [
        "# x_first = predictions[0][0]\n",
        "# pred_np = x_first.cpu().detach().numpy()\n",
        "# dl.print_data_dimension(pred_np); print(type(pred_np))\n",
        "\n",
        "# import matplotlib.pyplot as plt\n",
        "# import matplotlib.cm as cm\n",
        "# import matplotlib.animation as animation\n",
        "\n",
        "# img = [] # some array of images\n",
        "# frames = [] # for storing the generated images\n",
        "# fig = plt.figure()\n",
        "# for i in range(0,x.shape[4]):\n",
        "#     ## For L2 Distance\n",
        "#     frames.append([plt.imshow(pred_np[0,:,:,i], cmap=cm.Greys_r,animated=True)])\n",
        "# ani = animation.ArtistAnimation(fig, frames, interval=120, blit=True, repeat_delay=1000)\n",
        "# ani.save('movie.mp4')\n"
      ],
      "metadata": {
        "colab": {
          "base_uri": "https://localhost:8080/",
          "height": 304
        },
        "id": "LtfUfa9CZhae",
        "outputId": "045540c7-3821-42e1-aa7a-865b7b881b15"
      },
      "execution_count": 9,
      "outputs": [
        {
          "output_type": "stream",
          "name": "stdout",
          "text": [
            "(1, 91, 109, 91)\n",
            "<class 'numpy.ndarray'>\n"
          ]
        },
        {
          "output_type": "display_data",
          "data": {
            "text/plain": [
              "<Figure size 432x288 with 1 Axes>"
            ],
            "image/png": "[encoded data removed]"
          },
          "metadata": {
            "needs_background": "light"
          }
        }
      ]
    },
    {
      "cell_type": "markdown",
      "source": [
        "#### 3D convolution"
      ],
      "metadata": {
        "id": "lqgqcs7RK__6"
      }
    },
    {
      "cell_type": "markdown",
      "source": [
        "##### Data Loading"
      ],
      "metadata": {
        "id": "jFE3JWppLIoz"
      }
    },
    {
      "cell_type": "code",
      "source": [
        "\n",
        "x,y = dl.data_loader_3D('/content/data','/content/data',device)\n",
        "\n",
        "## Printing the shape of specifid data\n",
        "print('\\nShape of MRI images - >');     dl.print_data_shape(x); \n",
        "print('\\nShape of ASL images - >');     dl.print_data_shape(y);\n",
        "\n",
        "## Printing the Stats of the data\n",
        "print('\\nStats for MRI data(X) - >');   dl.tensor_stats(x); \n",
        "print('\\nStats for ASL data(X) - >');   dl.tensor_stats(y);\n",
        "\n",
        "## Printing the Dimension of X and Y  \n",
        "## Dimension refer -> Number x Length x Breadth x Height x Channel\n",
        "print('\\nDimensions of X(MRI Data) ->',end=' '); dl.print_data_dimension(x)\n",
        "print('\\nDimensions of Y(ASL Data) ->',end=' '); dl.print_data_dimension(y)"
      ],
      "metadata": {
        "id": "krrdtQ6ILHni"
      },
      "execution_count": null,
      "outputs": []
    },
    {
      "cell_type": "markdown",
      "source": [
        "##### Model Training\n"
      ],
      "metadata": {
        "id": "1N3ax-9cLZT8"
      }
    },
    {
      "cell_type": "code",
      "source": [
        "train_loss, predictions = model.train_3D_conv(1000,4,x,y,2)"
      ],
      "metadata": {
        "id": "UqIeycJqLiDE"
      },
      "execution_count": null,
      "outputs": []
    },
    {
      "cell_type": "markdown",
      "source": [
        "##### Results and Video"
      ],
      "metadata": {
        "id": "vnKNhzInL1UZ"
      }
    },
    {
      "cell_type": "code",
      "source": [
        "pd.predictions_3D(y,predictions,0)\n",
        "from IPython.display import HTML\n",
        "from base64 import b64encode\n",
        "mp4 = open('/content/movie.mp4','rb').read()\n",
        "data_url = \"data:video/mp4;base64,\" + b64encode(mp4).decode()\n",
        "HTML(\"\"\"\n",
        "<video width=400 controls>\n",
        "      <source src=\"%s\" type=\"video/mp4\">\n",
        "</video>\n",
        "\"\"\" % data_url)"
      ],
      "metadata": {
        "id": "mAc5kwCWnd9H"
      },
      "execution_count": null,
      "outputs": []
    },
    {
      "cell_type": "markdown",
      "source": [
        "### 2d convlutions"
      ],
      "metadata": {
        "id": "0RKosQETtWmO"
      }
    },
    {
      "cell_type": "code",
      "source": [
        "## Take around 5 minutes\n",
        "## Defining the path of the data \n",
        "x,y = dl.data_loader('/content/data','/content/data',device)\n",
        "\n",
        "## Printing the shape of specifid data\n",
        "print('\\nShape of MRI images - >');     dl.print_data_shape(x); \n",
        "print('\\nShape of ASL images - >');     dl.print_data_shape(y);\n",
        "\n",
        "## Printing the Stats of the data\n",
        "print('\\nStats for MRI data(X) - >');   dl.tensor_stats(x); \n",
        "print('\\nStats for ASL data(X) - >');   dl.tensor_stats(y);\n",
        "\n",
        "## Printing the Dimension of X and Y  \n",
        "## Dimension refer -> Number x Length x Breadth x Height x Channel\n",
        "print('\\nDimensions of X(MRI Data) ->',end=' '); dl.print_data_dimension(x)\n",
        "print('\\nDimensions of Y(ASL Data) ->',end=' '); dl.print_data_dimension(y)\n",
        "\n",
        "## getting out data for only one slice\n"
      ],
      "metadata": {
        "id": "9RQ4efYlsIFF"
      },
      "execution_count": null,
      "outputs": []
    },
    {
      "cell_type": "code",
      "source": [
        "print(x.shape); print(y.shape); \n",
        "X = x.cpu().detach().numpy(); Y = y.cpu().detach().numpy();\n",
        "print(X.shape); print(type(X)); print(Y.shape); print(type(Y)); "
      ],
      "metadata": {
        "colab": {
          "base_uri": "https://localhost:8080/"
        },
        "id": "6h5YQ-5GtkqR",
        "outputId": "419366bc-63b6-42b1-afca-4e6d5932134b"
      },
      "execution_count": 11,
      "outputs": [
        {
          "output_type": "stream",
          "name": "stdout",
          "text": [
            "torch.Size([10, 1, 91, 109, 91])\n",
            "torch.Size([10, 1, 91, 109, 91])\n",
            "(10, 1, 91, 109, 91)\n",
            "<class 'numpy.ndarray'>\n",
            "(10, 1, 91, 109, 91)\n",
            "<class 'numpy.ndarray'>\n"
          ]
        }
      ]
    },
    {
      "cell_type": "code",
      "source": [
        "## idel Slice number\n",
        "import matplotlib.pyplot as plt\n",
        "x_1 = []; y_1 = []\n",
        "slice_number = 55\n",
        "for i in range(0,X.shape[0]):\n",
        "    x_1.append(X[i][:,:,:,slice_number]); y_1.append(Y[i][:,:,:,slice_number])\n",
        "x_1 = torch.as_tensor(np.array(x_1),dtype=torch.float32); y_1 = torch.as_tensor(np.array(y_1),dtype=torch.float32)\n",
        "# for i in x_1:\n",
        "#     plt.imshow(i[:,:],cmap = 'gray')\n",
        "#     plt.show()\n",
        "print(type(x_1)); print(type(y_1)); print(x_1.shape); print(y_1.shape) "
      ],
      "metadata": {
        "colab": {
          "base_uri": "https://localhost:8080/"
        },
        "id": "6aJKUYsivUGP",
        "outputId": "75512f0b-17ee-4076-a394-4a26fa1271cf"
      },
      "execution_count": 53,
      "outputs": [
        {
          "output_type": "stream",
          "name": "stdout",
          "text": [
            "<class 'torch.Tensor'>\n",
            "<class 'torch.Tensor'>\n",
            "torch.Size([10, 1, 91, 109])\n",
            "torch.Size([10, 1, 91, 109])\n"
          ]
        }
      ]
    },
    {
      "cell_type": "code",
      "source": [
        "import torch\n",
        "print(torch.__version__)\n",
        "print(torch.cuda.is_available())\n",
        "device = torch.device('cuda:0' if torch.cuda.is_available() else 'cpu')\n",
        "from torch.autograd import Variable\n",
        "from torch.nn import Linear, ReLU, CrossEntropyLoss, Sequential, MaxPool2d, Module, Softmax, BatchNorm2d, Dropout, Conv2d, MSELoss\n",
        "from torch.optim import Adam, SGD\n",
        "from torchsummary import summary \n",
        "from tqdm import tqdm\n",
        "torch.cuda.empty_cache()\n",
        "torch.backends.cudnn.enabled = True\n",
        "torch.backends.cudnn.benchmark = True\n",
        "\n",
        "### MODEL - 1 3d Convnet \n",
        "hidden = lambda c_in, c_out: Sequential(\n",
        "    Conv2d(c_in, c_out, (3,3), padding=(1,1)),\n",
        "    BatchNorm2d(c_out),\n",
        "    ReLU(),\n",
        "    MaxPool2d(1)\n",
        "    )\n",
        "hidden_2 = lambda c_in, c_out: Sequential(\n",
        "    Conv2d(c_in, c_out, (3,3),padding=(1,1)),\n",
        "    BatchNorm2d(c_out),\n",
        "    ReLU(),\n",
        "    MaxPool2d(1)\n",
        "    )\n",
        "Hidden = lambda c_in, c_out: Sequential(\n",
        "    Conv2d(c_in, c_out, (1,1)),\n",
        "    BatchNorm2d(c_out),\n",
        "    ReLU(),\n",
        "    MaxPool2d(1)\n",
        "    )\n",
        "\n",
        "class convnet_2D(Module):\n",
        "    '''Class for the Model to be fitted on MRI data'''\n",
        "    def __init__(self, c):\n",
        "        '''Intiallizing the layers of the Model'''\n",
        "        super(convnet_2D, self).__init__();\n",
        "        self.hidden1 = hidden(1,4*c);\n",
        "        self.hidden2 = hidden(4*c,8*c);\n",
        "        self.hidden3 = hidden(8*c,16*c);\n",
        "        self.hidden4 = hidden(16*c,8*c);\n",
        "        self.hidden5 = hidden(8*c, 16*c);\n",
        "        self.hidden6 = hidden_2(16*c,8*c);\n",
        "        self.hidden7 = Hidden(8*c,1);\n",
        "    def forward(self, x):\n",
        "        '''Implements the forward pass of the Network'''\n",
        "        x = self.hidden1(x)\n",
        "        x = self.hidden2(x)\n",
        "        x = self.hidden3(x)\n",
        "        x = self.hidden4(x)\n",
        "        x = self.hidden5(x)\n",
        "        x = self.hidden6(x)\n",
        "        x = self.hidden7(x)\n",
        "        return x  \n",
        "\n",
        "def train_model_3D(epochs,batch_size,x,y,channels=1):\n",
        "    '''\n",
        "    Params - Epochs, Batch Size, Data, Channels default = 1 \n",
        "    Result - Returns the predictions and train loss \n",
        "    '''\n",
        "    model = convnet_2D(channels).to(device)\n",
        "    summary(model,(1,91,109))\n",
        "    ctr = 0; train_loss = []; f_loss = []; predic = [];\n",
        "\n",
        "    ## Model criterion\n",
        "    lossFn = MSELoss(); opt = Adam(model.parameters(), lr=1e-5);\n",
        "    X = x.to(device); Y = y.to(device); model.train();\n",
        "\n",
        "    ## Loop around the model\n",
        "    for e in tqdm(range(0, epochs)):\n",
        "        # Batch Loss and Train Loss \n",
        "        batch_loss = []; train_loss = [];\n",
        "        # Permutation for the data\n",
        "        permutation = torch.randperm(X.size()[0])\n",
        "        ctr = ctr + 1;\n",
        "        ## Loop over batches \n",
        "        for i in range(0,X.size()[0], batch_size):\n",
        "            ## Intialize the optimizer\n",
        "            opt.zero_grad();\n",
        "            ## Setting up the indexes for batch\n",
        "            indices = permutation[i:i+batch_size];\n",
        "            batch_x, batch_y = X[indices], Y[indices];\n",
        "            ## Making prediction and Observing the loss\n",
        "            pred = model(batch_x) ; loss = lossFn(pred, batch_y);\n",
        "            ##  Update the loss using gradient descent\n",
        "            loss.backward(); opt.step();\n",
        "            ## Saving the loss on cpu rather than gpu to optimize memory\n",
        "            batch_loss.append(loss.cpu().detach().numpy()); \n",
        "            if ctr == epochs - 1 : predic.append(pred)\n",
        "            ## Deleting the batch variables to optimize memoery\n",
        "            del batch_x , batch_y; \n",
        "            ## Deleting the loss and the predictions made \n",
        "            del loss , pred;\n",
        "        train_loss.append(batch_loss);\n",
        "        ## Printing the verbose\n",
        "        if(e%25 == 0): \n",
        "            print(batch_loss[-1]); print((torch.cuda.memory_allocated())/(1024*1024))\n",
        "    ## Freeing up GPU memory\n",
        "    del X,Y;\n",
        "    return train_loss,predic"
      ],
      "metadata": {
        "colab": {
          "base_uri": "https://localhost:8080/"
        },
        "id": "7jIltbEHxk15",
        "outputId": "56680dcc-99cf-464f-810e-a5c11ebcfdde"
      },
      "execution_count": 54,
      "outputs": [
        {
          "output_type": "stream",
          "name": "stdout",
          "text": [
            "1.12.0+cu113\n",
            "True\n"
          ]
        }
      ]
    },
    {
      "cell_type": "code",
      "source": [
        "train, predict = train_model_3D(1500,4,x_1,y_1,75)"
      ],
      "metadata": {
        "id": "irEUQuIiyGeF"
      },
      "execution_count": null,
      "outputs": []
    },
    {
      "cell_type": "code",
      "source": [
        "x_first = predictions[0][0]\n",
        "y_first = y.cpu().detach().numpy()\n",
        "pred_np = x_first.cpu().detach().numpy()\n",
        "dl.print_data_dimension(pred_np); print(type(pred_np))\n",
        "dl.print_data_dimension(y_first); print(type(y_first))\n",
        "\n",
        "plt.imshow(pred_np[0,:,:],cmap = 'gray'); plt.show();\n",
        "plt.imshow(y_first[0][0,:,:],cmap = 'gray'); plt.show();\n",
        "# for i in predict:\n",
        "#      plt.imshow(i[:,:],cmap = 'gray')\n",
        "#      plt.show()"
      ],
      "metadata": {
        "colab": {
          "base_uri": "https://localhost:8080/",
          "height": 590
        },
        "id": "OzKjSMRdzbpG",
        "outputId": "1c1694bd-a356-4565-ed4a-3c076f1c3d74"
      },
      "execution_count": 28,
      "outputs": [
        {
          "output_type": "stream",
          "name": "stdout",
          "text": [
            "(1, 91, 109)\n",
            "<class 'numpy.ndarray'>\n",
            "(10, 1, 91, 109)\n",
            "<class 'numpy.ndarray'>\n"
          ]
        },
        {
          "output_type": "display_data",
          "data": {
            "text/plain": [
              "<Figure size 432x288 with 1 Axes>"
            ],
            "image/png": "[encoded data removed]"
          },
          "metadata": {
            "needs_background": "light"
          }
        },
        {
          "output_type": "display_data",
          "data": {
            "text/plain": [
              "<Figure size 432x288 with 1 Axes>"
            ],
            "image/png": "[encoded data removed]"
          },
          "metadata": {
            "needs_background": "light"
          }
        }
      ]
    }
  ]
}