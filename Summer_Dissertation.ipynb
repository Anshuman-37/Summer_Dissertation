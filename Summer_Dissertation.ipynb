{
  "nbformat": 4,
  "nbformat_minor": 0,
  "metadata": {
    "colab": {
      "name": "Summer_Dissertation.ipynb",
      "provenance": [],
      "machine_shape": "hm",
      "authorship_tag": "ABX9TyM64qVjFliRat2fAA2VUsfS",
      "include_colab_link": true
    },
    "kernelspec": {
      "name": "python3",
      "display_name": "Python 3"
    },
    "language_info": {
      "name": "python"
    },
    "accelerator": "GPU",
    "gpuClass": "standard"
  },
  "cells": [
    {
      "cell_type": "markdown",
      "metadata": {
        "id": "view-in-github",
        "colab_type": "text"
      },
      "source": [
        "<a href=\"https://colab.research.google.com/github/Anshuman-37/Summer_Dissertation/blob/main/Summer_Dissertation.ipynb\" target=\"_parent\"><img src=\"https://colab.research.google.com/assets/colab-badge.svg\" alt=\"Open In Colab\"/></a>"
      ]
    },
    {
      "cell_type": "markdown",
      "source": [
        "### Prerequisites "
      ],
      "metadata": {
        "id": "v65d0HQdUmgQ"
      }
    },
    {
      "cell_type": "code",
      "execution_count": null,
      "metadata": {
        "id": "kgmFd3fhUO8A"
      },
      "outputs": [],
      "source": [
        "# Upload the zip file and then unzip it\n",
        "# unzipping the file in the directory \n",
        "!unzip /content/Raw\\ Files.zip -d /content/\n",
        "!unzip /content/Baseline.zip -d /content/"
      ]
    },
    {
      "cell_type": "markdown",
      "source": [
        "### Installing Libraries"
      ],
      "metadata": {
        "id": "wvl6QPt6Umoc"
      }
    },
    {
      "cell_type": "code",
      "source": [
        "# Install nibabel\n",
        "!pip install nibabel"
      ],
      "metadata": {
        "colab": {
          "base_uri": "https://localhost:8080/"
        },
        "id": "eZYKydviUmGH",
        "outputId": "32f83ac1-2df4-4884-8c4c-ae7351fd9425"
      },
      "execution_count": 114,
      "outputs": [
        {
          "output_type": "stream",
          "name": "stdout",
          "text": [
            "Looking in indexes: https://pypi.org/simple, https://us-python.pkg.dev/colab-wheels/public/simple/\n",
            "Requirement already satisfied: nibabel in /usr/local/lib/python3.7/dist-packages (3.0.2)\n",
            "Requirement already satisfied: numpy>=1.12 in /usr/local/lib/python3.7/dist-packages (from nibabel) (1.21.6)\n"
          ]
        }
      ]
    },
    {
      "cell_type": "markdown",
      "source": [
        "### Importing Files "
      ],
      "metadata": {
        "id": "KR9SgttLUrqB"
      }
    },
    {
      "cell_type": "code",
      "source": [
        "## importing libraries \n",
        "import os\n",
        "import re\n",
        "import nibabel as nib\n",
        "import numpy as np\n",
        "import tensorflow as tf\n",
        "import matplotlib.pyplot as plt\n",
        "plt.rcParams[\"figure.figsize\"] = (20,5)\n"
      ],
      "metadata": {
        "id": "Y6YbyNa7XlZL"
      },
      "execution_count": 115,
      "outputs": []
    },
    {
      "cell_type": "markdown",
      "source": [
        "### Code"
      ],
      "metadata": {
        "id": "GiyjwEXtXl_I"
      }
    },
    {
      "cell_type": "markdown",
      "source": [
        "### Reading the Data"
      ],
      "metadata": {
        "id": "MsunshWfGnCl"
      }
    },
    {
      "cell_type": "markdown",
      "source": [
        "##### Getting path of data"
      ],
      "metadata": {
        "id": "LgPb9y7XGwjm"
      }
    },
    {
      "cell_type": "code",
      "source": [
        "## Go in to the directories\n",
        "## Extracting only important data using Regex\n",
        "path = '/content/Raw Files/Raw_nii_files_for_MC_pCASL_T1_B0_M0/'\n",
        "regex = re.compile(r'__MPR.*') ; fileRegex1 = re.compile(r'(WIP)*T13D'); mri_data_path = []; \n",
        "\n",
        "# Iterating over Directories \n",
        "for subdir, dirs, files in os.walk(path):\n",
        "    for file in files:\n",
        "        # Storing the path of Data\n",
        "        if regex.search(file) == None:\n",
        "            if fileRegex1.search(file): mri_data_path.append(os.path.join(subdir, file));\n",
        "# Printing the path of Data\n",
        "for i in Data_path: print(i); "
      ],
      "metadata": {
        "colab": {
          "base_uri": "https://localhost:8080/"
        },
        "id": "BukdfqflVbnX",
        "outputId": "9699eb2d-b2dd-41ea-ff42-20da68795c04"
      },
      "execution_count": 135,
      "outputs": [
        {
          "output_type": "stream",
          "name": "stdout",
          "text": [
            "/content/Raw Files/Raw_nii_files_for_MC_pCASL_T1_B0_M0/1277547 dicom/__WIP_MPRAGE_T13D_SENSE_20150430160250_401.nii\n",
            "/content/Raw Files/Raw_nii_files_for_MC_pCASL_T1_B0_M0/1320961 dicom/__WIP_MPRAGE_T13D_SENSE_20160115152740_301.nii\n",
            "/content/Raw Files/Raw_nii_files_for_MC_pCASL_T1_B0_M0/1335478 dicom/__WIP_MPRAGE_T13D_SENSE_20160407112645_401.nii\n",
            "/content/Raw Files/Raw_nii_files_for_MC_pCASL_T1_B0_M0/1289317 dicom/__WIP_MPRAGE_T13D_SENSE_20150710135121_401.nii\n",
            "/content/Raw Files/Raw_nii_files_for_MC_pCASL_T1_B0_M0/1291194 dicom/__WIP_MPRAGE_T13D_SENSE_20150724132211_401.nii\n",
            "/content/Raw Files/Raw_nii_files_for_MC_pCASL_T1_B0_M0/1327832 dicom/__WIP_MPRAGE_T13D_SENSE_20160222133236_301.nii\n"
          ]
        }
      ]
    },
    {
      "cell_type": "markdown",
      "source": [
        "##### Loading data using nibabel"
      ],
      "metadata": {
        "id": "4ZknomRiG5-q"
      }
    },
    {
      "cell_type": "code",
      "source": [
        "mri_images = []\n",
        "\n",
        "# Loading data in the image vector\n",
        "for i in mri_data_path: mri_images.append(nib.load(i)); \n",
        "\n",
        "# Printing the shape of images stored and its data type\n",
        "for i in mri_images: print('Image shape ->',i.shape,end = '\\t'); print('Image Data Type ->',i.get_data_dtype());"
      ],
      "metadata": {
        "colab": {
          "base_uri": "https://localhost:8080/"
        },
        "id": "j7VUVypHG5ak",
        "outputId": "f7beae0a-d4e1-4cf9-9b51-f776c9f8620f"
      },
      "execution_count": 136,
      "outputs": [
        {
          "output_type": "stream",
          "name": "stdout",
          "text": [
            "Image shape -> (288, 288, 180)\tImage Data Type -> int16\n",
            "Image shape -> (288, 288, 180)\tImage Data Type -> int16\n",
            "Image shape -> (288, 288, 180)\tImage Data Type -> int16\n",
            "Image shape -> (288, 288, 180)\tImage Data Type -> int16\n",
            "Image shape -> (288, 288, 180)\tImage Data Type -> int16\n",
            "Image shape -> (288, 288, 180)\tImage Data Type -> int16\n"
          ]
        }
      ]
    },
    {
      "cell_type": "markdown",
      "source": [
        "###### Discussions -\n",
        "\n",
        "1. - The Data that is loaded right now is our X(Attribute) and Y should be our ASL Measured Data\n",
        "2. - The nii files are a 3D tensor with some values ranging between 0-400k (IDK what it is but we need to ask her in the next meeting)\n",
        "\n",
        "\n",
        "###### Things we do next -\n",
        "1. - Try to normalize the Values of X first\n",
        "2. - Understanding Y (ASL data) is next\n",
        "3. - We write a model for using X to predict Y\n",
        "\n"
      ],
      "metadata": {
        "id": "cJ0WMw35NP6v"
      }
    },
    {
      "cell_type": "markdown",
      "source": [
        "###### Data Analysis "
      ],
      "metadata": {
        "id": "fFMaYWuHvMOq"
      }
    },
    {
      "cell_type": "code",
      "source": [
        "## Reading the Data\n",
        "img = mri_images[0]\n",
        "a = np.array(img.dataobj)\n",
        "## Use to check whether there is anything there or not\n",
        "# print(a)\n",
        "# Getting maximum values from the np array\n",
        "a_max = np.amax(a); a_min = np.amin(a);\n",
        "print(a_max); print(a_min);  # To ask where this maximum value comming from"
      ],
      "metadata": {
        "colab": {
          "base_uri": "https://localhost:8080/"
        },
        "id": "1fzBs5LiATZZ",
        "outputId": "da422148-c18e-43d9-df62-6cce94edc3ef"
      },
      "execution_count": 137,
      "outputs": [
        {
          "output_type": "stream",
          "name": "stdout",
          "text": [
            "397054.06677246094\n",
            "0.0\n"
          ]
        }
      ]
    },
    {
      "cell_type": "code",
      "source": [
        "# Just checking the time taken to iterate over\n",
        "%timeit np.amin(a); \n",
        "%timeit np.amax(a); "
      ],
      "metadata": {
        "colab": {
          "base_uri": "https://localhost:8080/"
        },
        "id": "5ez2TpU-nHFY",
        "outputId": "14e6b3cc-ef9a-425a-a1fd-e0ca53aa58dd"
      },
      "execution_count": 138,
      "outputs": [
        {
          "output_type": "stream",
          "name": "stdout",
          "text": [
            "100 loops, best of 5: 9.76 ms per loop\n",
            "100 loops, best of 5: 9.76 ms per loop\n"
          ]
        }
      ]
    },
    {
      "cell_type": "code",
      "source": [
        "## Min max noramalization\n",
        "a[:,:,:] = (a - a.min()) / (a.max() - a.min())"
      ],
      "metadata": {
        "id": "kzFDxdNqnsIZ"
      },
      "execution_count": 139,
      "outputs": []
    },
    {
      "cell_type": "code",
      "source": [
        "# Normalized\n",
        "a_max = np.amax(a); a_min = np.amin(a);\n",
        "print(a_max); print(a_min);\n",
        "\n",
        "# Unique counts \n",
        "unique, counts = np.unique(a, return_counts=True)\n",
        "freq_counts = np.vstack(( unique, counts)).T\n",
        "print(freq_counts)\n",
        "\n",
        "## Uncomment to plot the graph\n",
        "# fig = plt.figure()\n",
        "# ax = fig.add_axes([0,0,1,1])\n",
        "# ax.bar(unique,counts)\n",
        "# # Most of the normalized values lies at less than <0.40 of maximum \n",
        "# # There is a lot of data imbalance  \n",
        "# plt.show()"
      ],
      "metadata": {
        "id": "cIH1B4vsoDW7"
      },
      "execution_count": null,
      "outputs": []
    },
    {
      "cell_type": "markdown",
      "source": [
        "###### Discussions -\n",
        "\n",
        "1. - There is a huge unique data imbalance most of the values after noramzalization are below 40% of maximum value.\n",
        "\n",
        "###### Things we do next -\n",
        "1. - Load Y\n",
        "2. - Understanding Y ASL data\n",
        "3. - Normalizing Y"
      ],
      "metadata": {
        "id": "O-gdtGQGvxSy"
      }
    },
    {
      "cell_type": "markdown",
      "source": [
        "###### Reading the Target Data (ASL)"
      ],
      "metadata": {
        "id": "o-6w7iBOr_Nj"
      }
    },
    {
      "cell_type": "code",
      "source": [
        "# Getting the path for ASL files\n",
        "asl_path = '/content/Baseline/'\n",
        "asl_data_path = []\n",
        "\n",
        "# Iterating over directories\n",
        "for subdir, dirs, files in os.walk(asl_path):\n",
        "    # Selecting the ASL file\n",
        "    for file in files:\n",
        "        if file == 'asldata.nii': asl_data_path.append(os.path.join(subdir, file));\n",
        "\n",
        "# Printing the path of ASL images\n",
        "for i in asl_data_path: print(i);\n"
      ],
      "metadata": {
        "colab": {
          "base_uri": "https://localhost:8080/"
        },
        "id": "lgPPGY2opO4f",
        "outputId": "25dbe6b1-9f88-43b3-e1e3-6034272c44bc"
      },
      "execution_count": 141,
      "outputs": [
        {
          "output_type": "stream",
          "name": "stdout",
          "text": [
            "/content/Baseline/1277547 dicom/analysis/asldata.nii\n",
            "/content/Baseline/1320961 dicom/analysis/asldata.nii\n",
            "/content/Baseline/1289317 dicom/analysis/asldata.nii\n",
            "/content/Baseline/1291194 dicom/analysis/asldata.nii\n",
            "/content/Baseline/1259089 dicom/sub0001/asldata.nii\n",
            "/content/Baseline/1327832 dicom/analysis/asldata.nii\n"
          ]
        }
      ]
    },
    {
      "cell_type": "code",
      "source": [
        "asl_images = []\n",
        "\n",
        "# Loading data in the image vector\n",
        "for i in asl_data_path: asl_images.append(nib.load(i)); \n",
        "\n",
        "# Printing the shape of images stored and its data type\n",
        "for i in asl_images: print('Image shape ->',i.shape,end = '\\t'); print('Image Data Type ->',i.get_data_dtype());"
      ],
      "metadata": {
        "colab": {
          "base_uri": "https://localhost:8080/"
        },
        "id": "bFKwifLEu350",
        "outputId": "05bcd8f3-f2b5-4246-bd0a-6475890569df"
      },
      "execution_count": 142,
      "outputs": [
        {
          "output_type": "stream",
          "name": "stdout",
          "text": [
            "Image shape -> (80, 80, 13, 60)\tImage Data Type -> int16\n",
            "Image shape -> (80, 80, 13, 60)\tImage Data Type -> int16\n",
            "Image shape -> (80, 80, 13, 60)\tImage Data Type -> int16\n",
            "Image shape -> (80, 80, 13, 60)\tImage Data Type -> int16\n",
            "Image shape -> (80, 80, 13, 60)\tImage Data Type -> int16\n",
            "Image shape -> (80, 80, 13, 60)\tImage Data Type -> int16\n"
          ]
        }
      ]
    },
    {
      "cell_type": "markdown",
      "source": [
        "##### EDA and Normalization of ASL DATA"
      ],
      "metadata": {
        "id": "mnL8r-9CvmPI"
      }
    },
    {
      "cell_type": "code",
      "source": [
        "## Reading the Data\n",
        "img = asl_images[0]\n",
        "a = np.array(img.dataobj)\n",
        "## Use to check whether there is anything there or not\n",
        "# print(a)\n",
        "# Getting maximum values from the np array\n",
        "a_max = np.amax(a); a_min = np.amin(a);\n",
        "print(a_max); print(a_min); "
      ],
      "metadata": {
        "colab": {
          "base_uri": "https://localhost:8080/"
        },
        "id": "DFaRt_lWvkN0",
        "outputId": "46334743-1c8b-4042-d903-bea08df65058"
      },
      "execution_count": 143,
      "outputs": [
        {
          "output_type": "stream",
          "name": "stdout",
          "text": [
            "868295.3192138672\n",
            "0.0\n"
          ]
        }
      ]
    },
    {
      "cell_type": "code",
      "source": [
        "# Just checking the time taken to iterate over\n",
        "%timeit np.amin(a); \n",
        "%timeit np.amax(a); "
      ],
      "metadata": {
        "colab": {
          "base_uri": "https://localhost:8080/"
        },
        "id": "mXa_2E8HwYpo",
        "outputId": "040197c2-f20c-4ac0-ad6f-73bfbe979b4d"
      },
      "execution_count": 144,
      "outputs": [
        {
          "output_type": "stream",
          "name": "stdout",
          "text": [
            "100 loops, best of 5: 2.48 ms per loop\n",
            "100 loops, best of 5: 2.41 ms per loop\n"
          ]
        }
      ]
    },
    {
      "cell_type": "code",
      "source": [
        "## Min max noramalization\n",
        "a[:,:,:] = (a - a.min()) / (a.max() - a.min())"
      ],
      "metadata": {
        "id": "0Nct8JauwdUK"
      },
      "execution_count": 145,
      "outputs": []
    },
    {
      "cell_type": "code",
      "source": [
        "# Normalized\n",
        "a_max = np.amax(a); a_min = np.amin(a);\n",
        "print(a_max); print(a_min);\n",
        "\n",
        "# Unique counts \n",
        "unique, counts = np.unique(a, return_counts=True)\n",
        "freq_counts = np.vstack(( unique, counts)).T\n",
        "print(freq_counts)\n",
        "\n",
        "\n",
        "# # Uncomment to plot the graph\n",
        "# fig = plt.figure()\n",
        "# ax = fig.add_axes([0,0,1,1])\n",
        "# ax.bar(unique,counts)\n",
        "# # Most of the normalized values lies at less than <0.40 of maximum \n",
        "# # There is a lot of data imbalance  \n",
        "# plt.show()"
      ],
      "metadata": {
        "id": "-TqL8tJ8wgCY"
      },
      "execution_count": null,
      "outputs": []
    },
    {
      "cell_type": "markdown",
      "source": [
        "###### Discussions -\n",
        "\n",
        "1. - The values of ASL are kind of similar after the min max normalization. This means we can train a model and get good results. \n",
        "\n",
        "###### Things we do next -\n",
        "1. - Try to make the data a bit more better \n",
        "2. - Understanding X and Y even better\n",
        "3. - Trying to make things a notch simpler"
      ],
      "metadata": {
        "id": "rPdTrn9zwu8k"
      }
    },
    {
      "cell_type": "code",
      "source": [
        ""
      ],
      "metadata": {
        "id": "P2ovprvyxEeV"
      },
      "execution_count": null,
      "outputs": []
    }
  ]
}