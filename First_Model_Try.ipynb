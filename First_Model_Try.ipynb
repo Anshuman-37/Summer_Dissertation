{
  "nbformat": 4,
  "nbformat_minor": 0,
  "metadata": {
    "colab": {
      "name": "First_Model_Try.ipynb",
      "provenance": [],
      "machine_shape": "hm",
      "authorship_tag": "ABX9TyMDdCJdyejxgw7a6UpO6YB8",
      "include_colab_link": true
    },
    "kernelspec": {
      "name": "python3",
      "display_name": "Python 3"
    },
    "language_info": {
      "name": "python"
    },
    "accelerator": "GPU",
    "gpuClass": "standard"
  },
  "cells": [
    {
      "cell_type": "markdown",
      "metadata": {
        "id": "view-in-github",
        "colab_type": "text"
      },
      "source": [
        "<a href=\"https://colab.research.google.com/github/Anshuman-37/Summer_Dissertation/blob/main/First_Model_Try.ipynb\" target=\"_parent\"><img src=\"https://colab.research.google.com/assets/colab-badge.svg\" alt=\"Open In Colab\"/></a>"
      ]
    },
    {
      "cell_type": "markdown",
      "source": [
        "##### Import Files"
      ],
      "metadata": {
        "id": "1tE9eg1_F-KH"
      }
    },
    {
      "cell_type": "code",
      "source": [
        "import os\n",
        "import re\n",
        "import nibabel as nib\n",
        "import numpy as np\n",
        "import torch\n",
        "print(torch.__version__)\n",
        "torch.cuda.is_available()\n",
        "\n",
        "import torch\n",
        "from torch.autograd import Variable\n",
        "from torch.nn import Linear, ReLU, CrossEntropyLoss, Sequential, LazyConv3d , MaxPool3d, Module, Softmax, BatchNorm3d, Dropout\n",
        "from torch.optim import Adam, SGD"
      ],
      "metadata": {
        "id": "FduCcoF7GBQX",
        "colab": {
          "base_uri": "https://localhost:8080/"
        },
        "outputId": "6856e3a9-de1e-403f-ad0f-a1e95a2bc05c"
      },
      "execution_count": 1,
      "outputs": [
        {
          "output_type": "stream",
          "name": "stdout",
          "text": [
            "1.11.0+cu113\n"
          ]
        }
      ]
    },
    {
      "cell_type": "markdown",
      "source": [
        "##### DATA LOADING"
      ],
      "metadata": {
        "id": "we98TzSsF1mF"
      }
    },
    {
      "cell_type": "code",
      "execution_count": null,
      "metadata": {
        "id": "rcdcHnqqE7-Y"
      },
      "outputs": [],
      "source": [
        "!unzip /content/Raw\\ Files.zip -d /content/\n",
        "!unzip /content/Baseline.zip -d /content/"
      ]
    },
    {
      "cell_type": "markdown",
      "source": [
        "###### Data"
      ],
      "metadata": {
        "id": "zzCIspW6GNSm"
      }
    },
    {
      "cell_type": "code",
      "source": [
        "def mri_data_path(path_mri):\n",
        "    '''Returns a list containing the path of MRI DATA'''\n",
        "    path = path_mri;\n",
        "    regex = re.compile(r'__MPR.*') ; fileRegex1 = re.compile(r'(WIP)*T13D'); mri_data_path = []; \n",
        "\n",
        "    # Iterating over Directories \n",
        "    for subdir, dirs, files in os.walk(path):\n",
        "        for file in files:\n",
        "            # Storing the path of Data\n",
        "            if regex.search(file) == None:\n",
        "                if fileRegex1.search(file): mri_data_path.append(os.path.join(subdir, file));\n",
        "    return mri_data_path;\n",
        "\n",
        "def asl_data_path(path_asl):\n",
        "    '''Returns a list containing the path of ASL DATA'''\n",
        "    asl_path = path_asl \n",
        "    asl_regex = re.compile(r'oxasl_dist.*'); asl_data_path = [];\n",
        "    # Iterating over directories\n",
        "    for subdir, dirs, files in os.walk(asl_path):\n",
        "        # Selecting the ASL file\n",
        "        for file in files:\n",
        "            if file == 'perfusion_calib.img':\n",
        "                if asl_regex.search(subdir): \n",
        "                    asl_data_path.append(os.path.join(subdir, file));\n",
        "    return asl_data_path;\n",
        "\n",
        "def create_data_dict(mri_data_path,asl_data_path): \n",
        "    '''To create a Dictionary of MRI_data and ASL_data'''\n",
        "    mri_map = {}; asl_map = {};\n",
        "    ## Iterating over the mri data's path\n",
        "    for i in mri_data_path:\n",
        "    ## Value is our path i.e. stored and key is the patient number\n",
        "        value = i; key = i.split('/')[4].split(' ')[0]; mri_map[key] = value;\n",
        "    ## Iterating over the mri data's path\n",
        "    for i in asl_data_path:\n",
        "        ## Value is our path i.e. stored and key is the patient number\n",
        "        value = i; key = i.split('/')[3].split(' ')[0];asl_map[key] = value;\n",
        "\n",
        "    return mri_map,asl_map;\n",
        "\n",
        "def create_tensors(mri_data_dict,asl_data_dict):\n",
        "    '''Creates tensors from the data dictionary feeded'''\n",
        "    x = [] ; y = [];\n",
        "    for k,v in mri_data_dict.items():\n",
        "        if k in asl_data_dict:\n",
        "            # Loading the MRI image from the path in the train x path \n",
        "            mri_img = nib.load(v); \n",
        "            # Making it a numpy array\n",
        "            mri_vec = np.array(mri_img.dataobj)[:,:,:,np.newaxis] # Channels x Length X Breadth X Slices of Brain\n",
        "            # Min max Normalizing the image \n",
        "            mri_vec = (mri_vec - mri_vec.min()) / (mri_vec.max() - mri_vec.min())\n",
        "            # Appending the MRI image to X \n",
        "            x.append(torch.as_tensor(mri_vec,dtype=torch.float32)); \n",
        "            ## Finding the same patient with ASL data \n",
        "            asl_img = nib.load(asl_map[k]); asl_vec = np.array(asl_img.dataobj)[:,:,:,np.newaxis,]; \n",
        "            asl_vec = (asl_vec - asl_vec.min()) / (asl_vec.max() - asl_vec.min());\n",
        "            ## Appending the image to y\n",
        "            y.append(torch.as_tensor(asl_vec,dtype=torch.float32))\n",
        "    return x,y\n",
        "\n",
        "def print_data_shape(data):\n",
        "    '''Prints the shape of data'''\n",
        "    for i in data: print(i.shape);\n",
        "\n",
        "def tensor_stats(tensor_array):\n",
        "    '''Prints some statistics about the tensors'''\n",
        "    for i in tensor_array:\n",
        "        print(i.sum(), i.prod(), i.mean(), i.std());\n",
        "    \n",
        "def data_loader(path_mri,path_asl):\n",
        "    '''This function will return us the mri and asl data in dictionary format'''\n",
        "    ## Getting path of all MRI data stored and ASL data stored\n",
        "    mri_data = mri_data_path(path_mri); asl_data = asl_data_path(path_asl);\n",
        "    ## Making dict of MRI data for which ASL data exists\n",
        "    mri_data_dict , asl_data_dict = create_data_dict(mri_data,asl_data);\n",
        "    x , y = create_tensors(mri_data_dict,asl_data_dict);\n",
        "    return x,y\n",
        "\n",
        "\n",
        "path_mri = '/content/Raw Files/Raw_nii_files_for_MC_pCASL_T1_B0_M0/' ; path_asl = '/content/Baseline/';\n",
        "x,y = data_loader(path_mri,path_asl)\n",
        "print('Shape of MRI data - > ');print_data_shape(x); \n",
        "print('\\nShape of ASL data - >' );print_data_shape(y);\n",
        "print('\\nStats for MRI data(X) - >' );tensor_stats(x); \n",
        "print('\\nStats for ASL data(X) - >' );tensor_stats(y);\n",
        "\n",
        "       "
      ],
      "metadata": {
        "colab": {
          "base_uri": "https://localhost:8080/"
        },
        "id": "nbYN-yAMLNe4",
        "outputId": "f5eca2f2-c2c8-4f97-fad2-777cb66658ed"
      },
      "execution_count": 90,
      "outputs": [
        {
          "output_type": "stream",
          "name": "stdout",
          "text": [
            "Shape of MRI data - > \n",
            "torch.Size([288, 288, 180, 1])\n",
            "torch.Size([288, 288, 180, 1])\n",
            "torch.Size([288, 288, 180, 1])\n",
            "torch.Size([288, 288, 180, 1])\n",
            "\n",
            "Shape of ASL data - >\n",
            "torch.Size([80, 80, 13, 1])\n",
            "torch.Size([80, 80, 13, 1])\n",
            "torch.Size([80, 80, 13, 1])\n",
            "torch.Size([80, 80, 13, 1])\n",
            "\n",
            "Stats for MRI data(X) - >\n",
            "tensor(1135785.3750) tensor(0.) tensor(0.0761) tensor(0.1223)\n",
            "tensor(882671.6250) tensor(0.) tensor(0.0591) tensor(0.1196)\n",
            "tensor(632351.7500) tensor(0.) tensor(0.0424) tensor(0.0786)\n",
            "tensor(1256233.) tensor(0.) tensor(0.0841) tensor(0.1339)\n",
            "\n",
            "Stats for ASL data(X) - >\n",
            "tensor(4592.5898) tensor(0.) tensor(0.0552) tensor(0.1219)\n",
            "tensor(6011.9717) tensor(0.) tensor(0.0723) tensor(0.1663)\n",
            "tensor(4914.8418) tensor(0.) tensor(0.0591) tensor(0.1360)\n",
            "tensor(5888.7588) tensor(0.) tensor(0.0708) tensor(0.1548)\n"
          ]
        }
      ]
    },
    {
      "cell_type": "markdown",
      "source": [
        "#### Model"
      ],
      "metadata": {
        "id": "9fK_knNYLaAu"
      }
    },
    {
      "cell_type": "code",
      "source": [
        "## Go with Lazy 3D convs LAZYCONV3Dw\n",
        "\n",
        "## The loss function to get the result\n",
        "class Normal_3D_cnn(Module):   \n",
        "    \n",
        "    def __init__(self):\n",
        "        super(Normal_3D_cnn, self).__init__()\n",
        "        \n",
        "        self.cnn_layers = Sequential(\n",
        "            # Defining a 3D convolution layer\n",
        "            LazyConv3d(1, kernel_size= 3, stride=1, padding=1),\n",
        "            BatchNorm3d(1),\n",
        "            ReLU(inplace=True),\n",
        "            MaxPool3d(kernel_size=2, stride=2),\n",
        "            # # Defining another 3D convolution layer\n",
        "            # LazyConv3d(1,kernel_size=3, stride=1, padding=1),\n",
        "            # BatchNorm3d(1),\n",
        "            # ReLU(inplace=True),\n",
        "            # MaxPool3d(kernel_size=2, stride=2),\n",
        "        )\n",
        "    def forward(self, x):\n",
        "        x = self.cnn_layers(x)\n",
        "        return x\n",
        "\n",
        "model = Normal_3D_cnn()\n",
        "print(model)\n",
        "optimizer = Adam(model.parameters(), lr=0.07)\n",
        "\n",
        "def train():\n",
        "    model.train()\n",
        "    optimizer.zero_grad()\n",
        "    y_p = model(x[0])\n",
        "    loss = mse(y[0],y_p)\n",
        "    return loss, y_p\n",
        "\n",
        "loss,y_p = train()\n",
        "print(loss,y_p.shape)\n"
      ],
      "metadata": {
        "colab": {
          "base_uri": "https://localhost:8080/",
          "height": 570
        },
        "id": "cxPoxbIGXuBh",
        "outputId": "cadeee19-93e8-48c1-e542-adaaf3362e9e"
      },
      "execution_count": 32,
      "outputs": [
        {
          "output_type": "stream",
          "name": "stderr",
          "text": [
            "/usr/local/lib/python3.7/dist-packages/torch/nn/modules/lazy.py:178: UserWarning: Lazy modules are a new feature under heavy development so changes to the API or functionality can happen at any moment.\n",
            "  warnings.warn('Lazy modules are a new feature under heavy development '\n"
          ]
        },
        {
          "output_type": "stream",
          "name": "stdout",
          "text": [
            "Normal_3D_cnn(\n",
            "  (cnn_layers): Sequential(\n",
            "    (0): LazyConv3d(0, 1, kernel_size=(3, 3, 3), stride=(1, 1, 1), padding=(1, 1, 1))\n",
            "    (1): BatchNorm3d(1, eps=1e-05, momentum=0.1, affine=True, track_running_stats=True)\n",
            "    (2): ReLU(inplace=True)\n",
            "    (3): MaxPool3d(kernel_size=2, stride=2, padding=0, dilation=1, ceil_mode=False)\n",
            "  )\n",
            ")\n"
          ]
        },
        {
          "output_type": "error",
          "ename": "ValueError",
          "evalue": "ignored",
          "traceback": [
            "\u001b[0;31m---------------------------------------------------------------------------\u001b[0m",
            "\u001b[0;31mValueError\u001b[0m                                Traceback (most recent call last)",
            "\u001b[0;32m<ipython-input-32-2f0432878bca>\u001b[0m in \u001b[0;36m<module>\u001b[0;34m()\u001b[0m\n\u001b[1;32m     34\u001b[0m     \u001b[0;32mreturn\u001b[0m \u001b[0mloss\u001b[0m\u001b[0;34m,\u001b[0m \u001b[0my_p\u001b[0m\u001b[0;34m\u001b[0m\u001b[0;34m\u001b[0m\u001b[0m\n\u001b[1;32m     35\u001b[0m \u001b[0;34m\u001b[0m\u001b[0m\n\u001b[0;32m---> 36\u001b[0;31m \u001b[0mloss\u001b[0m\u001b[0;34m,\u001b[0m\u001b[0my_p\u001b[0m \u001b[0;34m=\u001b[0m \u001b[0mtrain\u001b[0m\u001b[0;34m(\u001b[0m\u001b[0;34m)\u001b[0m\u001b[0;34m\u001b[0m\u001b[0;34m\u001b[0m\u001b[0m\n\u001b[0m\u001b[1;32m     37\u001b[0m \u001b[0mprint\u001b[0m\u001b[0;34m(\u001b[0m\u001b[0mloss\u001b[0m\u001b[0;34m,\u001b[0m\u001b[0my_p\u001b[0m\u001b[0;34m.\u001b[0m\u001b[0mshape\u001b[0m\u001b[0;34m)\u001b[0m\u001b[0;34m\u001b[0m\u001b[0;34m\u001b[0m\u001b[0m\n",
            "\u001b[0;32m<ipython-input-32-2f0432878bca>\u001b[0m in \u001b[0;36mtrain\u001b[0;34m()\u001b[0m\n\u001b[1;32m     30\u001b[0m     \u001b[0mmodel\u001b[0m\u001b[0;34m.\u001b[0m\u001b[0mtrain\u001b[0m\u001b[0;34m(\u001b[0m\u001b[0;34m)\u001b[0m\u001b[0;34m\u001b[0m\u001b[0;34m\u001b[0m\u001b[0m\n\u001b[1;32m     31\u001b[0m     \u001b[0moptimizer\u001b[0m\u001b[0;34m.\u001b[0m\u001b[0mzero_grad\u001b[0m\u001b[0;34m(\u001b[0m\u001b[0;34m)\u001b[0m\u001b[0;34m\u001b[0m\u001b[0;34m\u001b[0m\u001b[0m\n\u001b[0;32m---> 32\u001b[0;31m     \u001b[0my_p\u001b[0m \u001b[0;34m=\u001b[0m \u001b[0mmodel\u001b[0m\u001b[0;34m(\u001b[0m\u001b[0mx\u001b[0m\u001b[0;34m[\u001b[0m\u001b[0;36m0\u001b[0m\u001b[0;34m]\u001b[0m\u001b[0;34m)\u001b[0m\u001b[0;34m\u001b[0m\u001b[0;34m\u001b[0m\u001b[0m\n\u001b[0m\u001b[1;32m     33\u001b[0m     \u001b[0mloss\u001b[0m \u001b[0;34m=\u001b[0m \u001b[0mmse\u001b[0m\u001b[0;34m(\u001b[0m\u001b[0my\u001b[0m\u001b[0;34m[\u001b[0m\u001b[0;36m0\u001b[0m\u001b[0;34m]\u001b[0m\u001b[0;34m,\u001b[0m\u001b[0my_p\u001b[0m\u001b[0;34m)\u001b[0m\u001b[0;34m\u001b[0m\u001b[0;34m\u001b[0m\u001b[0m\n\u001b[1;32m     34\u001b[0m     \u001b[0;32mreturn\u001b[0m \u001b[0mloss\u001b[0m\u001b[0;34m,\u001b[0m \u001b[0my_p\u001b[0m\u001b[0;34m\u001b[0m\u001b[0;34m\u001b[0m\u001b[0m\n",
            "\u001b[0;32m/usr/local/lib/python3.7/dist-packages/torch/nn/modules/module.py\u001b[0m in \u001b[0;36m_call_impl\u001b[0;34m(self, *input, **kwargs)\u001b[0m\n\u001b[1;32m   1108\u001b[0m         if not (self._backward_hooks or self._forward_hooks or self._forward_pre_hooks or _global_backward_hooks\n\u001b[1;32m   1109\u001b[0m                 or _global_forward_hooks or _global_forward_pre_hooks):\n\u001b[0;32m-> 1110\u001b[0;31m             \u001b[0;32mreturn\u001b[0m \u001b[0mforward_call\u001b[0m\u001b[0;34m(\u001b[0m\u001b[0;34m*\u001b[0m\u001b[0minput\u001b[0m\u001b[0;34m,\u001b[0m \u001b[0;34m**\u001b[0m\u001b[0mkwargs\u001b[0m\u001b[0;34m)\u001b[0m\u001b[0;34m\u001b[0m\u001b[0;34m\u001b[0m\u001b[0m\n\u001b[0m\u001b[1;32m   1111\u001b[0m         \u001b[0;31m# Do not call functions when jit is used\u001b[0m\u001b[0;34m\u001b[0m\u001b[0;34m\u001b[0m\u001b[0;34m\u001b[0m\u001b[0m\n\u001b[1;32m   1112\u001b[0m         \u001b[0mfull_backward_hooks\u001b[0m\u001b[0;34m,\u001b[0m \u001b[0mnon_full_backward_hooks\u001b[0m \u001b[0;34m=\u001b[0m \u001b[0;34m[\u001b[0m\u001b[0;34m]\u001b[0m\u001b[0;34m,\u001b[0m \u001b[0;34m[\u001b[0m\u001b[0;34m]\u001b[0m\u001b[0;34m\u001b[0m\u001b[0;34m\u001b[0m\u001b[0m\n",
            "\u001b[0;32m<ipython-input-32-2f0432878bca>\u001b[0m in \u001b[0;36mforward\u001b[0;34m(self, x)\u001b[0m\n\u001b[1;32m     20\u001b[0m         )\n\u001b[1;32m     21\u001b[0m     \u001b[0;32mdef\u001b[0m \u001b[0mforward\u001b[0m\u001b[0;34m(\u001b[0m\u001b[0mself\u001b[0m\u001b[0;34m,\u001b[0m \u001b[0mx\u001b[0m\u001b[0;34m)\u001b[0m\u001b[0;34m:\u001b[0m\u001b[0;34m\u001b[0m\u001b[0;34m\u001b[0m\u001b[0m\n\u001b[0;32m---> 22\u001b[0;31m         \u001b[0mx\u001b[0m \u001b[0;34m=\u001b[0m \u001b[0mself\u001b[0m\u001b[0;34m.\u001b[0m\u001b[0mcnn_layers\u001b[0m\u001b[0;34m(\u001b[0m\u001b[0mx\u001b[0m\u001b[0;34m)\u001b[0m\u001b[0;34m\u001b[0m\u001b[0;34m\u001b[0m\u001b[0m\n\u001b[0m\u001b[1;32m     23\u001b[0m         \u001b[0;32mreturn\u001b[0m \u001b[0mx\u001b[0m\u001b[0;34m\u001b[0m\u001b[0;34m\u001b[0m\u001b[0m\n\u001b[1;32m     24\u001b[0m \u001b[0;34m\u001b[0m\u001b[0m\n",
            "\u001b[0;32m/usr/local/lib/python3.7/dist-packages/torch/nn/modules/module.py\u001b[0m in \u001b[0;36m_call_impl\u001b[0;34m(self, *input, **kwargs)\u001b[0m\n\u001b[1;32m   1108\u001b[0m         if not (self._backward_hooks or self._forward_hooks or self._forward_pre_hooks or _global_backward_hooks\n\u001b[1;32m   1109\u001b[0m                 or _global_forward_hooks or _global_forward_pre_hooks):\n\u001b[0;32m-> 1110\u001b[0;31m             \u001b[0;32mreturn\u001b[0m \u001b[0mforward_call\u001b[0m\u001b[0;34m(\u001b[0m\u001b[0;34m*\u001b[0m\u001b[0minput\u001b[0m\u001b[0;34m,\u001b[0m \u001b[0;34m**\u001b[0m\u001b[0mkwargs\u001b[0m\u001b[0;34m)\u001b[0m\u001b[0;34m\u001b[0m\u001b[0;34m\u001b[0m\u001b[0m\n\u001b[0m\u001b[1;32m   1111\u001b[0m         \u001b[0;31m# Do not call functions when jit is used\u001b[0m\u001b[0;34m\u001b[0m\u001b[0;34m\u001b[0m\u001b[0;34m\u001b[0m\u001b[0m\n\u001b[1;32m   1112\u001b[0m         \u001b[0mfull_backward_hooks\u001b[0m\u001b[0;34m,\u001b[0m \u001b[0mnon_full_backward_hooks\u001b[0m \u001b[0;34m=\u001b[0m \u001b[0;34m[\u001b[0m\u001b[0;34m]\u001b[0m\u001b[0;34m,\u001b[0m \u001b[0;34m[\u001b[0m\u001b[0;34m]\u001b[0m\u001b[0;34m\u001b[0m\u001b[0;34m\u001b[0m\u001b[0m\n",
            "\u001b[0;32m/usr/local/lib/python3.7/dist-packages/torch/nn/modules/container.py\u001b[0m in \u001b[0;36mforward\u001b[0;34m(self, input)\u001b[0m\n\u001b[1;32m    139\u001b[0m     \u001b[0;32mdef\u001b[0m \u001b[0mforward\u001b[0m\u001b[0;34m(\u001b[0m\u001b[0mself\u001b[0m\u001b[0;34m,\u001b[0m \u001b[0minput\u001b[0m\u001b[0;34m)\u001b[0m\u001b[0;34m:\u001b[0m\u001b[0;34m\u001b[0m\u001b[0;34m\u001b[0m\u001b[0m\n\u001b[1;32m    140\u001b[0m         \u001b[0;32mfor\u001b[0m \u001b[0mmodule\u001b[0m \u001b[0;32min\u001b[0m \u001b[0mself\u001b[0m\u001b[0;34m:\u001b[0m\u001b[0;34m\u001b[0m\u001b[0;34m\u001b[0m\u001b[0m\n\u001b[0;32m--> 141\u001b[0;31m             \u001b[0minput\u001b[0m \u001b[0;34m=\u001b[0m \u001b[0mmodule\u001b[0m\u001b[0;34m(\u001b[0m\u001b[0minput\u001b[0m\u001b[0;34m)\u001b[0m\u001b[0;34m\u001b[0m\u001b[0;34m\u001b[0m\u001b[0m\n\u001b[0m\u001b[1;32m    142\u001b[0m         \u001b[0;32mreturn\u001b[0m \u001b[0minput\u001b[0m\u001b[0;34m\u001b[0m\u001b[0;34m\u001b[0m\u001b[0m\n\u001b[1;32m    143\u001b[0m \u001b[0;34m\u001b[0m\u001b[0m\n",
            "\u001b[0;32m/usr/local/lib/python3.7/dist-packages/torch/nn/modules/module.py\u001b[0m in \u001b[0;36m_call_impl\u001b[0;34m(self, *input, **kwargs)\u001b[0m\n\u001b[1;32m   1108\u001b[0m         if not (self._backward_hooks or self._forward_hooks or self._forward_pre_hooks or _global_backward_hooks\n\u001b[1;32m   1109\u001b[0m                 or _global_forward_hooks or _global_forward_pre_hooks):\n\u001b[0;32m-> 1110\u001b[0;31m             \u001b[0;32mreturn\u001b[0m \u001b[0mforward_call\u001b[0m\u001b[0;34m(\u001b[0m\u001b[0;34m*\u001b[0m\u001b[0minput\u001b[0m\u001b[0;34m,\u001b[0m \u001b[0;34m**\u001b[0m\u001b[0mkwargs\u001b[0m\u001b[0;34m)\u001b[0m\u001b[0;34m\u001b[0m\u001b[0;34m\u001b[0m\u001b[0m\n\u001b[0m\u001b[1;32m   1111\u001b[0m         \u001b[0;31m# Do not call functions when jit is used\u001b[0m\u001b[0;34m\u001b[0m\u001b[0;34m\u001b[0m\u001b[0;34m\u001b[0m\u001b[0m\n\u001b[1;32m   1112\u001b[0m         \u001b[0mfull_backward_hooks\u001b[0m\u001b[0;34m,\u001b[0m \u001b[0mnon_full_backward_hooks\u001b[0m \u001b[0;34m=\u001b[0m \u001b[0;34m[\u001b[0m\u001b[0;34m]\u001b[0m\u001b[0;34m,\u001b[0m \u001b[0;34m[\u001b[0m\u001b[0;34m]\u001b[0m\u001b[0;34m\u001b[0m\u001b[0;34m\u001b[0m\u001b[0m\n",
            "\u001b[0;32m/usr/local/lib/python3.7/dist-packages/torch/nn/modules/batchnorm.py\u001b[0m in \u001b[0;36mforward\u001b[0;34m(self, input)\u001b[0m\n\u001b[1;32m    133\u001b[0m \u001b[0;34m\u001b[0m\u001b[0m\n\u001b[1;32m    134\u001b[0m     \u001b[0;32mdef\u001b[0m \u001b[0mforward\u001b[0m\u001b[0;34m(\u001b[0m\u001b[0mself\u001b[0m\u001b[0;34m,\u001b[0m \u001b[0minput\u001b[0m\u001b[0;34m:\u001b[0m \u001b[0mTensor\u001b[0m\u001b[0;34m)\u001b[0m \u001b[0;34m->\u001b[0m \u001b[0mTensor\u001b[0m\u001b[0;34m:\u001b[0m\u001b[0;34m\u001b[0m\u001b[0;34m\u001b[0m\u001b[0m\n\u001b[0;32m--> 135\u001b[0;31m         \u001b[0mself\u001b[0m\u001b[0;34m.\u001b[0m\u001b[0m_check_input_dim\u001b[0m\u001b[0;34m(\u001b[0m\u001b[0minput\u001b[0m\u001b[0;34m)\u001b[0m\u001b[0;34m\u001b[0m\u001b[0;34m\u001b[0m\u001b[0m\n\u001b[0m\u001b[1;32m    136\u001b[0m \u001b[0;34m\u001b[0m\u001b[0m\n\u001b[1;32m    137\u001b[0m         \u001b[0;31m# exponential_average_factor is set to self.momentum\u001b[0m\u001b[0;34m\u001b[0m\u001b[0;34m\u001b[0m\u001b[0;34m\u001b[0m\u001b[0m\n",
            "\u001b[0;32m/usr/local/lib/python3.7/dist-packages/torch/nn/modules/batchnorm.py\u001b[0m in \u001b[0;36m_check_input_dim\u001b[0;34m(self, input)\u001b[0m\n\u001b[1;32m    511\u001b[0m     \u001b[0;32mdef\u001b[0m \u001b[0m_check_input_dim\u001b[0m\u001b[0;34m(\u001b[0m\u001b[0mself\u001b[0m\u001b[0;34m,\u001b[0m \u001b[0minput\u001b[0m\u001b[0;34m)\u001b[0m\u001b[0;34m:\u001b[0m\u001b[0;34m\u001b[0m\u001b[0;34m\u001b[0m\u001b[0m\n\u001b[1;32m    512\u001b[0m         \u001b[0;32mif\u001b[0m \u001b[0minput\u001b[0m\u001b[0;34m.\u001b[0m\u001b[0mdim\u001b[0m\u001b[0;34m(\u001b[0m\u001b[0;34m)\u001b[0m \u001b[0;34m!=\u001b[0m \u001b[0;36m5\u001b[0m\u001b[0;34m:\u001b[0m\u001b[0;34m\u001b[0m\u001b[0;34m\u001b[0m\u001b[0m\n\u001b[0;32m--> 513\u001b[0;31m             \u001b[0;32mraise\u001b[0m \u001b[0mValueError\u001b[0m\u001b[0;34m(\u001b[0m\u001b[0;34m\"expected 5D input (got {}D input)\"\u001b[0m\u001b[0;34m.\u001b[0m\u001b[0mformat\u001b[0m\u001b[0;34m(\u001b[0m\u001b[0minput\u001b[0m\u001b[0;34m.\u001b[0m\u001b[0mdim\u001b[0m\u001b[0;34m(\u001b[0m\u001b[0;34m)\u001b[0m\u001b[0;34m)\u001b[0m\u001b[0;34m)\u001b[0m\u001b[0;34m\u001b[0m\u001b[0;34m\u001b[0m\u001b[0m\n\u001b[0m\u001b[1;32m    514\u001b[0m \u001b[0;34m\u001b[0m\u001b[0m\n\u001b[1;32m    515\u001b[0m \u001b[0;34m\u001b[0m\u001b[0m\n",
            "\u001b[0;31mValueError\u001b[0m: expected 5D input (got 4D input)"
          ]
        }
      ]
    },
    {
      "cell_type": "markdown",
      "source": [
        "###### LOSS"
      ],
      "metadata": {
        "id": "xqBWRmZJLdF7"
      }
    },
    {
      "cell_type": "code",
      "source": [
        "def mse(y_t , y_p):\n",
        "    ## To calculate the mean square error\n",
        "    print(y_t.shape); print(y_p.shape); \n",
        "    ## Normal Mean Square Error - reduce( x+y , (y_t - y_p)^2)\n",
        "    loss = torch.sum(torch.square(torch.flatten(y_t) - torch.flatten(y_p)))\n",
        "    return loss\n",
        "print(mse(y[1],y[2]))"
      ],
      "metadata": {
        "colab": {
          "base_uri": "https://localhost:8080/"
        },
        "id": "8NT9S1Rf3X2D",
        "outputId": "a10e022c-a3b5-4a88-d360-4fabc847155a"
      },
      "execution_count": 24,
      "outputs": [
        {
          "output_type": "stream",
          "name": "stdout",
          "text": [
            "torch.Size([1, 1, 80, 80, 13])\n",
            "torch.Size([1, 1, 80, 80, 13])\n",
            "tensor(83200.)\n"
          ]
        }
      ]
    },
    {
      "cell_type": "markdown",
      "source": [
        "##### Training\n",
        "\n"
      ],
      "metadata": {
        "id": "0XU8slieLgpt"
      }
    }
  ]
}