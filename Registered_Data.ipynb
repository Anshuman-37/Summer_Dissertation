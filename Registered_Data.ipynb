{
  "nbformat": 4,
  "nbformat_minor": 0,
  "metadata": {
    "colab": {
      "name": "Registered_Data.ipynb",
      "provenance": [],
      "collapsed_sections": [],
      "machine_shape": "hm",
      "authorship_tag": "ABX9TyPv297XT3vqUui/4OXFEo7I"
    },
    "kernelspec": {
      "name": "python3",
      "display_name": "Python 3"
    },
    "language_info": {
      "name": "python"
    },
    "gpuClass": "standard",
    "accelerator": "GPU"
  },
  "cells": [
    {
      "cell_type": "code",
      "source": [
        "# ## On Average Takes around 12 minutes \n",
        "import os\n",
        "\n",
        "# !sudo apt -qq install file\n",
        "# !wget https://fsl.fmrib.ox.ac.uk/fsldownloads/fslinstaller.py\n",
        "# !python2 fslinstaller.py\n",
        "\n",
        "fslpath = \"/usr/local/fsl\"\n",
        "os.environ[\"FSLDIR\"] = fslpath\n",
        "os.environ[\"PATH\"] += os.pathsep + os.path.join(fslpath, 'bin')\n",
        "!. ${FSLDIR}/etc/fslconf/fsl.sh\n",
        "\n",
        "!flirt -version "
      ],
      "metadata": {
        "colab": {
          "base_uri": "https://localhost:8080/"
        },
        "id": "p8fUWv40f0OS",
        "outputId": "2dc4d355-cc38-4b62-8b5a-588dbd9e9525"
      },
      "execution_count": 1,
      "outputs": [
        {
          "output_type": "stream",
          "name": "stdout",
          "text": [
            "FLIRT version 6.0\n"
          ]
        }
      ]
    },
    {
      "cell_type": "code",
      "execution_count": 2,
      "metadata": {
        "id": "PdWPPWotIeo_"
      },
      "outputs": [],
      "source": [
        "## Takes a bit time to read the kaggle . json file \n",
        "!pip install kaggle --upgrade\n",
        "!cp kaggle.json ~/.kaggle/\n",
        "!chmod 600 ~/.kaggle/kaggle.json\n",
        "!mkdir content/data\n",
        "!kaggle datasets download -d lyfeisgood/something\n",
        "!unzip /content/something.zip -d data\n",
        "!pip install regtricks"
      ]
    },
    {
      "cell_type": "code",
      "source": [
        "import os\n",
        "import re\n",
        "import nibabel as nib\n",
        "import numpy as np\n",
        "import torch\n",
        "print(torch.__version__)\n",
        "print(torch.cuda.is_available())\n",
        "device = torch.device('cuda:0' if torch.cuda.is_available() else 'cpu')\n",
        "import torch\n",
        "import regtricks\n",
        "## Import my .py file ....... \n",
        "import Data_Loader as dl\n",
        "import Models as model\n",
        "import regtricks as rt\n",
        "!pip install torchsummary\n",
        "from torchsummary import summary"
      ],
      "metadata": {
        "colab": {
          "base_uri": "https://localhost:8080/"
        },
        "id": "yAJAOqkdI1uP",
        "outputId": "26a381b9-b315-4008-952f-1555053597f1"
      },
      "execution_count": 2,
      "outputs": [
        {
          "output_type": "stream",
          "name": "stdout",
          "text": [
            "1.12.0+cu113\n",
            "True\n",
            "1.12.0+cu113\n",
            "True\n",
            "cuda:0\n",
            "1.12.0+cu113\n",
            "True\n",
            "Looking in indexes: https://pypi.org/simple, https://us-python.pkg.dev/colab-wheels/public/simple/\n",
            "Requirement already satisfied: torchsummary in /usr/local/lib/python3.7/dist-packages (1.5.1)\n"
          ]
        }
      ]
    },
    {
      "cell_type": "code",
      "source": [
        "## Take around 5 minutes\n",
        "## Defining the path of the data \n",
        "x,y = dl.data_loader('/content/data','/content/data',device)\n",
        "\n",
        "## Printing the shape of specifid data\n",
        "print('\\nShape of MRI images - >');     dl.print_data_shape(x); \n",
        "print('\\nShape of ASL images - >');     dl.print_data_shape(y);\n",
        "\n",
        "## Printing the Stats of the data\n",
        "print('\\nStats for MRI data(X) - >');   dl.tensor_stats(x); \n",
        "print('\\nStats for ASL data(X) - >');   dl.tensor_stats(y);\n",
        "\n",
        "## Printing the Dimension of X and Y  \n",
        "## Dimension refer -> Number x Length x Breadth x Height x Channel\n",
        "print('\\nDimensions of X(MRI Data) ->',end=' '); dl.print_data_dimension(x)\n",
        "print('\\nDimensions of Y(ASL Data) ->',end=' '); dl.print_data_dimension(y)"
      ],
      "metadata": {
        "id": "jSGbVbDnLSWl"
      },
      "execution_count": null,
      "outputs": []
    },
    {
      "cell_type": "code",
      "source": [
        "from torch.autograd import Variable\n",
        "from torch.nn import Linear, ReLU, CrossEntropyLoss, Sequential, LazyConv3d , MaxPool3d, Module, Softmax, BatchNorm3d, Dropout, Conv3d, MSELoss,functional \n",
        "from torch.optim import Adam, SGD\n",
        "from torchsummary import summary as tfsum \n",
        "from tqdm import tqdm\n",
        "torch.cuda.empty_cache()\n",
        "\n",
        "hidden = lambda c_in, c_out: Sequential(\n",
        "    Conv3d(c_in, c_out, (3,3,2), padding=(1,1,1)),\n",
        "    BatchNorm3d(c_out),\n",
        "    ReLU(),\n",
        "    MaxPool3d(1)\n",
        "    )\n",
        "hidden_2 = lambda c_in, c_out: Sequential(\n",
        "    Conv3d(c_in, c_out, (3,3,5),padding=(1,1,1)),\n",
        "    BatchNorm3d(c_out),\n",
        "    ReLU(),\n",
        "    MaxPool3d(1)\n",
        "    )\n",
        "Hidden = lambda c_in, c_out: Sequential(\n",
        "    Conv3d(c_in, c_out, (1,1,4)),\n",
        "    BatchNorm3d(c_out),\n",
        "    ReLU(),\n",
        "    MaxPool3d(1)\n",
        "    )\n",
        "class Model_1(Module):\n",
        "    '''Class for the Model to be fitted on MRI data'''\n",
        "    def __init__(self, c):\n",
        "        '''Intiallizing the layers of the Model'''\n",
        "        super(Model_1, self).__init__();\n",
        "        self.hidden1 = hidden(1,c);\n",
        "        self.hidden2 = hidden(c,4*c);\n",
        "        self.hidden3 = hidden(4*c,8*c);\n",
        "        self.hidden4 = hidden(8*c,4*c);\n",
        "        self.hidden5 = hidden(4*c, 16*c);\n",
        "        self.hidden6 = hidden_2(16*c,4*c);\n",
        "        self.hidden7 = Hidden(4*c,1);\n",
        "    def forward(self, x):\n",
        "        '''Implements the forward pass of the Network'''\n",
        "        x = self.hidden1(x)\n",
        "        x = self.hidden2(x)\n",
        "        x = self.hidden3(x)\n",
        "        x = self.hidden4(x)\n",
        "        x = self.hidden5(x)\n",
        "        x = self.hidden6(x)\n",
        "        x = self.hidden7(x)\n",
        "        return x "
      ],
      "metadata": {
        "id": "yDEID-5wsi6l"
      },
      "execution_count": null,
      "outputs": []
    },
    {
      "cell_type": "code",
      "source": [
        "channels = 1; #3 Defining the number od channels we have for neural network\n",
        "# Intializing model\n",
        "torch.cuda.empty_cache()\n",
        "model = Model_1(channels).to(device) # Intializing the model \n",
        "summary(model,(1, 91,109,91))"
      ],
      "metadata": {
        "id": "FwsusM5z1AMI"
      },
      "execution_count": null,
      "outputs": []
    },
    {
      "cell_type": "code",
      "source": [
        "def train(epochs,batch_size,x,y):\n",
        "        '''To train the neural network and return the losses'''\n",
        "        ctr = 0; train_loss = []; \n",
        "        lossFn = MSELoss(); opt = Adam(model.parameters(), lr=1e-5);\n",
        "        X = x.to(device); Y = y.to(device);\n",
        "        for e in tqdm(range(0, epochs)):\n",
        "            model.train(); batch_loss = [];\n",
        "            permutation = torch.randperm(X.size()[0])\n",
        "            for i in range(0,X.size()[0], batch_size):\n",
        "                opt.zero_grad();\n",
        "                indices = permutation[i:i+batch_size];\n",
        "                batch_x, batch_y = X[indices], Y[indices];\n",
        "                pred = model(batch_x) ; loss = lossFn(pred, batch_y);\n",
        "                loss.backward(); opt.step();\n",
        "                batch_loss.append(loss); \n",
        "            train_loss.append(batch_loss);\n",
        "            print(loss); ctr = ctr+1; \n",
        "            if ctr < epochs-1:\n",
        "                del loss , pred\n",
        "        return train_loss, pred;\n",
        "train_loss,prediction = train(2,3,x,y);"
      ],
      "metadata": {
        "id": "f2xU3MXdVxRB"
      },
      "execution_count": null,
      "outputs": []
    },
    {
      "cell_type": "code",
      "source": [
        "# import regtricks as rt\n",
        "# str2asl_reg=rt.flirt(src=x[0],ref=y[0])\n",
        "# xD=str2asl_reg.apply_to_image(x[0],ref=y[0])"
      ],
      "metadata": {
        "id": "50M6gKJWWC21"
      },
      "execution_count": null,
      "outputs": []
    },
    {
      "cell_type": "code",
      "source": [
        "# def data_prep(mri_data_dict,asl_data_dict,device):\n",
        "#     '''\n",
        "#     Params - Dictionary of MRI Data, ASL data and the device to which the tensors are stored\n",
        "#     Result - Creates tensors from the data dictionary feeded\n",
        "#     '''\n",
        "#     x = [] ; y = []; X = []; Y = [];\n",
        "#     for k,v in mri_data_dict.items():\n",
        "#         if k in asl_data_dict:\n",
        "#             # Loading the MRI image from the path in the train x path \n",
        "#             mri_img_x = nib.load(v); asl_img = nib.load(asl_data_dict[k]); str2asl_reg=rt.flirt(src=mri_img_x,ref=asl_img)\n",
        "#             mri_img =  str2asl_reg.apply_to_image(mri_img_x,ref=asl_img)\n",
        "#             # Making it a numpy array\n",
        "#             mri_vec = np.array(mri_img.dataobj)[np.newaxis,:,:,:] # Channels x Length X Breadth X Slices of Brain\n",
        "#             # Min max Normalizing the image \n",
        "#             mri_vec = (mri_vec - mri_vec.min()) / (mri_vec.max() - mri_vec.min())\n",
        "#             # Appending the MRI image to X \n",
        "#             x.append(torch.as_tensor(mri_vec,dtype=torch.float32));#.to(device)); \n",
        "#             ## Finding the same patient with ASL data \n",
        "#             asl_img = nib.load(asl_data_dict[k]); asl_vec = np.array(asl_img.dataobj)[np.newaxis,:,:,:]; \n",
        "#             asl_vec = (asl_vec - asl_vec.min()) / (asl_vec.max() - asl_vec.min());\n",
        "#             ## Appending the image to y\n",
        "#             y.append(torch.as_tensor(asl_vec,dtype=torch.float32));#.to(device))\n",
        "#             X = torch.stack(x,dim=0)#.to(device);\n",
        "#             Y = torch.stack(y,dim=0)#.to(device);\n",
        "#     return X,Y"
      ],
      "metadata": {
        "id": "iI0M6PhdY2s5"
      },
      "execution_count": 6,
      "outputs": []
    },
    {
      "cell_type": "code",
      "source": [
        "# ## Takes 4 minutes\n",
        "# mri,asl = dl.create_data_dict(dl.get_mri_data('/content/data'),dl.get_asl_data('/content/data'))\n",
        "# x,y = data_prep(mri,asl,device)"
      ],
      "metadata": {
        "id": "lC1jKeHkZJ3J"
      },
      "execution_count": 47,
      "outputs": []
    },
    {
      "cell_type": "code",
      "source": [
        "# # dl.print_data_dimension(x); dl.print_data_dimension(y);\n",
        "\n",
        "# x_first = x[0]\n",
        "# pred_np = x_first.cpu().detach().numpy()\n",
        "# dl.print_data_dimension(pred_np); print(type(pred_np))\n",
        "\n",
        "# import matplotlib.pyplot as plt\n",
        "# import matplotlib.cm as cm\n",
        "# import matplotlib.animation as animation\n",
        "\n",
        "# img = [] # some array of images\n",
        "# frames = [] # for storing the generated images\n",
        "# fig = plt.figure()\n",
        "# for i in range(0,x.shape[4]):\n",
        "#     ## For L2 Distance\n",
        "#     frames.append([plt.imshow(pred_np[0,:,:,i], cmap=cm.Greys_r,animated=True)])\n",
        "# ani = animation.ArtistAnimation(fig, frames, interval=120, blit=True, repeat_delay=1000)\n",
        "# ani.save('movie.mp4')\n"
      ],
      "metadata": {
        "colab": {
          "base_uri": "https://localhost:8080/",
          "height": 304
        },
        "id": "LtfUfa9CZhae",
        "outputId": "c6448c89-13b3-409c-edc0-edc78b9c6ea6"
      },
      "execution_count": 38,
      "outputs": [
        {
          "output_type": "stream",
          "name": "stdout",
          "text": [
            "(1, 91, 109, 91)\n",
            "<class 'numpy.ndarray'>\n"
          ]
        },
        {
          "output_type": "display_data",
          "data": {
            "text/plain": [
              "<Figure size 432x288 with 1 Axes>"
            ],
            "image/png": "[encoded data removed]"
          },
          "metadata": {
            "needs_background": "light"
          }
        }
      ]
    },
    {
      "cell_type": "code",
      "source": [
        "# from IPython.display import HTML\n",
        "# from base64 import b64encode\n",
        "# mp4 = open('/content/movie.mp4','rb').read()\n",
        "# data_url = \"data:video/mp4;base64,\" + b64encode(mp4).decode()\n",
        "# HTML(\"\"\"\n",
        "# <video width=400 controls>\n",
        "#       <source src=\"%s\" type=\"video/mp4\">\n",
        "# </video>\n",
        "# \"\"\" % data_url)"
      ],
      "metadata": {
        "id": "mAc5kwCWnd9H"
      },
      "execution_count": null,
      "outputs": []
    },
    {
      "cell_type": "code",
      "source": [
        ""
      ],
      "metadata": {
        "id": "_7srqwbdumDE"
      },
      "execution_count": null,
      "outputs": []
    },
    {
      "cell_type": "code",
      "source": [
        "\n",
        "train_loss,prediction = train(2,3,train_x,train_y);\n",
        "\n"
      ],
      "metadata": {
        "id": "iF6ogAvysH-J"
      },
      "execution_count": 41,
      "outputs": []
    },
    {
      "cell_type": "code",
      "source": [
        ""
      ],
      "metadata": {
        "id": "9RQ4efYlsIFF"
      },
      "execution_count": null,
      "outputs": []
    }
  ]
}