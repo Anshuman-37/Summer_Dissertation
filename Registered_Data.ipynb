{
  "nbformat": 4,
  "nbformat_minor": 0,
  "metadata": {
    "colab": {
      "name": "Registered_Data.ipynb",
      "provenance": [],
      "machine_shape": "hm",
      "authorship_tag": "ABX9TyOVuHGfFKhpLf1/BXGoX7m5"
    },
    "kernelspec": {
      "name": "python3",
      "display_name": "Python 3"
    },
    "language_info": {
      "name": "python"
    },
    "gpuClass": "standard",
    "accelerator": "GPU"
  },
  "cells": [
    {
      "cell_type": "code",
      "execution_count": null,
      "metadata": {
        "id": "PdWPPWotIeo_"
      },
      "outputs": [],
      "source": [
        "## Takes a bit time to read the kaggle . json file \n",
        "!pip install kaggle --upgrade\n",
        "!cp kaggle.json ~/.kaggle/\n",
        "!chmod 600 ~/.kaggle/kaggle.json\n",
        "!mkdir content/data\n",
        "!kaggle datasets download -d lyfeisgood/something\n",
        "!unzip /content/something.zip -d data"
      ]
    },
    {
      "cell_type": "code",
      "source": [
        "import os\n",
        "import re\n",
        "import nibabel as nib\n",
        "import numpy as np\n",
        "import torch\n",
        "print(torch.__version__)\n",
        "print(torch.cuda.is_available())\n",
        "device = torch.device('cuda:0' if torch.cuda.is_available() else 'cpu')\n",
        "import torch"
      ],
      "metadata": {
        "colab": {
          "base_uri": "https://localhost:8080/"
        },
        "id": "yAJAOqkdI1uP",
        "outputId": "25731543-d07c-45c3-cac9-7dd964e3e9ff"
      },
      "execution_count": 18,
      "outputs": [
        {
          "output_type": "stream",
          "name": "stdout",
          "text": [
            "1.12.0+cu113\n",
            "True\n"
          ]
        }
      ]
    },
    {
      "cell_type": "code",
      "source": [
        "def get_mri_data(path_mri):\n",
        "    '''Returns a list containing the path of MRI DATA'''\n",
        "    path = path_mri;\n",
        "    fileRegex1 = re.compile(r'T1_2_std_warped'); mri_data_path = []; \n",
        "    # Iterating over Directories \n",
        "    for subdir, dirs, files in os.walk(path):\n",
        "        for file in files:\n",
        "            # Storing the path of Data\n",
        "            if fileRegex1.search(file): mri_data_path.append(os.path.join(subdir, file));\n",
        "    return mri_data_path;\n",
        "\n",
        "def get_asl_data(path_asl):\n",
        "    '''Returns a list containing the path of ASL DATA'''\n",
        "    asl_path = path_asl; asl_data_path = []; \n",
        "    # Iterating over directories\n",
        "    for subdir, dirs, files in os.walk(asl_path):\n",
        "        # Selecting the ASL file\n",
        "        for file in files:\n",
        "            if file == 'perfusion.nii':\n",
        "                asl_data_path.append(os.path.join(subdir, file));\n",
        "    return asl_data_path;\n",
        "\n",
        "def create_data_dict(mri_data_path,asl_data_path): \n",
        "    '''To create a Dictionary of MRI_data and ASL_data'''\n",
        "    mri_map = {}; asl_map = {}; patient = re.compile(r'sub*'); \n",
        "    \n",
        "    ## Iterating over the mri data's path\n",
        "    for i in mri_data_path:\n",
        "    ## Value is our path i.e. stored and key is the patient number\n",
        "        value = i; key = i.split('/'); \n",
        "        for vals in key:\n",
        "            if patient.search(vals): mri_map[vals.split('-')[1]] = value;\n",
        "    ## Iterating over the mri data's path\n",
        "    for i in asl_data_path:\n",
        "        ## Value is our path i.e. stored and key is the patient number\n",
        "        value = i; key = i.split('/'); \n",
        "        for vals in key:\n",
        "            if patient.search(vals): asl_map[vals.split('-')[1]] = value;\n",
        "    return mri_map,asl_map;\n",
        "\n",
        "def create_tensors(mri_data_dict,asl_data_dict,device):\n",
        "    '''Creates tensors from the data dictionary feeded'''\n",
        "    x = [] ; y = []; X = []; Y = [];\n",
        "    for k,v in mri_data_dict.items():\n",
        "        if k in asl_data_dict:\n",
        "            # Loading the MRI image from the path in the train x path \n",
        "            mri_img = nib.load(v); \n",
        "            # Making it a numpy array\n",
        "            mri_vec = np.array(mri_img.dataobj)[np.newaxis,:,:,:] # Channels x Length X Breadth X Slices of Brain\n",
        "            # Min max Normalizing the image \n",
        "            mri_vec = (mri_vec - mri_vec.min()) / (mri_vec.max() - mri_vec.min())\n",
        "            # Appending the MRI image to X \n",
        "            x.append(torch.as_tensor(mri_vec,dtype=torch.float32).to(device)); \n",
        "            ## Finding the same patient with ASL data \n",
        "            asl_img = nib.load(asl_data_dict[k]); asl_vec = np.array(asl_img.dataobj)[np.newaxis,:,:,:]; \n",
        "            asl_vec = (asl_vec - asl_vec.min()) / (asl_vec.max() - asl_vec.min());\n",
        "            ## Appending the image to y\n",
        "            y.append(torch.as_tensor(asl_vec,dtype=torch.float32).to(device))\n",
        "            X = torch.stack(x,dim=0).to(device); Y = torch.stack(y,dim=0).to(device);\n",
        "    return X,Y\n",
        "\n",
        "def print_data_shape(data):\n",
        "    '''Prints the shape of data'''\n",
        "    for i in data: print(i.shape);\n",
        "\n",
        "def tensor_stats(tensor_array):\n",
        "    '''Prints some statistics about the tensors'''\n",
        "    for i in tensor_array:\n",
        "        print(i.sum(), i.prod(), i.mean(), i.std());\n",
        "\n",
        "def print_data_dimension(data):\n",
        "    '''Print dimension of data'''\n",
        "    print(data.shape)\n",
        "\n",
        "def data_loader(path_mri,path_asl,device):\n",
        "    '''This function will return us the mri and asl data in format we want'''\n",
        "    ## Getting path of all MRI data stored and ASL data stored\n",
        "    mri_data = get_mri_data(path_mri); asl_data = get_asl_data(path_asl);\n",
        "    ## Making dict of MRI data for which ASL data exists\n",
        "    mri_data_dict , asl_data_dict = create_data_dict(mri_data,asl_data);\n",
        "    ## Creating the Tensors of the MRI and ASL data\n",
        "    x , y = create_tensors(mri_data_dict,asl_data_dict,device);\n",
        "    return x,y\n",
        "\n",
        "def data_split(x,y,size):\n",
        "    '''Split data into train and test'''\n",
        "    train_x = x[0:int((len(x)+1)*(1-size))] ; train_y = y[0:int((len(x)+1)*(1-size))] ; \n",
        "    test_x = x[int((len(x)+1)*(1-size)):] ; test_y = y[int((len(x)+1)*(1-size)):];\n",
        "    return train_x,train_y,test_x,test_y; \n",
        "\n",
        "x,y = data_loader('/content/data','/content/data',device)\n",
        "## Printing the shape of specifid data\n",
        "print('Shape of MRI images - >');       print_data_shape(x); \n",
        "print('\\nShape of ASL images - >');     print_data_shape(y);\n",
        "\n",
        "## Printing the Stats of the data\n",
        "print('\\nStats for MRI data(X) - >');   tensor_stats(x); \n",
        "print('\\nStats for ASL data(X) - >');   tensor_stats(y);\n",
        "\n",
        "## Printing the Dimension of X and Y  \n",
        "## Dimension refer -> Number x Length x Breadth x Height x Channel\n",
        "print('\\nDimensions of X(MRI Data) ->',end=' ');print_data_dimension(x)"
      ],
      "metadata": {
        "colab": {
          "base_uri": "https://localhost:8080/"
        },
        "id": "jSGbVbDnLSWl",
        "outputId": "603f0979-4043-42f5-a7f1-8c4fab7f9a36"
      },
      "execution_count": 19,
      "outputs": [
        {
          "output_type": "stream",
          "name": "stdout",
          "text": [
            "Shape of MRI images - >\n",
            "torch.Size([1, 182, 218, 182])\n",
            "torch.Size([1, 182, 218, 182])\n",
            "torch.Size([1, 182, 218, 182])\n",
            "torch.Size([1, 182, 218, 182])\n",
            "torch.Size([1, 182, 218, 182])\n",
            "torch.Size([1, 182, 218, 182])\n",
            "torch.Size([1, 182, 218, 182])\n",
            "torch.Size([1, 182, 218, 182])\n",
            "torch.Size([1, 182, 218, 182])\n",
            "torch.Size([1, 182, 218, 182])\n",
            "\n",
            "Shape of ASL images - >\n",
            "torch.Size([1, 91, 109, 91])\n",
            "torch.Size([1, 91, 109, 91])\n",
            "torch.Size([1, 91, 109, 91])\n",
            "torch.Size([1, 91, 109, 91])\n",
            "torch.Size([1, 91, 109, 91])\n",
            "torch.Size([1, 91, 109, 91])\n",
            "torch.Size([1, 91, 109, 91])\n",
            "torch.Size([1, 91, 109, 91])\n",
            "torch.Size([1, 91, 109, 91])\n",
            "torch.Size([1, 91, 109, 91])\n",
            "\n",
            "Stats for MRI data(X) - >\n",
            "tensor(803922.6875, device='cuda:0') tensor(-0., device='cuda:0') tensor(0.1113, device='cuda:0') tensor(0.1415, device='cuda:0')\n",
            "tensor(767731.0625, device='cuda:0') tensor(-0., device='cuda:0') tensor(0.1063, device='cuda:0') tensor(0.1298, device='cuda:0')\n",
            "tensor(910082.3125, device='cuda:0') tensor(0., device='cuda:0') tensor(0.1260, device='cuda:0') tensor(0.1682, device='cuda:0')\n",
            "tensor(867350.9375, device='cuda:0') tensor(-0., device='cuda:0') tensor(0.1201, device='cuda:0') tensor(0.1486, device='cuda:0')\n",
            "tensor(807634.3750, device='cuda:0') tensor(0., device='cuda:0') tensor(0.1118, device='cuda:0') tensor(0.1441, device='cuda:0')\n",
            "tensor(636053.1875, device='cuda:0') tensor(0., device='cuda:0') tensor(0.0881, device='cuda:0') tensor(0.1086, device='cuda:0')\n",
            "tensor(748591.3750, device='cuda:0') tensor(-0., device='cuda:0') tensor(0.1037, device='cuda:0') tensor(0.1340, device='cuda:0')\n",
            "tensor(720091.3750, device='cuda:0') tensor(-0., device='cuda:0') tensor(0.0997, device='cuda:0') tensor(0.1259, device='cuda:0')\n",
            "tensor(766433.1250, device='cuda:0') tensor(0., device='cuda:0') tensor(0.1061, device='cuda:0') tensor(0.1197, device='cuda:0')\n",
            "tensor(633725.3125, device='cuda:0') tensor(0., device='cuda:0') tensor(0.0878, device='cuda:0') tensor(0.1142, device='cuda:0')\n",
            "\n",
            "Stats for ASL data(X) - >\n",
            "tensor(48334.8750, device='cuda:0') tensor(0., device='cuda:0') tensor(0.0535, device='cuda:0') tensor(0.0975, device='cuda:0')\n",
            "tensor(34380.5508, device='cuda:0') tensor(0., device='cuda:0') tensor(0.0381, device='cuda:0') tensor(0.0677, device='cuda:0')\n",
            "tensor(29862.6172, device='cuda:0') tensor(0., device='cuda:0') tensor(0.0331, device='cuda:0') tensor(0.0610, device='cuda:0')\n",
            "tensor(31914.0215, device='cuda:0') tensor(0., device='cuda:0') tensor(0.0354, device='cuda:0') tensor(0.0661, device='cuda:0')\n",
            "tensor(76050.9375, device='cuda:0') tensor(0., device='cuda:0') tensor(0.0843, device='cuda:0') tensor(0.1469, device='cuda:0')\n",
            "tensor(38559.2695, device='cuda:0') tensor(0., device='cuda:0') tensor(0.0427, device='cuda:0') tensor(0.0781, device='cuda:0')\n",
            "tensor(48238.9414, device='cuda:0') tensor(0., device='cuda:0') tensor(0.0534, device='cuda:0') tensor(0.0972, device='cuda:0')\n",
            "tensor(64626.6406, device='cuda:0') tensor(0., device='cuda:0') tensor(0.0716, device='cuda:0') tensor(0.1236, device='cuda:0')\n",
            "tensor(71800.8438, device='cuda:0') tensor(0., device='cuda:0') tensor(0.0795, device='cuda:0') tensor(0.1413, device='cuda:0')\n",
            "tensor(38336.3242, device='cuda:0') tensor(0., device='cuda:0') tensor(0.0425, device='cuda:0') tensor(0.0774, device='cuda:0')\n",
            "\n",
            "Dimensions of X(MRI Data) -> torch.Size([10, 1, 182, 218, 182])\n"
          ]
        }
      ]
    },
    {
      "cell_type": "code",
      "source": [
        ""
      ],
      "metadata": {
        "id": "f2xU3MXdVxRB"
      },
      "execution_count": null,
      "outputs": []
    },
    {
      "cell_type": "code",
      "source": [
        ""
      ],
      "metadata": {
        "id": "50M6gKJWWC21"
      },
      "execution_count": null,
      "outputs": []
    }
  ]
}