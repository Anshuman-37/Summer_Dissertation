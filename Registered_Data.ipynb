{
  "nbformat": 4,
  "nbformat_minor": 0,
  "metadata": {
    "colab": {
      "name": "Registered_Data.ipynb",
      "provenance": [],
      "authorship_tag": "ABX9TyNX75+XQhxRQXxKioRi3Rw3"
    },
    "kernelspec": {
      "name": "python3",
      "display_name": "Python 3"
    },
    "language_info": {
      "name": "python"
    }
  },
  "cells": [
    {
      "cell_type": "code",
      "execution_count": 7,
      "metadata": {
        "id": "PdWPPWotIeo_"
      },
      "outputs": [],
      "source": [
        "#!pip install kaggle --upgrade\n",
        "!cp kaggle.json ~/.kaggle/\n",
        "!chmod 600 ~/.kaggle/kaggle.json\n",
        "# !mkdir content/data\n",
        "# !unzip machine-learning-in-science-2022.zip -d data"
      ]
    },
    {
      "cell_type": "code",
      "source": [
        "!kaggle datasets download -d lyfeisgood/something-2\n",
        "!unzip /content/something-2.zip -d content"
      ],
      "metadata": {
        "id": "yAJAOqkdI1uP"
      },
      "execution_count": null,
      "outputs": []
    },
    {
      "cell_type": "code",
      "source": [
        ""
      ],
      "metadata": {
        "id": "jSGbVbDnLSWl"
      },
      "execution_count": null,
      "outputs": []
    }
  ]
}