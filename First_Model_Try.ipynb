{
  "nbformat": 4,
  "nbformat_minor": 0,
  "metadata": {
    "colab": {
      "name": "First_Model_Try.ipynb",
      "provenance": [],
      "machine_shape": "hm",
      "authorship_tag": "ABX9TyOh4AqChBBPdslaIPP7Eq3I"
    },
    "kernelspec": {
      "name": "python3",
      "display_name": "Python 3"
    },
    "language_info": {
      "name": "python"
    },
    "accelerator": "GPU",
    "gpuClass": "standard"
  },
  "cells": [
    {
      "cell_type": "markdown",
      "source": [
        "##### Import Files"
      ],
      "metadata": {
        "id": "1tE9eg1_F-KH"
      }
    },
    {
      "cell_type": "code",
      "source": [
        "import os\n",
        "import re\n",
        "import nibabel as nib\n",
        "import numpy as np\n",
        "import torch\n",
        "print(torch.__version__)\n",
        "print(torch.cuda.is_available())\n",
        "device = torch.device('cuda:0' if torch.cuda.is_available() else 'cpu')\n",
        "import torch\n",
        "from torch.autograd import Variable\n",
        "from torch.nn import Linear, ReLU, CrossEntropyLoss, Sequential, LazyConv3d , MaxPool3d, Module, Softmax, BatchNorm3d, Dropout, Conv3d\n",
        "from torch.optim import Adam, SGD\n",
        "from torchsummary import summary"
      ],
      "metadata": {
        "id": "FduCcoF7GBQX",
        "colab": {
          "base_uri": "https://localhost:8080/"
        },
        "outputId": "667a7451-fcbb-4b25-c427-524c5b93f572"
      },
      "execution_count": 47,
      "outputs": [
        {
          "output_type": "stream",
          "name": "stdout",
          "text": [
            "1.11.0+cu113\n",
            "True\n"
          ]
        }
      ]
    },
    {
      "cell_type": "markdown",
      "source": [
        "##### DATA LOADING"
      ],
      "metadata": {
        "id": "we98TzSsF1mF"
      }
    },
    {
      "cell_type": "code",
      "execution_count": null,
      "metadata": {
        "id": "rcdcHnqqE7-Y"
      },
      "outputs": [],
      "source": [
        "!unzip /content/Raw\\ Files.zip -d /content/\n",
        "!unzip /content/Baseline.zip -d /content/"
      ]
    },
    {
      "cell_type": "markdown",
      "source": [
        "###### Data"
      ],
      "metadata": {
        "id": "zzCIspW6GNSm"
      }
    },
    {
      "cell_type": "code",
      "source": [
        "def get_mri_data(path_mri):\n",
        "    '''Returns a list containing the path of MRI DATA'''\n",
        "    path = path_mri;\n",
        "    regex = re.compile(r'__MPR.*') ; fileRegex1 = re.compile(r'(WIP)*T13D'); mri_data_path = []; \n",
        "    # Iterating over Directories \n",
        "    for subdir, dirs, files in os.walk(path):\n",
        "        for file in files:\n",
        "            # Storing the path of Data\n",
        "            if regex.search(file) == None:\n",
        "                if fileRegex1.search(file): mri_data_path.append(os.path.join(subdir, file));\n",
        "    return mri_data_path;\n",
        "\n",
        "def get_asl_data(path_asl):\n",
        "    '''Returns a list containing the path of ASL DATA'''\n",
        "    asl_path = path_asl;\n",
        "    asl_regex = re.compile(r'oxasl_dist.*'); asl_data_path = [];\n",
        "    # Iterating over directories\n",
        "    for subdir, dirs, files in os.walk(asl_path):\n",
        "        # Selecting the ASL file\n",
        "        for file in files:\n",
        "            if file == 'perfusion_calib.img':\n",
        "                if asl_regex.search(subdir): \n",
        "                    asl_data_path.append(os.path.join(subdir, file));\n",
        "    return asl_data_path;\n",
        "\n",
        "def create_data_dict(mri_data_path,asl_data_path): \n",
        "    '''To create a Dictionary of MRI_data and ASL_data'''\n",
        "    mri_map = {}; asl_map = {};\n",
        "    ## Iterating over the mri data's path\n",
        "    for i in mri_data_path:\n",
        "    ## Value is our path i.e. stored and key is the patient number\n",
        "        value = i; key = i.split('/')[4].split(' ')[0]; mri_map[key] = value;\n",
        "    ## Iterating over the mri data's path\n",
        "    for i in asl_data_path:\n",
        "        ## Value is our path i.e. stored and key is the patient number\n",
        "        value = i; key = i.split('/')[3].split(' ')[0];asl_map[key] = value;\n",
        "    return mri_map,asl_map;\n",
        "\n",
        "def create_tensors(mri_data_dict,asl_data_dict,device):\n",
        "    '''Creates tensors from the data dictionary feeded'''\n",
        "    x = [] ; y = []; X = []; Y = [];\n",
        "    for k,v in mri_data_dict.items():\n",
        "        if k in asl_data_dict:\n",
        "            # Loading the MRI image from the path in the train x path \n",
        "            mri_img = nib.load(v); \n",
        "            # Making it a numpy array\n",
        "            mri_vec = np.array(mri_img.dataobj)[np.newaxis,:,:,:] # Channels x Length X Breadth X Slices of Brain\n",
        "            # Min max Normalizing the image \n",
        "            mri_vec = (mri_vec - mri_vec.min()) / (mri_vec.max() - mri_vec.min())\n",
        "            # Appending the MRI image to X \n",
        "            x.append(torch.as_tensor(mri_vec,dtype=torch.float32).to(device)); \n",
        "            ## Finding the same patient with ASL data \n",
        "            asl_img = nib.load(asl_data_dict[k]); asl_vec = np.array(asl_img.dataobj)[np.newaxis,:,:,:]; \n",
        "            asl_vec = (asl_vec - asl_vec.min()) / (asl_vec.max() - asl_vec.min());\n",
        "            ## Appending the image to y\n",
        "            y.append(torch.as_tensor(asl_vec,dtype=torch.float32).to(device))\n",
        "            X = torch.stack(x,dim=0).to(device); Y = torch.stack(y,dim=0).to(device);\n",
        "    return X,Y\n",
        "\n",
        "def print_data_shape(data):\n",
        "    '''Prints the shape of data'''\n",
        "    for i in data: print(i.shape);\n",
        "\n",
        "def tensor_stats(tensor_array):\n",
        "    '''Prints some statistics about the tensors'''\n",
        "    for i in tensor_array:\n",
        "        print(i.sum(), i.prod(), i.mean(), i.std());\n",
        "\n",
        "def print_data_dimension(data):\n",
        "    '''Print dimension of data'''\n",
        "    print(data.shape)\n",
        "\n",
        "def data_loader(path_mri,path_asl,device):\n",
        "    '''This function will return us the mri and asl data in format we want'''\n",
        "    ## Getting path of all MRI data stored and ASL data stored\n",
        "    mri_data = get_mri_data(path_mri); asl_data = get_asl_data(path_asl);\n",
        "    ## Making dict of MRI data for which ASL data exists\n",
        "    mri_data_dict , asl_data_dict = create_data_dict(mri_data,asl_data);\n",
        "    ## Creating the Tensors of the MRI and ASL data\n",
        "    x , y = create_tensors(mri_data_dict,asl_data_dict,device);\n",
        "    return x,y\n",
        "\n",
        "## Change Path accordingly\n",
        "path_mri = '/content/Raw Files/Raw_nii_files_for_MC_pCASL_T1_B0_M0/' ; path_asl = '/content/Baseline/';\n",
        "\n",
        "## Getting the data\n",
        "x,y = data_loader(path_mri,path_asl,device)\n",
        "\n",
        "## Printing the shape of specifid data\n",
        "print('Shape of MRI images - >');       print_data_shape(x); \n",
        "print('\\nShape of ASL images - >');     print_data_shape(y);\n",
        "\n",
        "## Printing the Stats of the data\n",
        "print('\\nStats for MRI data(X) - >');   tensor_stats(x); \n",
        "print('\\nStats for ASL data(X) - >');   tensor_stats(y);\n",
        "\n",
        "## Printing the Dimension of X and Y  \n",
        "## Dimension refer -> Number x Length x Breadth x Height x Channel\n",
        "print('\\nDimensions of X(MRI Data) ->',end=' ');print_data_dimension(x)\n",
        "print('\\nDimensions of Y(ASL Data) ->',end=' ');print_data_dimension(y) "
      ],
      "metadata": {
        "colab": {
          "base_uri": "https://localhost:8080/"
        },
        "id": "nbYN-yAMLNe4",
        "outputId": "829bc714-14df-4290-b637-cc9eebf5cbe0"
      },
      "execution_count": 13,
      "outputs": [
        {
          "output_type": "stream",
          "name": "stdout",
          "text": [
            "Shape of MRI images - >\n",
            "torch.Size([1, 288, 288, 180])\n",
            "torch.Size([1, 288, 288, 180])\n",
            "torch.Size([1, 288, 288, 180])\n",
            "torch.Size([1, 288, 288, 180])\n",
            "\n",
            "Shape of ASL images - >\n",
            "torch.Size([1, 80, 80, 13])\n",
            "torch.Size([1, 80, 80, 13])\n",
            "torch.Size([1, 80, 80, 13])\n",
            "torch.Size([1, 80, 80, 13])\n",
            "\n",
            "Stats for MRI data(X) - >\n",
            "tensor(1135785.3750, device='cuda:0') tensor(0., device='cuda:0') tensor(0.0761, device='cuda:0') tensor(0.1223, device='cuda:0')\n",
            "tensor(882671.6250, device='cuda:0') tensor(0., device='cuda:0') tensor(0.0591, device='cuda:0') tensor(0.1196, device='cuda:0')\n",
            "tensor(1256232.7500, device='cuda:0') tensor(0., device='cuda:0') tensor(0.0841, device='cuda:0') tensor(0.1339, device='cuda:0')\n",
            "tensor(632351.7500, device='cuda:0') tensor(0., device='cuda:0') tensor(0.0424, device='cuda:0') tensor(0.0786, device='cuda:0')\n",
            "\n",
            "Stats for ASL data(X) - >\n",
            "tensor(4592.5898, device='cuda:0') tensor(0., device='cuda:0') tensor(0.0552, device='cuda:0') tensor(0.1219, device='cuda:0')\n",
            "tensor(6011.9717, device='cuda:0') tensor(0., device='cuda:0') tensor(0.0723, device='cuda:0') tensor(0.1663, device='cuda:0')\n",
            "tensor(5888.7588, device='cuda:0') tensor(0., device='cuda:0') tensor(0.0708, device='cuda:0') tensor(0.1548, device='cuda:0')\n",
            "tensor(4914.8418, device='cuda:0') tensor(0., device='cuda:0') tensor(0.0591, device='cuda:0') tensor(0.1360, device='cuda:0')\n",
            "\n",
            "Dimensions of X(MRI Data) -> torch.Size([4, 1, 288, 288, 180])\n",
            "\n",
            "Dimensions of Y(ASL Data) -> torch.Size([4, 1, 80, 80, 13])\n"
          ]
        }
      ]
    },
    {
      "cell_type": "markdown",
      "source": [
        "#### Model"
      ],
      "metadata": {
        "id": "9fK_knNYLaAu"
      }
    },
    {
      "cell_type": "code",
      "source": [
        "hidden = lambda c_in, c_out: Sequential(\n",
        "    Conv3d(c_in, c_out, (31,31,25)),\n",
        "    BatchNorm3d(c_out),\n",
        "    ReLU(),\n",
        "    MaxPool3d(1)\n",
        "    )\n",
        "class Model_1(Module):\n",
        "    '''Class for the Model to be fitted on MRI data'''\n",
        "    def __init__(self, c):\n",
        "        super(Model_1, self).__init__();\n",
        "        self.hidden1 = hidden(1,c);\n",
        "        self.hidden2 = hidden(c,2*c);\n",
        "        self.hidden3 = hidden(2*c,4*c);\n",
        "        self.hidden4 = hidden(4*c, 8*c);\n",
        "        self.hidden5 = hidden(8*c, 4*c);\n",
        "        self.hidden6 = hidden(4*c,2*c);\n",
        "        self.hidden7 = hidden(2*c,1);\n",
        "    def forward(self, x):\n",
        "        x = self.hidden1(x)\n",
        "        x = self.hidden2(x)\n",
        "        x = self.hidden3(x)\n",
        "        x = self.hidden4(x)\n",
        "        x = self.hidden5(x)\n",
        "        x = self.hidden6(x)\n",
        "        x = self.hidden7(x)\n",
        "        return x \n"
      ],
      "metadata": {
        "id": "njXPCJF_TBDG"
      },
      "execution_count": 80,
      "outputs": []
    },
    {
      "cell_type": "code",
      "source": [
        "model = Model_1(1).to(device)\n",
        "summary(model,(1, 288, 288, 180))"
      ],
      "metadata": {
        "colab": {
          "base_uri": "https://localhost:8080/"
        },
        "id": "UKvR_Wbxn5w1",
        "outputId": "d065e29d-0e4f-474e-b592-a09dba36c3fc"
      },
      "execution_count": 81,
      "outputs": [
        {
          "output_type": "stream",
          "name": "stdout",
          "text": [
            "----------------------------------------------------------------\n",
            "        Layer (type)               Output Shape         Param #\n",
            "================================================================\n",
            "            Conv3d-1     [-1, 1, 258, 258, 156]          24,026\n",
            "       BatchNorm3d-2     [-1, 1, 258, 258, 156]               2\n",
            "              ReLU-3     [-1, 1, 258, 258, 156]               0\n",
            "         MaxPool3d-4     [-1, 1, 258, 258, 156]               0\n",
            "            Conv3d-5     [-1, 2, 228, 228, 132]          48,052\n",
            "       BatchNorm3d-6     [-1, 2, 228, 228, 132]               4\n",
            "              ReLU-7     [-1, 2, 228, 228, 132]               0\n",
            "         MaxPool3d-8     [-1, 2, 228, 228, 132]               0\n",
            "            Conv3d-9     [-1, 4, 198, 198, 108]         192,204\n",
            "      BatchNorm3d-10     [-1, 4, 198, 198, 108]               8\n",
            "             ReLU-11     [-1, 4, 198, 198, 108]               0\n",
            "        MaxPool3d-12     [-1, 4, 198, 198, 108]               0\n",
            "           Conv3d-13      [-1, 8, 168, 168, 84]         768,808\n",
            "      BatchNorm3d-14      [-1, 8, 168, 168, 84]              16\n",
            "             ReLU-15      [-1, 8, 168, 168, 84]               0\n",
            "        MaxPool3d-16      [-1, 8, 168, 168, 84]               0\n",
            "           Conv3d-17      [-1, 4, 138, 138, 60]         768,804\n",
            "      BatchNorm3d-18      [-1, 4, 138, 138, 60]               8\n",
            "             ReLU-19      [-1, 4, 138, 138, 60]               0\n",
            "        MaxPool3d-20      [-1, 4, 138, 138, 60]               0\n",
            "           Conv3d-21      [-1, 2, 108, 108, 36]         192,202\n",
            "      BatchNorm3d-22      [-1, 2, 108, 108, 36]               4\n",
            "             ReLU-23      [-1, 2, 108, 108, 36]               0\n",
            "        MaxPool3d-24      [-1, 2, 108, 108, 36]               0\n",
            "           Conv3d-25        [-1, 1, 78, 78, 12]          48,051\n",
            "      BatchNorm3d-26        [-1, 1, 78, 78, 12]               2\n",
            "             ReLU-27        [-1, 1, 78, 78, 12]               0\n",
            "        MaxPool3d-28        [-1, 1, 78, 78, 12]               0\n",
            "================================================================\n",
            "Total params: 2,042,191\n",
            "Trainable params: 2,042,191\n",
            "Non-trainable params: 0\n",
            "----------------------------------------------------------------\n",
            "Input size (MB): 56.95\n",
            "Forward/backward pass size (MB): 1998.71\n",
            "Params size (MB): 7.79\n",
            "Estimated Total Size (MB): 2063.46\n",
            "----------------------------------------------------------------\n"
          ]
        }
      ]
    },
    {
      "cell_type": "markdown",
      "source": [
        "### Training "
      ],
      "metadata": {
        "id": "znlGiRBDjphH"
      }
    },
    {
      "cell_type": "code",
      "source": [
        "def data_split(x,y,size):\n",
        "    '''Split data into train and test'''\n",
        "    train_x = x[0:int((len(x)+1)*(1-size))] ; train_y = y[0:int((len(x)+1)*(1-size))] ; \n",
        "    test_x = x[int((len(x)+1)*(1-size)):] ; test_y = y[int((len(x)+1)*(1-size)):];\n",
        "    return train_x,train_y,test_x,test_y; \n",
        "\n",
        "train_x ,train_y , test_x , test_y = data_split(x,y,0.25);\n",
        "\n",
        "## check the Dimnesion of the data\n",
        "# print_data_dimension(train_x);print_data_dimension(train_y);print_data_dimension(test_x);print_data_dimension(test_y)"
      ],
      "metadata": {
        "id": "cFxiBCZITC9D"
      },
      "execution_count": 43,
      "outputs": []
    },
    {
      "cell_type": "code",
      "source": [
        ""
      ],
      "metadata": {
        "id": "rZQpL-JrTC_4"
      },
      "execution_count": null,
      "outputs": []
    },
    {
      "cell_type": "code",
      "source": [
        ""
      ],
      "metadata": {
        "id": "W2MFNOZ1jo4g"
      },
      "execution_count": null,
      "outputs": []
    },
    {
      "cell_type": "code",
      "source": [
        ""
      ],
      "metadata": {
        "id": "oxxfTgijTDCx"
      },
      "execution_count": null,
      "outputs": []
    },
    {
      "cell_type": "code",
      "source": [
        ""
      ],
      "metadata": {
        "id": "x48fFKHuTDFm"
      },
      "execution_count": null,
      "outputs": []
    },
    {
      "cell_type": "code",
      "source": [
        ""
      ],
      "metadata": {
        "id": "KyoiDLW8TDIx"
      },
      "execution_count": null,
      "outputs": []
    },
    {
      "cell_type": "code",
      "source": [
        ""
      ],
      "metadata": {
        "id": "Dcv9kqtoTDLU"
      },
      "execution_count": null,
      "outputs": []
    },
    {
      "cell_type": "code",
      "source": [
        ""
      ],
      "metadata": {
        "id": "baQOdUElTDO0"
      },
      "execution_count": null,
      "outputs": []
    },
    {
      "cell_type": "markdown",
      "source": [
        "### WASTE"
      ],
      "metadata": {
        "id": "_2QsIBAHTEe4"
      }
    },
    {
      "cell_type": "markdown",
      "source": [
        "###### LOSS"
      ],
      "metadata": {
        "id": "xqBWRmZJLdF7"
      }
    },
    {
      "cell_type": "code",
      "source": [
        "def mse(y_t , y_p):\n",
        "    ## To calculate the mean square error\n",
        "    print(y_t.shape); print(y_p.shape); \n",
        "    ## Normal Mean Square Error - reduce( x+y , (y_t - y_p)^2)\n",
        "    loss = torch.sum(torch.square(torch.flatten(y_t) - torch.flatten(y_p)))/len(torch.flatten(y_t))\n",
        "    return loss\n",
        "print(mse(y[1],y[0]))"
      ],
      "metadata": {
        "colab": {
          "base_uri": "https://localhost:8080/"
        },
        "id": "8NT9S1Rf3X2D",
        "outputId": "b0c2f32a-2a8c-4728-84c7-1d76d29171ac"
      },
      "execution_count": 32,
      "outputs": [
        {
          "output_type": "stream",
          "name": "stdout",
          "text": [
            "torch.Size([1, 80, 80, 13])\n",
            "torch.Size([1, 80, 80, 13])\n",
            "tensor(0.0121, device='cuda:0')\n"
          ]
        }
      ]
    },
    {
      "cell_type": "code",
      "source": [
        "input  = 180 ; output = 13 ; kernel = 26 ; ctr = 0;\n",
        "\n",
        "while(input >= output):\n",
        "    input = input - kernel; ctr = ctr+1;\n",
        "\n",
        "print(ctr)\n",
        "\n",
        "kernel = 32 , 26(height) "
      ],
      "metadata": {
        "colab": {
          "base_uri": "https://localhost:8080/"
        },
        "id": "Ew_DtGdJTC0K",
        "outputId": "c444aad6-664d-4753-ca04-5d112e8b1d29"
      },
      "execution_count": 26,
      "outputs": [
        {
          "output_type": "stream",
          "name": "stdout",
          "text": [
            "7\n"
          ]
        }
      ]
    },
    {
      "cell_type": "markdown",
      "source": [
        "##### Training\n",
        "\n"
      ],
      "metadata": {
        "id": "0XU8slieLgpt"
      }
    },
    {
      "cell_type": "code",
      "source": [
        "## Go with Lazy 3D convs LAZYCONV3Dw\n",
        "\n",
        "## The loss function to get the result\n",
        "class Normal_3D_cnn(Module):   \n",
        "    \n",
        "    def __init__(self):\n",
        "        super(Normal_3D_cnn, self).__init__()\n",
        "        \n",
        "        self.cnn_layers = Sequential(\n",
        "            # Defining a 3D convolution layer\n",
        "            LazyConv3d(1, kernel_size= 3, stride=1, padding=1),\n",
        "            BatchNorm3d(1),\n",
        "            ReLU(inplace=True),\n",
        "            MaxPool3d(kernel_size=2, stride=2),\n",
        "            # # Defining another 3D convolution layer\n",
        "            # LazyConv3d(1,kernel_size=3, stride=1, padding=1),\n",
        "            # BatchNorm3d(1),\n",
        "            # ReLU(inplace=True),\n",
        "            # MaxPool3d(kernel_size=2, stride=2),\n",
        "        )\n",
        "    def forward(self, x):\n",
        "        x = self.cnn_layers(x)\n",
        "        return x\n",
        "\n",
        "model = Normal_3D_cnn()\n",
        "print(model)\n",
        "optimizer = Adam(model.parameters(), lr=0.07)\n",
        "\n",
        "def train():\n",
        "    model.train()\n",
        "    optimizer.zero_grad()\n",
        "    y_p = model(x[0])\n",
        "    loss = mse(y[0],y_p)\n",
        "    return loss, y_p\n",
        "\n",
        "loss,y_p = train()\n",
        "print(loss,y_p.shape)\n"
      ],
      "metadata": {
        "id": "cxPoxbIGXuBh"
      },
      "execution_count": 93,
      "outputs": []
    }
  ]
}